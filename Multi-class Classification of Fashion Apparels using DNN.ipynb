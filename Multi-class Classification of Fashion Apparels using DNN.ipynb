{
 "cells": [
  {
   "cell_type": "markdown",
   "id": "950d9388",
   "metadata": {},
   "source": [
    "### \n",
    "NAME  : RAHINI DEVI S\n",
    "    \n",
    "ROLLNO: 225229129"
   ]
  },
  {
   "cell_type": "markdown",
   "id": "5fb38a78",
   "metadata": {
    "id": "5fb38a78"
   },
   "source": [
    "#### 1. Open fashion_mnist dataset from keras"
   ]
  },
  {
   "cell_type": "code",
   "execution_count": 1,
   "id": "43766f50",
   "metadata": {},
   "outputs": [],
   "source": [
    "import pandas as pd\n",
    "import numpy as np"
   ]
  },
  {
   "cell_type": "code",
   "execution_count": 2,
   "id": "cbcfe2f0",
   "metadata": {},
   "outputs": [],
   "source": [
    "import tensorflow as tf\n",
    "import keras"
   ]
  },
  {
   "cell_type": "code",
   "execution_count": 3,
   "id": "51830d04",
   "metadata": {},
   "outputs": [],
   "source": [
    "import matplotlib.pyplot as plt\n",
    "from matplotlib.pyplot import figure"
   ]
  },
  {
   "cell_type": "code",
   "execution_count": 4,
   "id": "31ec233a",
   "metadata": {},
   "outputs": [],
   "source": [
    "from sklearn.model_selection import train_test_split"
   ]
  },
  {
   "cell_type": "code",
   "execution_count": 5,
   "id": "df10e83b",
   "metadata": {},
   "outputs": [],
   "source": [
    "from tensorflow.keras.models import Sequential\n",
    "from tensorflow.keras.layers import Dense,Flatten"
   ]
  },
  {
   "cell_type": "code",
   "execution_count": 6,
   "id": "d0cb53ed",
   "metadata": {
    "id": "d0cb53ed"
   },
   "outputs": [],
   "source": [
    "dataset = tf.keras.datasets.fashion_mnist.load_data()"
   ]
  },
  {
   "cell_type": "markdown",
   "id": "e82e9a62",
   "metadata": {
    "id": "e82e9a62"
   },
   "source": [
    "#### 2. Perform basic EDA:"
   ]
  },
  {
   "cell_type": "code",
   "execution_count": 7,
   "id": "IleG5gNqi3d0",
   "metadata": {
    "id": "IleG5gNqi3d0"
   },
   "outputs": [],
   "source": [
    "(X_train, y_train), (X_test, y_test) = dataset"
   ]
  },
  {
   "cell_type": "code",
   "execution_count": 8,
   "id": "7ebbbef0",
   "metadata": {
    "colab": {
     "base_uri": "https://localhost:8080/"
    },
    "id": "7ebbbef0",
    "outputId": "fe9b819f-aa3f-4c23-d1fb-8ea291393f2a"
   },
   "outputs": [
    {
     "name": "stdout",
     "output_type": "stream",
     "text": [
      "X_train shape: (60000, 28, 28) , y_train shape: (60000,)\n",
      "X_test shape: (10000, 28, 28)  , y_test shape: (10000,)\n"
     ]
    }
   ],
   "source": [
    "print(\"X_train shape:\", X_train.shape, \", y_train shape:\", y_train.shape)\n",
    "print(\"X_test shape:\", X_test.shape, \" , y_test shape:\", y_test.shape)"
   ]
  },
  {
   "cell_type": "code",
   "execution_count": 9,
   "id": "1f73addb",
   "metadata": {
    "colab": {
     "base_uri": "https://localhost:8080/"
    },
    "id": "1f73addb",
    "outputId": "fa4fa8f6-842e-4e9a-cd8b-eb3e23ea2d34"
   },
   "outputs": [
    {
     "name": "stdout",
     "output_type": "stream",
     "text": [
      "X_train size: 47040000 , y_train size: 60000\n",
      "X_test size: 7840000 ,y_test size: 10000\n"
     ]
    }
   ],
   "source": [
    "print(\"X_train size:\", X_train.size, \", y_train size:\", y_train.size)\n",
    "print(\"X_test size:\", X_test.size, \",y_test size:\", y_test.size)"
   ]
  },
  {
   "cell_type": "code",
   "execution_count": 10,
   "id": "8jQ1MoyPj8VY",
   "metadata": {
    "colab": {
     "base_uri": "https://localhost:8080/"
    },
    "id": "8jQ1MoyPj8VY",
    "outputId": "eb94693f-ab6f-4d9a-fbdc-a674a49cb500",
    "scrolled": true
   },
   "outputs": [
    {
     "data": {
      "text/plain": [
       "array([[  0,   0,   1,   1,   0,   1,   0,   0,   0,   0,  34,  95,   0,\n",
       "          0,   0,   0,  52,  70,   0,   0,   0,   2,   1,   0,   1,   0,\n",
       "          0,   0],\n",
       "       [  0,   0,   0,   1,   1,   0,   0,  11,  59, 111, 113, 182, 169,\n",
       "        226, 255, 188, 175, 162, 105,  85,  31,   0,   0,   0,   1,   0,\n",
       "          0,   0],\n",
       "       [  0,   0,   1,   0,   0,  27,  89, 127, 127, 115, 101,  86,  81,\n",
       "         95,  91,  88,  78,  92, 115, 136, 139, 126,  73,   1,   0,   0,\n",
       "          0,   0],\n",
       "       [  0,   0,   0,   0,  49, 117, 113,  95,  94,  97,  98, 102, 101,\n",
       "         98,  91,  97, 104,  97, 101,  92,  95, 111, 128,  82,   1,   0,\n",
       "          0,   0],\n",
       "       [  0,   0,   0,  18, 118, 102,  92,  92,  92,  89,  94,  92,  86,\n",
       "         85,  88,  94,  92,  92,  95,  99,  95,  98,  89, 126,  24,   0,\n",
       "          0,   0],\n",
       "       [  0,   0,   0,  59, 127, 102,  95,  94,  97,  91,  86,  91,  92,\n",
       "         88,  86,  89,  91,  99, 102, 101,  98,  94,  99, 121,  57,   0,\n",
       "          0,   0],\n",
       "       [  0,   0,   0,  95, 118, 107,  98,  89,  84,  86,  86,  86,  89,\n",
       "         89,  85,  85,  92,  92,  89,  89,  88,  97, 107, 111,  97,   0,\n",
       "          0,   0],\n",
       "       [  0,   0,   0, 111, 126, 123, 111, 102, 102,  94,  91,  88,  89,\n",
       "         91,  86,  86,  95,  97,  91,  98, 104, 102, 111, 102, 111,   0,\n",
       "          0,   0],\n",
       "       [  0,   0,   0, 108, 107, 117, 146, 169, 111, 105,  91,  91,  88,\n",
       "         84,  88,  91,  92,  94, 105,  97, 136, 162, 104,  97, 114,   0,\n",
       "          0,   0],\n",
       "       [  0,   0,   1, 118, 104, 114, 169, 130,  85,  86,  82,  85,  85,\n",
       "         85,  86,  88,  88,  92,  92,  94,  95, 155, 104, 104, 123,   5,\n",
       "          0,   0],\n",
       "       [  0,   0,   4, 126,  97, 120,  92,  63, 104,  82,  86,  86,  84,\n",
       "         81,  82,  82,  82,  89,  84,  99,  65,  89, 130,  92, 120,  27,\n",
       "          0,   0],\n",
       "       [  0,   0,  10, 123,  95, 121,  66,  52, 117,  78,  86,  84,  76,\n",
       "         86,  88,  84,  84,  85,  81, 113,  55,  47, 149,  94, 124,  37,\n",
       "          0,   0],\n",
       "       [  0,   0,  14, 121,  98, 136,  70,   7, 140,  79,  88,  92,  81,\n",
       "         97,  85,  85,  91,  85,  79, 130,  27,  24, 160,  98, 127,  43,\n",
       "          0,   0],\n",
       "       [  0,   0,  20, 115,  91, 149,  46,   0, 130,  88,  88, 105,  89,\n",
       "         89,  85,  94,  99,  92,  82, 123,   8,  15, 160, 111, 121,  43,\n",
       "          0,   0],\n",
       "       [  0,   0,  31, 118,  89, 140,  13,   0, 113, 105,  97,  91,  94,\n",
       "         88,  94,  92,  97,  95,  89, 128,   4,   0, 159, 118, 121,  39,\n",
       "          0,   0],\n",
       "       [  0,   0,  42, 120,  86, 133,   4,   0, 110, 113, 101,  92,  89,\n",
       "         91,  89,  97,  94,  97,  89, 131,   0,   0, 155, 117, 126,  55,\n",
       "          0,   0],\n",
       "       [  0,   0,  55, 104,  86, 117,   1,   0, 127, 111,  92,  97,  94,\n",
       "         84,  98,  92,  95, 101,  92, 130,   2,   0, 134, 104, 114,  68,\n",
       "          0,   0],\n",
       "       [  0,   0,  70, 104,  97, 105,   0,   0, 130, 105,  95,  97,  95,\n",
       "         89,  97,  95,  92,  99,  98, 124,  11,   0, 113, 101, 108,  66,\n",
       "          0,   0],\n",
       "       [  0,   0,  76, 110,  99, 115,   0,   1, 131, 104,  98,  95,  98,\n",
       "         94,  95,  98,  91,  97, 102, 120,  11,   0,  91, 118, 114,  68,\n",
       "          0,   0],\n",
       "       [  0,   0,  65, 115,  99, 114,   0,  15, 139, 102,  97,  92,  95,\n",
       "         95,  94,  98,  94,  97, 102, 124,  14,   0,  79, 126, 118,  63,\n",
       "          0,   0],\n",
       "       [  0,   0,  49, 118, 105,  97,   0,  31, 139,  98, 102, 102, 101,\n",
       "         98, 101, 101, 101,  95,  94, 131,  39,   0,  82, 118, 118,  52,\n",
       "          0,   0],\n",
       "       [  0,   0,  43, 113, 108,  91,   0,  63, 137,  89, 101, 102, 107,\n",
       "        105, 107, 107, 104, 102,  91, 120,  55,   0,  82, 124, 118,  47,\n",
       "          0,   0],\n",
       "       [  0,   0,  43, 118, 114,  89,   0,  97, 121,  95, 102, 104, 107,\n",
       "        104, 104, 104,  97, 104,  95, 111,  68,   0,  79, 123, 115,  44,\n",
       "          0,   0],\n",
       "       [  0,   0,  42, 120, 118,  69,   0, 114, 111, 104, 104, 105, 108,\n",
       "        108, 108, 108, 102, 105, 104, 123,  92,   0,  75, 130, 124,  46,\n",
       "          0,   0],\n",
       "       [  0,   0,  44, 120, 117,  63,   0, 149, 124, 120, 120, 121, 124,\n",
       "        121, 118, 118, 117, 120, 115, 123, 117,   0,  69, 117, 123,  49,\n",
       "          0,   0],\n",
       "       [  0,   0,  50, 117, 117,  69,   1, 149, 136, 131, 134, 134, 136,\n",
       "        131, 130, 131, 131, 137, 133, 143, 147,   0,  75, 124, 117,  50,\n",
       "          0,   0],\n",
       "       [  0,   0,  65, 156, 150,  73,   0,   1,   0,   1,   2,   2,   2,\n",
       "          2,   2,   2,   2,   1,   2,   4,   8,   0,  81, 134, 131,  63,\n",
       "          0,   0],\n",
       "       [  0,   0,  14,  50,  33,  10,   0,   0,   0,   0,   0,   0,   0,\n",
       "          0,   0,   0,   0,   0,   0,   0,   0,   0,  20,  55,  59,  17,\n",
       "          0,   0]], dtype=uint8)"
      ]
     },
     "execution_count": 10,
     "metadata": {},
     "output_type": "execute_result"
    }
   ],
   "source": [
    "X_train[37]"
   ]
  },
  {
   "cell_type": "code",
   "execution_count": 11,
   "id": "9S5Zm-Mbj8Yt",
   "metadata": {
    "colab": {
     "base_uri": "https://localhost:8080/"
    },
    "id": "9S5Zm-Mbj8Yt",
    "outputId": "22ffb93b-5fd2-4a2b-805f-3d992f8a1681"
   },
   "outputs": [
    {
     "data": {
      "text/plain": [
       "2"
      ]
     },
     "execution_count": 11,
     "metadata": {},
     "output_type": "execute_result"
    }
   ],
   "source": [
    "y_train[37]"
   ]
  },
  {
   "cell_type": "code",
   "execution_count": 12,
   "id": "7e0823ee",
   "metadata": {},
   "outputs": [
    {
     "data": {
      "image/png": "[encoded data removed]",
      "text/plain": [
       "<Figure size 640x480 with 25 Axes>"
      ]
     },
     "metadata": {},
     "output_type": "display_data"
    }
   ],
   "source": [
    "for i in range(1, 26):\n",
    "    plt.subplot(5, 5, i)\n",
    "    plt.imshow(X_train[i], cmap=plt.get_cmap('gray'))\n",
    "plt.show()"
   ]
  },
  {
   "cell_type": "code",
   "execution_count": 13,
   "id": "39eba96f",
   "metadata": {
    "colab": {
     "base_uri": "https://localhost:8080/",
     "height": 275
    },
    "id": "39eba96f",
    "outputId": "d4bfb40e-17e3-4a7b-e5a5-28d6915bff79",
    "scrolled": false
   },
   "outputs": [
    {
     "data": {
      "image/png": "[encoded data removed]",
      "text/plain": [
       "<Figure size 480x480 with 1 Axes>"
      ]
     },
     "metadata": {},
     "output_type": "display_data"
    }
   ],
   "source": [
    "plt.matshow(X_train[37])\n",
    "plt.show()"
   ]
  },
  {
   "cell_type": "markdown",
   "id": "b2aaa9e9",
   "metadata": {
    "id": "b2aaa9e9"
   },
   "source": [
    "### 3. Normalize:"
   ]
  },
  {
   "cell_type": "code",
   "execution_count": 14,
   "id": "ZolSeTMvlzx4",
   "metadata": {
    "id": "ZolSeTMvlzx4"
   },
   "outputs": [],
   "source": [
    "X_train = X_train.reshape((X_train.shape[0], 28*28)).astype('float32')\n",
    "X_test = X_test.reshape((X_test.shape[0], 28*28)).astype('float32')"
   ]
  },
  {
   "cell_type": "code",
   "execution_count": 15,
   "id": "mzNWqS2-lz2E",
   "metadata": {
    "id": "mzNWqS2-lz2E"
   },
   "outputs": [],
   "source": [
    "X_train = X_train / 255\n",
    "X_test = X_test / 255"
   ]
  },
  {
   "cell_type": "code",
   "execution_count": 16,
   "id": "dc4813fb",
   "metadata": {
    "colab": {
     "base_uri": "https://localhost:8080/"
    },
    "id": "dc4813fb",
    "outputId": "42fbd597-1360-4ae4-a617-31a74bfe6130"
   },
   "outputs": [
    {
     "data": {
      "text/plain": [
       "array([0.        , 0.        , 0.00392157, 0.00392157, 0.        ,\n",
       "       0.00392157, 0.        , 0.        , 0.        , 0.        ,\n",
       "       0.13333334, 0.37254903, 0.        , 0.        , 0.        ,\n",
       "       0.        , 0.20392157, 0.27450982, 0.        , 0.        ,\n",
       "       0.        , 0.00784314, 0.00392157, 0.        , 0.00392157,\n",
       "       0.        , 0.        , 0.        , 0.        , 0.        ,\n",
       "       0.        , 0.00392157, 0.00392157, 0.        , 0.        ,\n",
       "       0.04313726, 0.23137255, 0.43529412, 0.44313726, 0.7137255 ,\n",
       "       0.6627451 , 0.8862745 , 1.        , 0.7372549 , 0.6862745 ,\n",
       "       0.63529414, 0.4117647 , 0.33333334, 0.12156863, 0.        ,\n",
       "       0.        , 0.        , 0.00392157, 0.        , 0.        ,\n",
       "       0.        , 0.        , 0.        , 0.00392157, 0.        ,\n",
       "       0.        , 0.10588235, 0.34901962, 0.49803922, 0.49803922,\n",
       "       0.4509804 , 0.39607844, 0.3372549 , 0.31764707, 0.37254903,\n",
       "       0.35686275, 0.34509805, 0.30588236, 0.36078432, 0.4509804 ,\n",
       "       0.53333336, 0.54509807, 0.49411765, 0.28627452, 0.00392157,\n",
       "       0.        , 0.        , 0.        , 0.        , 0.        ,\n",
       "       0.        , 0.        , 0.        , 0.19215687, 0.45882353,\n",
       "       0.44313726, 0.37254903, 0.36862746, 0.38039216, 0.38431373,\n",
       "       0.4       , 0.39607844, 0.38431373, 0.35686275, 0.38039216,\n",
       "       0.40784314, 0.38039216, 0.39607844, 0.36078432, 0.37254903,\n",
       "       0.43529412, 0.5019608 , 0.32156864, 0.00392157, 0.        ,\n",
       "       0.        , 0.        , 0.        , 0.        , 0.        ,\n",
       "       0.07058824, 0.4627451 , 0.4       , 0.36078432, 0.36078432,\n",
       "       0.36078432, 0.34901962, 0.36862746, 0.36078432, 0.3372549 ,\n",
       "       0.33333334, 0.34509805, 0.36862746, 0.36078432, 0.36078432,\n",
       "       0.37254903, 0.3882353 , 0.37254903, 0.38431373, 0.34901962,\n",
       "       0.49411765, 0.09411765, 0.        , 0.        , 0.        ,\n",
       "       0.        , 0.        , 0.        , 0.23137255, 0.49803922,\n",
       "       0.4       , 0.37254903, 0.36862746, 0.38039216, 0.35686275,\n",
       "       0.3372549 , 0.35686275, 0.36078432, 0.34509805, 0.3372549 ,\n",
       "       0.34901962, 0.35686275, 0.3882353 , 0.4       , 0.39607844,\n",
       "       0.38431373, 0.36862746, 0.3882353 , 0.4745098 , 0.22352941,\n",
       "       0.        , 0.        , 0.        , 0.        , 0.        ,\n",
       "       0.        , 0.37254903, 0.4627451 , 0.41960785, 0.38431373,\n",
       "       0.34901962, 0.32941177, 0.3372549 , 0.3372549 , 0.3372549 ,\n",
       "       0.34901962, 0.34901962, 0.33333334, 0.33333334, 0.36078432,\n",
       "       0.36078432, 0.34901962, 0.34901962, 0.34509805, 0.38039216,\n",
       "       0.41960785, 0.43529412, 0.38039216, 0.        , 0.        ,\n",
       "       0.        , 0.        , 0.        , 0.        , 0.43529412,\n",
       "       0.49411765, 0.48235294, 0.43529412, 0.4       , 0.4       ,\n",
       "       0.36862746, 0.35686275, 0.34509805, 0.34901962, 0.35686275,\n",
       "       0.3372549 , 0.3372549 , 0.37254903, 0.38039216, 0.35686275,\n",
       "       0.38431373, 0.40784314, 0.4       , 0.43529412, 0.4       ,\n",
       "       0.43529412, 0.        , 0.        , 0.        , 0.        ,\n",
       "       0.        , 0.        , 0.42352942, 0.41960785, 0.45882353,\n",
       "       0.57254905, 0.6627451 , 0.43529412, 0.4117647 , 0.35686275,\n",
       "       0.35686275, 0.34509805, 0.32941177, 0.34509805, 0.35686275,\n",
       "       0.36078432, 0.36862746, 0.4117647 , 0.38039216, 0.53333336,\n",
       "       0.63529414, 0.40784314, 0.38039216, 0.44705883, 0.        ,\n",
       "       0.        , 0.        , 0.        , 0.        , 0.00392157,\n",
       "       0.4627451 , 0.40784314, 0.44705883, 0.6627451 , 0.50980395,\n",
       "       0.33333334, 0.3372549 , 0.32156864, 0.33333334, 0.33333334,\n",
       "       0.33333334, 0.3372549 , 0.34509805, 0.34509805, 0.36078432,\n",
       "       0.36078432, 0.36862746, 0.37254903, 0.60784316, 0.40784314,\n",
       "       0.40784314, 0.48235294, 0.01960784, 0.        , 0.        ,\n",
       "       0.        , 0.        , 0.01568628, 0.49411765, 0.38039216,\n",
       "       0.47058824, 0.36078432, 0.24705882, 0.40784314, 0.32156864,\n",
       "       0.3372549 , 0.3372549 , 0.32941177, 0.31764707, 0.32156864,\n",
       "       0.32156864, 0.32156864, 0.34901962, 0.32941177, 0.3882353 ,\n",
       "       0.25490198, 0.34901962, 0.50980395, 0.36078432, 0.47058824,\n",
       "       0.10588235, 0.        , 0.        , 0.        , 0.        ,\n",
       "       0.03921569, 0.48235294, 0.37254903, 0.4745098 , 0.25882354,\n",
       "       0.20392157, 0.45882353, 0.30588236, 0.3372549 , 0.32941177,\n",
       "       0.29803923, 0.3372549 , 0.34509805, 0.32941177, 0.32941177,\n",
       "       0.33333334, 0.31764707, 0.44313726, 0.21568628, 0.18431373,\n",
       "       0.58431375, 0.36862746, 0.4862745 , 0.14509805, 0.        ,\n",
       "       0.        , 0.        , 0.        , 0.05490196, 0.4745098 ,\n",
       "       0.38431373, 0.53333336, 0.27450982, 0.02745098, 0.54901963,\n",
       "       0.30980393, 0.34509805, 0.36078432, 0.31764707, 0.38039216,\n",
       "       0.33333334, 0.33333334, 0.35686275, 0.33333334, 0.30980393,\n",
       "       0.50980395, 0.10588235, 0.09411765, 0.627451  , 0.38431373,\n",
       "       0.49803922, 0.16862746, 0.        , 0.        , 0.        ,\n",
       "       0.        , 0.07843138, 0.4509804 , 0.35686275, 0.58431375,\n",
       "       0.18039216, 0.        , 0.50980395, 0.34509805, 0.34509805,\n",
       "       0.4117647 , 0.34901962, 0.34901962, 0.33333334, 0.36862746,\n",
       "       0.3882353 , 0.36078432, 0.32156864, 0.48235294, 0.03137255,\n",
       "       0.05882353, 0.627451  , 0.43529412, 0.4745098 , 0.16862746,\n",
       "       0.        , 0.        , 0.        , 0.        , 0.12156863,\n",
       "       0.4627451 , 0.34901962, 0.54901963, 0.05098039, 0.        ,\n",
       "       0.44313726, 0.4117647 , 0.38039216, 0.35686275, 0.36862746,\n",
       "       0.34509805, 0.36862746, 0.36078432, 0.38039216, 0.37254903,\n",
       "       0.34901962, 0.5019608 , 0.01568628, 0.        , 0.62352943,\n",
       "       0.4627451 , 0.4745098 , 0.15294118, 0.        , 0.        ,\n",
       "       0.        , 0.        , 0.16470589, 0.47058824, 0.3372549 ,\n",
       "       0.52156866, 0.01568628, 0.        , 0.43137255, 0.44313726,\n",
       "       0.39607844, 0.36078432, 0.34901962, 0.35686275, 0.34901962,\n",
       "       0.38039216, 0.36862746, 0.38039216, 0.34901962, 0.5137255 ,\n",
       "       0.        , 0.        , 0.60784316, 0.45882353, 0.49411765,\n",
       "       0.21568628, 0.        , 0.        , 0.        , 0.        ,\n",
       "       0.21568628, 0.40784314, 0.3372549 , 0.45882353, 0.00392157,\n",
       "       0.        , 0.49803922, 0.43529412, 0.36078432, 0.38039216,\n",
       "       0.36862746, 0.32941177, 0.38431373, 0.36078432, 0.37254903,\n",
       "       0.39607844, 0.36078432, 0.50980395, 0.00784314, 0.        ,\n",
       "       0.5254902 , 0.40784314, 0.44705883, 0.26666668, 0.        ,\n",
       "       0.        , 0.        , 0.        , 0.27450982, 0.40784314,\n",
       "       0.38039216, 0.4117647 , 0.        , 0.        , 0.50980395,\n",
       "       0.4117647 , 0.37254903, 0.38039216, 0.37254903, 0.34901962,\n",
       "       0.38039216, 0.37254903, 0.36078432, 0.3882353 , 0.38431373,\n",
       "       0.4862745 , 0.04313726, 0.        , 0.44313726, 0.39607844,\n",
       "       0.42352942, 0.25882354, 0.        , 0.        , 0.        ,\n",
       "       0.        , 0.29803923, 0.43137255, 0.3882353 , 0.4509804 ,\n",
       "       0.        , 0.00392157, 0.5137255 , 0.40784314, 0.38431373,\n",
       "       0.37254903, 0.38431373, 0.36862746, 0.37254903, 0.38431373,\n",
       "       0.35686275, 0.38039216, 0.4       , 0.47058824, 0.04313726,\n",
       "       0.        , 0.35686275, 0.4627451 , 0.44705883, 0.26666668,\n",
       "       0.        , 0.        , 0.        , 0.        , 0.25490198,\n",
       "       0.4509804 , 0.3882353 , 0.44705883, 0.        , 0.05882353,\n",
       "       0.54509807, 0.4       , 0.38039216, 0.36078432, 0.37254903,\n",
       "       0.37254903, 0.36862746, 0.38431373, 0.36862746, 0.38039216,\n",
       "       0.4       , 0.4862745 , 0.05490196, 0.        , 0.30980393,\n",
       "       0.49411765, 0.4627451 , 0.24705882, 0.        , 0.        ,\n",
       "       0.        , 0.        , 0.19215687, 0.4627451 , 0.4117647 ,\n",
       "       0.38039216, 0.        , 0.12156863, 0.54509807, 0.38431373,\n",
       "       0.4       , 0.4       , 0.39607844, 0.38431373, 0.39607844,\n",
       "       0.39607844, 0.39607844, 0.37254903, 0.36862746, 0.5137255 ,\n",
       "       0.15294118, 0.        , 0.32156864, 0.4627451 , 0.4627451 ,\n",
       "       0.20392157, 0.        , 0.        , 0.        , 0.        ,\n",
       "       0.16862746, 0.44313726, 0.42352942, 0.35686275, 0.        ,\n",
       "       0.24705882, 0.5372549 , 0.34901962, 0.39607844, 0.4       ,\n",
       "       0.41960785, 0.4117647 , 0.41960785, 0.41960785, 0.40784314,\n",
       "       0.4       , 0.35686275, 0.47058824, 0.21568628, 0.        ,\n",
       "       0.32156864, 0.4862745 , 0.4627451 , 0.18431373, 0.        ,\n",
       "       0.        , 0.        , 0.        , 0.16862746, 0.4627451 ,\n",
       "       0.44705883, 0.34901962, 0.        , 0.38039216, 0.4745098 ,\n",
       "       0.37254903, 0.4       , 0.40784314, 0.41960785, 0.40784314,\n",
       "       0.40784314, 0.40784314, 0.38039216, 0.40784314, 0.37254903,\n",
       "       0.43529412, 0.26666668, 0.        , 0.30980393, 0.48235294,\n",
       "       0.4509804 , 0.17254902, 0.        , 0.        , 0.        ,\n",
       "       0.        , 0.16470589, 0.47058824, 0.4627451 , 0.27058825,\n",
       "       0.        , 0.44705883, 0.43529412, 0.40784314, 0.40784314,\n",
       "       0.4117647 , 0.42352942, 0.42352942, 0.42352942, 0.42352942,\n",
       "       0.4       , 0.4117647 , 0.40784314, 0.48235294, 0.36078432,\n",
       "       0.        , 0.29411766, 0.50980395, 0.4862745 , 0.18039216,\n",
       "       0.        , 0.        , 0.        , 0.        , 0.17254902,\n",
       "       0.47058824, 0.45882353, 0.24705882, 0.        , 0.58431375,\n",
       "       0.4862745 , 0.47058824, 0.47058824, 0.4745098 , 0.4862745 ,\n",
       "       0.4745098 , 0.4627451 , 0.4627451 , 0.45882353, 0.47058824,\n",
       "       0.4509804 , 0.48235294, 0.45882353, 0.        , 0.27058825,\n",
       "       0.45882353, 0.48235294, 0.19215687, 0.        , 0.        ,\n",
       "       0.        , 0.        , 0.19607843, 0.45882353, 0.45882353,\n",
       "       0.27058825, 0.00392157, 0.58431375, 0.53333336, 0.5137255 ,\n",
       "       0.5254902 , 0.5254902 , 0.53333336, 0.5137255 , 0.50980395,\n",
       "       0.5137255 , 0.5137255 , 0.5372549 , 0.52156866, 0.56078434,\n",
       "       0.5764706 , 0.        , 0.29411766, 0.4862745 , 0.45882353,\n",
       "       0.19607843, 0.        , 0.        , 0.        , 0.        ,\n",
       "       0.25490198, 0.6117647 , 0.5882353 , 0.28627452, 0.        ,\n",
       "       0.00392157, 0.        , 0.00392157, 0.00784314, 0.00784314,\n",
       "       0.00784314, 0.00784314, 0.00784314, 0.00784314, 0.00784314,\n",
       "       0.00392157, 0.00784314, 0.01568628, 0.03137255, 0.        ,\n",
       "       0.31764707, 0.5254902 , 0.5137255 , 0.24705882, 0.        ,\n",
       "       0.        , 0.        , 0.        , 0.05490196, 0.19607843,\n",
       "       0.12941177, 0.03921569, 0.        , 0.        , 0.        ,\n",
       "       0.        , 0.        , 0.        , 0.        , 0.        ,\n",
       "       0.        , 0.        , 0.        , 0.        , 0.        ,\n",
       "       0.        , 0.        , 0.        , 0.07843138, 0.21568628,\n",
       "       0.23137255, 0.06666667, 0.        , 0.        ], dtype=float32)"
      ]
     },
     "execution_count": 16,
     "metadata": {},
     "output_type": "execute_result"
    }
   ],
   "source": [
    "X_train[37]"
   ]
  },
  {
   "cell_type": "markdown",
   "id": "c53d2ea9",
   "metadata": {
    "id": "c53d2ea9"
   },
   "source": [
    "#### 4. Build a simple baseline model:"
   ]
  },
  {
   "cell_type": "code",
   "execution_count": 17,
   "id": "26aaf516",
   "metadata": {
    "id": "26aaf516"
   },
   "outputs": [],
   "source": [
    "model = Sequential()\n",
    "model.add(Dense(512, input_dim=28*28, activation='relu'))\n",
    "model.add(Dense(10, activation='softmax'))"
   ]
  },
  {
   "cell_type": "code",
   "execution_count": 18,
   "id": "yKAjAavjmWoc",
   "metadata": {
    "id": "yKAjAavjmWoc"
   },
   "outputs": [],
   "source": [
    "model.compile(loss='mean_squared_error', metrics=['accuracy'])"
   ]
  },
  {
   "cell_type": "code",
   "execution_count": 19,
   "id": "ZGK68covmWqc",
   "metadata": {
    "colab": {
     "base_uri": "https://localhost:8080/"
    },
    "id": "ZGK68covmWqc",
    "outputId": "b98a5dfc-b76c-4c6b-d802-e6b353afb07f"
   },
   "outputs": [
    {
     "name": "stdout",
     "output_type": "stream",
     "text": [
      "Epoch 1/10\n",
      "1875/1875 [==============================] - 23s 12ms/step - loss: 27.6101 - accuracy: 0.1047\n",
      "Epoch 2/10\n",
      "1875/1875 [==============================] - 21s 11ms/step - loss: 27.6101 - accuracy: 0.1013\n",
      "Epoch 3/10\n",
      "1875/1875 [==============================] - 21s 11ms/step - loss: 27.6101 - accuracy: 0.0997\n",
      "Epoch 4/10\n",
      "1875/1875 [==============================] - 21s 11ms/step - loss: 27.6101 - accuracy: 0.1004\n",
      "Epoch 5/10\n",
      "1875/1875 [==============================] - 21s 11ms/step - loss: 27.6101 - accuracy: 0.1001\n",
      "Epoch 6/10\n",
      "1875/1875 [==============================] - 25s 13ms/step - loss: 27.6101 - accuracy: 0.1001\n",
      "Epoch 7/10\n",
      "1875/1875 [==============================] - 24s 13ms/step - loss: 27.6101 - accuracy: 0.1005\n",
      "Epoch 8/10\n",
      "1875/1875 [==============================] - 25s 13ms/step - loss: 27.6101 - accuracy: 0.1001\n",
      "Epoch 9/10\n",
      "1875/1875 [==============================] - 19s 10ms/step - loss: 27.6101 - accuracy: 0.0991\n",
      "Epoch 10/10\n",
      "1875/1875 [==============================] - 907s 484ms/step - loss: 27.6101 - accuracy: 0.0997\n"
     ]
    },
    {
     "data": {
      "text/plain": [
       "<keras.src.callbacks.History at 0x1f7b9ab0ad0>"
      ]
     },
     "execution_count": 19,
     "metadata": {},
     "output_type": "execute_result"
    }
   ],
   "source": [
    "model.fit(X_train, y_train, epochs=10)"
   ]
  },
  {
   "cell_type": "code",
   "execution_count": 20,
   "id": "oMWTr11BmWuM",
   "metadata": {
    "colab": {
     "base_uri": "https://localhost:8080/"
    },
    "id": "oMWTr11BmWuM",
    "outputId": "bd2adc43-0f90-4b4a-e7d2-0a480b125e4a"
   },
   "outputs": [
    {
     "name": "stdout",
     "output_type": "stream",
     "text": [
      "313/313 [==============================] - 2s 5ms/step - loss: 27.6100 - accuracy: 0.1015\n"
     ]
    },
    {
     "data": {
      "text/plain": [
       "[27.609987258911133, 0.1014999970793724]"
      ]
     },
     "execution_count": 20,
     "metadata": {},
     "output_type": "execute_result"
    }
   ],
   "source": [
    "model.evaluate(X_test, y_test)"
   ]
  },
  {
   "cell_type": "code",
   "execution_count": 21,
   "id": "8b65288f",
   "metadata": {
    "colab": {
     "base_uri": "https://localhost:8080/"
    },
    "id": "8b65288f",
    "outputId": "b55f8d65-f8ba-41b4-f780-9d34300d06bf",
    "scrolled": true
   },
   "outputs": [
    {
     "name": "stdout",
     "output_type": "stream",
     "text": [
      "Model: \"sequential\"\n",
      "_________________________________________________________________\n",
      " Layer (type)                Output Shape              Param #   \n",
      "=================================================================\n",
      " dense (Dense)               (None, 512)               401920    \n",
      "                                                                 \n",
      " dense_1 (Dense)             (None, 10)                5130      \n",
      "                                                                 \n",
      "=================================================================\n",
      "Total params: 407050 (1.55 MB)\n",
      "Trainable params: 407050 (1.55 MB)\n",
      "Non-trainable params: 0 (0.00 Byte)\n",
      "_________________________________________________________________\n"
     ]
    }
   ],
   "source": [
    "model.summary()"
   ]
  },
  {
   "cell_type": "code",
   "execution_count": 22,
   "id": "37829074",
   "metadata": {},
   "outputs": [],
   "source": [
    "X_train, X_val, y_train, y_val = train_test_split(X_train, y_train, test_size=0.2, random_state=1)"
   ]
  },
  {
   "cell_type": "code",
   "execution_count": 23,
   "id": "38c9e051",
   "metadata": {},
   "outputs": [
    {
     "name": "stdout",
     "output_type": "stream",
     "text": [
      "Epoch 1/10\n",
      "1500/1500 [==============================] - 20s 13ms/step - loss: 27.5856 - accuracy: 0.0999 - val_loss: 27.7079 - val_accuracy: 0.1003\n",
      "Epoch 2/10\n",
      "1500/1500 [==============================] - 23s 15ms/step - loss: 27.5856 - accuracy: 0.1004 - val_loss: 27.7079 - val_accuracy: 0.0995\n",
      "Epoch 3/10\n",
      "1500/1500 [==============================] - 23s 15ms/step - loss: 27.5856 - accuracy: 0.1001 - val_loss: 27.7079 - val_accuracy: 0.0996\n",
      "Epoch 4/10\n",
      "1500/1500 [==============================] - 21s 14ms/step - loss: 27.5856 - accuracy: 0.1002 - val_loss: 27.7079 - val_accuracy: 0.0993\n",
      "Epoch 5/10\n",
      "1500/1500 [==============================] - 19s 13ms/step - loss: 27.5856 - accuracy: 0.1012 - val_loss: 27.7079 - val_accuracy: 0.1002\n",
      "Epoch 6/10\n",
      "1500/1500 [==============================] - 18s 12ms/step - loss: 27.5856 - accuracy: 0.1011 - val_loss: 27.7079 - val_accuracy: 0.1065\n",
      "Epoch 7/10\n",
      "1500/1500 [==============================] - 23s 15ms/step - loss: 27.5856 - accuracy: 0.1024 - val_loss: 27.7079 - val_accuracy: 0.1032\n",
      "Epoch 8/10\n",
      "1500/1500 [==============================] - 22s 15ms/step - loss: 27.5856 - accuracy: 0.1019 - val_loss: 27.7079 - val_accuracy: 0.1025\n",
      "Epoch 9/10\n",
      "1500/1500 [==============================] - 24s 16ms/step - loss: 27.5856 - accuracy: 0.1023 - val_loss: 27.7079 - val_accuracy: 0.1041\n",
      "Epoch 10/10\n",
      "1500/1500 [==============================] - 20s 13ms/step - loss: 27.5856 - accuracy: 0.1036 - val_loss: 27.7079 - val_accuracy: 0.1002\n"
     ]
    }
   ],
   "source": [
    "history = model.fit(X_train,y_train,epochs=10,validation_data=(X_val, y_val))"
   ]
  },
  {
   "cell_type": "code",
   "execution_count": 24,
   "id": "19a9b112",
   "metadata": {},
   "outputs": [
    {
     "name": "stdout",
     "output_type": "stream",
     "text": [
      "dict_keys(['loss', 'accuracy', 'val_loss', 'val_accuracy'])\n"
     ]
    }
   ],
   "source": [
    "print(history.history.keys())"
   ]
  },
  {
   "cell_type": "code",
   "execution_count": 25,
   "id": "9906a636",
   "metadata": {},
   "outputs": [
    {
     "data": {
      "image/png": "[encoded data removed]",
      "text/plain": [
       "<Figure size 1000x400 with 1 Axes>"
      ]
     },
     "metadata": {},
     "output_type": "display_data"
    }
   ],
   "source": [
    "figure(figsize=(10, 4))\n",
    "plt.plot(history.history['accuracy'])\n",
    "plt.plot(history.history['val_accuracy'])\n",
    "plt.title('model accuracy')\n",
    "plt.ylabel('accuracy')\n",
    "plt.xlabel('epoch')\n",
    "plt.legend(['train', 'test'], loc='upper left')\n",
    "plt.show()"
   ]
  },
  {
   "cell_type": "markdown",
   "id": "FlhkFxqYp0V3",
   "metadata": {
    "id": "FlhkFxqYp0V3"
   },
   "source": [
    "#### 5. Performance Analysis:"
   ]
  },
  {
   "cell_type": "markdown",
   "id": "z5NF3RIVu_Wr",
   "metadata": {
    "id": "z5NF3RIVu_Wr"
   },
   "source": [
    "##### 2 layers"
   ]
  },
  {
   "cell_type": "code",
   "execution_count": 26,
   "id": "AQwtrYz4uFOX",
   "metadata": {
    "id": "AQwtrYz4uFOX"
   },
   "outputs": [],
   "source": [
    "#128 nodes\n",
    "\n",
    "model01 = Sequential()\n",
    "model01.add(Dense(128, input_dim=28*28, activation='relu'))\n",
    "model01.add(Dense(128, input_dim=28*28, activation='relu'))\n",
    "model01.add(Dense(10,activation='softmax'))\n",
    "model01.compile(loss='mean_squared_error', metrics=['accuracy'])"
   ]
  },
  {
   "cell_type": "code",
   "execution_count": 27,
   "id": "2773cbed",
   "metadata": {},
   "outputs": [
    {
     "name": "stdout",
     "output_type": "stream",
     "text": [
      "Epoch 1/10\n",
      "1500/1500 [==============================] - 8s 5ms/step - loss: 27.5856 - accuracy: 0.1043\n",
      "Epoch 2/10\n",
      "1500/1500 [==============================] - 10s 6ms/step - loss: 27.5856 - accuracy: 0.1005\n",
      "Epoch 3/10\n",
      "1500/1500 [==============================] - 9s 6ms/step - loss: 27.5856 - accuracy: 0.1008\n",
      "Epoch 4/10\n",
      "1500/1500 [==============================] - 8s 5ms/step - loss: 27.5856 - accuracy: 0.1008\n",
      "Epoch 5/10\n",
      "1500/1500 [==============================] - 9s 6ms/step - loss: 27.5856 - accuracy: 0.1007\n",
      "Epoch 6/10\n",
      "1500/1500 [==============================] - 9s 6ms/step - loss: 27.5856 - accuracy: 0.1003\n",
      "Epoch 7/10\n",
      "1500/1500 [==============================] - 10s 6ms/step - loss: 27.5856 - accuracy: 0.1005\n",
      "Epoch 8/10\n",
      "1500/1500 [==============================] - 8s 5ms/step - loss: 27.5856 - accuracy: 0.1000\n",
      "Epoch 9/10\n",
      "1500/1500 [==============================] - 7s 5ms/step - loss: 27.5856 - accuracy: 0.0988\n",
      "Epoch 10/10\n",
      "1500/1500 [==============================] - 9s 6ms/step - loss: 27.5856 - accuracy: 0.0968\n"
     ]
    },
    {
     "data": {
      "text/plain": [
       "<keras.src.callbacks.History at 0x1f7bc876490>"
      ]
     },
     "execution_count": 27,
     "metadata": {},
     "output_type": "execute_result"
    }
   ],
   "source": [
    "model01.fit(X_train,y_train,epochs=10)"
   ]
  },
  {
   "cell_type": "code",
   "execution_count": 28,
   "id": "70177c0c",
   "metadata": {},
   "outputs": [
    {
     "name": "stdout",
     "output_type": "stream",
     "text": [
      "313/313 [==============================] - 1s 3ms/step - loss: 27.6100 - accuracy: 0.1006\n"
     ]
    },
    {
     "data": {
      "text/plain": [
       "[27.609987258911133, 0.1005999967455864]"
      ]
     },
     "execution_count": 28,
     "metadata": {},
     "output_type": "execute_result"
    }
   ],
   "source": [
    "model01.evaluate(X_test,y_test)"
   ]
  },
  {
   "cell_type": "code",
   "execution_count": 29,
   "id": "lPiHQNxxuFLY",
   "metadata": {
    "id": "lPiHQNxxuFLY"
   },
   "outputs": [],
   "source": [
    "#256 nodes\n",
    "\n",
    "model02 = Sequential()\n",
    "model02.add(Dense(256, input_dim=28*28, activation='relu'))\n",
    "model02.add(Dense(256, input_dim=28*28, activation='relu'))\n",
    "model02.add(Dense(10,activation='softmax'))\n",
    "model02.compile(loss='mean_squared_error', metrics=['accuracy'])"
   ]
  },
  {
   "cell_type": "code",
   "execution_count": 30,
   "id": "e66dbd0b",
   "metadata": {},
   "outputs": [
    {
     "name": "stdout",
     "output_type": "stream",
     "text": [
      "Epoch 1/10\n",
      "1500/1500 [==============================] - 13s 8ms/step - loss: 27.5856 - accuracy: 0.1011\n",
      "Epoch 2/10\n",
      "1500/1500 [==============================] - 12s 8ms/step - loss: 27.5856 - accuracy: 0.0954\n",
      "Epoch 3/10\n",
      "1500/1500 [==============================] - 11s 7ms/step - loss: 27.5856 - accuracy: 0.0930\n",
      "Epoch 4/10\n",
      "1500/1500 [==============================] - 13s 9ms/step - loss: 27.5856 - accuracy: 0.0925\n",
      "Epoch 5/10\n",
      "1500/1500 [==============================] - 11s 7ms/step - loss: 27.5856 - accuracy: 0.0935\n",
      "Epoch 6/10\n",
      "1500/1500 [==============================] - 11s 8ms/step - loss: 27.5856 - accuracy: 0.0956\n",
      "Epoch 7/10\n",
      "1500/1500 [==============================] - 12s 8ms/step - loss: 27.5856 - accuracy: 0.0956\n",
      "Epoch 8/10\n",
      "1500/1500 [==============================] - 11s 7ms/step - loss: 27.5856 - accuracy: 0.0963\n",
      "Epoch 9/10\n",
      "1500/1500 [==============================] - 11s 7ms/step - loss: 27.5856 - accuracy: 0.0961\n",
      "Epoch 10/10\n",
      "1500/1500 [==============================] - 10s 7ms/step - loss: 27.5856 - accuracy: 0.0959\n"
     ]
    },
    {
     "data": {
      "text/plain": [
       "<keras.src.callbacks.History at 0x1f7bd10a290>"
      ]
     },
     "execution_count": 30,
     "metadata": {},
     "output_type": "execute_result"
    }
   ],
   "source": [
    "model02.fit(X_train,y_train,epochs=10)"
   ]
  },
  {
   "cell_type": "code",
   "execution_count": 31,
   "id": "081fd836",
   "metadata": {},
   "outputs": [
    {
     "name": "stdout",
     "output_type": "stream",
     "text": [
      "313/313 [==============================] - 1s 4ms/step - loss: 27.6100 - accuracy: 0.0953\n"
     ]
    },
    {
     "data": {
      "text/plain": [
       "[27.609987258911133, 0.09529999643564224]"
      ]
     },
     "execution_count": 31,
     "metadata": {},
     "output_type": "execute_result"
    }
   ],
   "source": [
    "model02.evaluate(X_test,y_test)"
   ]
  },
  {
   "cell_type": "code",
   "execution_count": 32,
   "id": "Mx_Rb333uFJI",
   "metadata": {
    "colab": {
     "base_uri": "https://localhost:8080/"
    },
    "id": "Mx_Rb333uFJI",
    "outputId": "7886b4df-a1fa-40fe-aba9-940f7ca3b65b"
   },
   "outputs": [],
   "source": [
    "#512 nodes\n",
    "\n",
    "model03 = Sequential()\n",
    "model03.add(Dense(512, input_dim=28*28, activation='relu'))\n",
    "model03.add(Dense(512, input_dim=28*28, activation='relu'))\n",
    "model03.add(Dense(10,activation='softmax'))\n",
    "model03.compile(loss='mean_squared_error', metrics=['accuracy'])"
   ]
  },
  {
   "cell_type": "code",
   "execution_count": 33,
   "id": "0e68d713",
   "metadata": {},
   "outputs": [
    {
     "name": "stdout",
     "output_type": "stream",
     "text": [
      "Epoch 1/10\n",
      "1500/1500 [==============================] - 27s 18ms/step - loss: 27.5856 - accuracy: 0.0957\n",
      "Epoch 2/10\n",
      "1500/1500 [==============================] - 28s 19ms/step - loss: 27.5856 - accuracy: 0.1074\n",
      "Epoch 3/10\n",
      "1500/1500 [==============================] - 27s 18ms/step - loss: 27.5856 - accuracy: 0.1078\n",
      "Epoch 4/10\n",
      "1500/1500 [==============================] - 26s 17ms/step - loss: 27.5856 - accuracy: 0.1092\n",
      "Epoch 5/10\n",
      "1500/1500 [==============================] - 28s 19ms/step - loss: 27.5856 - accuracy: 0.1086\n",
      "Epoch 6/10\n",
      "1500/1500 [==============================] - 25s 17ms/step - loss: 27.5856 - accuracy: 0.1087\n",
      "Epoch 7/10\n",
      "1500/1500 [==============================] - 27s 18ms/step - loss: 27.5856 - accuracy: 0.1072\n",
      "Epoch 8/10\n",
      "1500/1500 [==============================] - 29s 20ms/step - loss: 27.5856 - accuracy: 0.1064\n",
      "Epoch 9/10\n",
      "1500/1500 [==============================] - 26s 18ms/step - loss: 27.5856 - accuracy: 0.1032\n",
      "Epoch 10/10\n",
      "1500/1500 [==============================] - 29s 19ms/step - loss: 27.5856 - accuracy: 0.1014\n"
     ]
    },
    {
     "data": {
      "text/plain": [
       "<keras.src.callbacks.History at 0x1f7bd490d90>"
      ]
     },
     "execution_count": 33,
     "metadata": {},
     "output_type": "execute_result"
    }
   ],
   "source": [
    "model03.fit(X_train,y_train,epochs=10)"
   ]
  },
  {
   "cell_type": "code",
   "execution_count": 34,
   "id": "f54331c5",
   "metadata": {},
   "outputs": [
    {
     "name": "stdout",
     "output_type": "stream",
     "text": [
      "313/313 [==============================] - 3s 7ms/step - loss: 27.6100 - accuracy: 0.1045\n"
     ]
    },
    {
     "data": {
      "text/plain": [
       "[27.609987258911133, 0.10450000315904617]"
      ]
     },
     "execution_count": 34,
     "metadata": {},
     "output_type": "execute_result"
    }
   ],
   "source": [
    "model03.evaluate(X_test,y_test)"
   ]
  },
  {
   "cell_type": "markdown",
   "id": "W9MesNKpvDkr",
   "metadata": {
    "id": "W9MesNKpvDkr"
   },
   "source": [
    "##### 3 layers"
   ]
  },
  {
   "cell_type": "code",
   "execution_count": 35,
   "id": "ybb-vxCBuz_p",
   "metadata": {
    "id": "ybb-vxCBuz_p"
   },
   "outputs": [],
   "source": [
    "#128 nodes\n",
    "\n",
    "model04 = Sequential()\n",
    "model04.add(Dense(128, input_dim=28*28, activation='relu'))\n",
    "model04.add(Dense(128, input_dim=28*28, activation='relu'))\n",
    "model04.add(Dense(128, input_dim=28*28, activation='relu'))\n",
    "model04.add(Dense(10,activation='softmax'))\n",
    "model04.compile(loss='mean_squared_error', metrics=['accuracy'])"
   ]
  },
  {
   "cell_type": "code",
   "execution_count": 36,
   "id": "5a0db166",
   "metadata": {},
   "outputs": [
    {
     "name": "stdout",
     "output_type": "stream",
     "text": [
      "Epoch 1/10\n",
      "1500/1500 [==============================] - 11s 7ms/step - loss: 27.5856 - accuracy: 0.1166\n",
      "Epoch 2/10\n",
      "1500/1500 [==============================] - 7s 5ms/step - loss: 27.5856 - accuracy: 0.1115\n",
      "Epoch 3/10\n",
      "1500/1500 [==============================] - 7s 5ms/step - loss: 27.5856 - accuracy: 0.1153\n",
      "Epoch 4/10\n",
      "1500/1500 [==============================] - 7s 5ms/step - loss: 27.5856 - accuracy: 0.1171\n",
      "Epoch 5/10\n",
      "1500/1500 [==============================] - 7s 5ms/step - loss: 27.5856 - accuracy: 0.1181\n",
      "Epoch 6/10\n",
      "1500/1500 [==============================] - 7s 5ms/step - loss: 27.5856 - accuracy: 0.1155\n",
      "Epoch 7/10\n",
      "1500/1500 [==============================] - 7s 5ms/step - loss: 27.5856 - accuracy: 0.1115\n",
      "Epoch 8/10\n",
      "1500/1500 [==============================] - 7s 5ms/step - loss: 27.5856 - accuracy: 0.1096\n",
      "Epoch 9/10\n",
      "1500/1500 [==============================] - 7s 5ms/step - loss: 27.5856 - accuracy: 0.1069\n",
      "Epoch 10/10\n",
      "1500/1500 [==============================] - 7s 5ms/step - loss: 27.5856 - accuracy: 0.1059\n"
     ]
    },
    {
     "data": {
      "text/plain": [
       "<keras.src.callbacks.History at 0x1f7bdd9f3d0>"
      ]
     },
     "execution_count": 36,
     "metadata": {},
     "output_type": "execute_result"
    }
   ],
   "source": [
    "model04.fit(X_train,y_train,epochs=10)"
   ]
  },
  {
   "cell_type": "code",
   "execution_count": 37,
   "id": "a43a8f20",
   "metadata": {},
   "outputs": [
    {
     "name": "stdout",
     "output_type": "stream",
     "text": [
      "313/313 [==============================] - 1s 3ms/step - loss: 27.6100 - accuracy: 0.1111\n"
     ]
    },
    {
     "data": {
      "text/plain": [
       "[27.609987258911133, 0.11110000312328339]"
      ]
     },
     "execution_count": 37,
     "metadata": {},
     "output_type": "execute_result"
    }
   ],
   "source": [
    "model04.evaluate(X_test,y_test)"
   ]
  },
  {
   "cell_type": "code",
   "execution_count": 38,
   "id": "T1jhXb9Muz9f",
   "metadata": {
    "id": "T1jhXb9Muz9f"
   },
   "outputs": [],
   "source": [
    "#256 nodes\n",
    "\n",
    "model05 = Sequential()\n",
    "model05.add(Dense(256, input_dim=28*28, activation='relu'))\n",
    "model05.add(Dense(256, input_dim=28*28, activation='relu'))\n",
    "model05.add(Dense(256, input_dim=28*28, activation='relu'))\n",
    "model05.add(Dense(10,activation='softmax'))\n",
    "model05.compile(loss='mean_squared_error', metrics=['accuracy'])"
   ]
  },
  {
   "cell_type": "code",
   "execution_count": 39,
   "id": "08af25b8",
   "metadata": {},
   "outputs": [
    {
     "name": "stdout",
     "output_type": "stream",
     "text": [
      "Epoch 1/10\n",
      "1500/1500 [==============================] - 13s 8ms/step - loss: 27.5856 - accuracy: 0.0875\n",
      "Epoch 2/10\n",
      "1500/1500 [==============================] - 11s 7ms/step - loss: 27.5856 - accuracy: 0.0859\n",
      "Epoch 3/10\n",
      "1500/1500 [==============================] - 11s 7ms/step - loss: 27.5856 - accuracy: 0.0883\n",
      "Epoch 4/10\n",
      "1500/1500 [==============================] - 11s 7ms/step - loss: 27.5856 - accuracy: 0.0918\n",
      "Epoch 5/10\n",
      "1500/1500 [==============================] - 11s 7ms/step - loss: 27.5856 - accuracy: 0.0931\n",
      "Epoch 6/10\n",
      "1500/1500 [==============================] - 11s 7ms/step - loss: 27.5856 - accuracy: 0.0962\n",
      "Epoch 7/10\n",
      "1500/1500 [==============================] - 11s 8ms/step - loss: 27.5856 - accuracy: 0.0962\n",
      "Epoch 8/10\n",
      "1500/1500 [==============================] - 11s 7ms/step - loss: 27.5856 - accuracy: 0.0963\n",
      "Epoch 9/10\n",
      "1500/1500 [==============================] - 11s 7ms/step - loss: 27.5856 - accuracy: 0.0956\n",
      "Epoch 10/10\n",
      "1500/1500 [==============================] - 11s 7ms/step - loss: 27.5856 - accuracy: 0.0954\n"
     ]
    },
    {
     "data": {
      "text/plain": [
       "<keras.src.callbacks.History at 0x1f7b90e60d0>"
      ]
     },
     "execution_count": 39,
     "metadata": {},
     "output_type": "execute_result"
    }
   ],
   "source": [
    "model05.fit(X_train,y_train,epochs=10)"
   ]
  },
  {
   "cell_type": "code",
   "execution_count": 40,
   "id": "19755e85",
   "metadata": {},
   "outputs": [
    {
     "name": "stdout",
     "output_type": "stream",
     "text": [
      "313/313 [==============================] - 2s 4ms/step - loss: 27.6100 - accuracy: 0.0923\n"
     ]
    },
    {
     "data": {
      "text/plain": [
       "[27.609987258911133, 0.09229999780654907]"
      ]
     },
     "execution_count": 40,
     "metadata": {},
     "output_type": "execute_result"
    }
   ],
   "source": [
    "model05.evaluate(X_test,y_test)"
   ]
  },
  {
   "cell_type": "code",
   "execution_count": 41,
   "id": "wZvPd7y2uFRY",
   "metadata": {
    "id": "wZvPd7y2uFRY"
   },
   "outputs": [],
   "source": [
    "#512 nodes\n",
    "\n",
    "model06 = Sequential()\n",
    "model06.add(Dense(512, input_dim=28*28, activation='relu'))\n",
    "model06.add(Dense(512, input_dim=28*28, activation='relu'))\n",
    "model06.add(Dense(512, input_dim=28*28, activation='relu'))\n",
    "model06.add(Dense(10,activation='softmax'))\n",
    "model06.compile(loss='mean_squared_error', metrics=['accuracy'])"
   ]
  },
  {
   "cell_type": "code",
   "execution_count": 42,
   "id": "8c145135",
   "metadata": {},
   "outputs": [
    {
     "name": "stdout",
     "output_type": "stream",
     "text": [
      "Epoch 1/10\n",
      "1500/1500 [==============================] - 34s 22ms/step - loss: 27.5856 - accuracy: 0.1037\n",
      "Epoch 2/10\n",
      "1500/1500 [==============================] - 34s 22ms/step - loss: 27.5856 - accuracy: 0.0984\n",
      "Epoch 3/10\n",
      "1500/1500 [==============================] - 33s 22ms/step - loss: 27.5856 - accuracy: 0.0988\n",
      "Epoch 4/10\n",
      "1500/1500 [==============================] - 34s 22ms/step - loss: 27.5856 - accuracy: 0.0980\n",
      "Epoch 5/10\n",
      "1500/1500 [==============================] - 34s 23ms/step - loss: 27.5856 - accuracy: 0.1002\n",
      "Epoch 6/10\n",
      "1500/1500 [==============================] - 34s 22ms/step - loss: 27.5856 - accuracy: 0.1001\n",
      "Epoch 7/10\n",
      "1500/1500 [==============================] - 33s 22ms/step - loss: 27.5856 - accuracy: 0.1000\n",
      "Epoch 8/10\n",
      "1500/1500 [==============================] - 35s 23ms/step - loss: 27.5856 - accuracy: 0.0998\n",
      "Epoch 9/10\n",
      "1500/1500 [==============================] - 35s 23ms/step - loss: 27.5856 - accuracy: 0.0994\n",
      "Epoch 10/10\n",
      "1500/1500 [==============================] - 35s 23ms/step - loss: 27.5856 - accuracy: 0.0992\n"
     ]
    },
    {
     "data": {
      "text/plain": [
       "<keras.src.callbacks.History at 0x1f7bc97e490>"
      ]
     },
     "execution_count": 42,
     "metadata": {},
     "output_type": "execute_result"
    }
   ],
   "source": [
    "model06.fit(X_train,y_train,epochs=10)"
   ]
  },
  {
   "cell_type": "code",
   "execution_count": 43,
   "id": "feb52a11",
   "metadata": {},
   "outputs": [
    {
     "name": "stdout",
     "output_type": "stream",
     "text": [
      "313/313 [==============================] - 3s 9ms/step - loss: 27.6100 - accuracy: 0.0996\n"
     ]
    },
    {
     "data": {
      "text/plain": [
       "[27.609987258911133, 0.09960000216960907]"
      ]
     },
     "execution_count": 43,
     "metadata": {},
     "output_type": "execute_result"
    }
   ],
   "source": [
    "model06.evaluate(X_test,y_test)"
   ]
  },
  {
   "cell_type": "markdown",
   "id": "-b-PdtahvbcC",
   "metadata": {
    "id": "-b-PdtahvbcC"
   },
   "source": [
    "##### 4 layers"
   ]
  },
  {
   "cell_type": "code",
   "execution_count": 44,
   "id": "KnbfChb8u0GH",
   "metadata": {
    "id": "KnbfChb8u0GH"
   },
   "outputs": [],
   "source": [
    "#128 nodes\n",
    "\n",
    "model07 = Sequential()\n",
    "model07.add(Dense(128, input_dim=28*28, activation='relu'))\n",
    "model07.add(Dense(128, input_dim=28*28, activation='relu'))\n",
    "model07.add(Dense(128, input_dim=28*28, activation='relu'))\n",
    "model07.add(Dense(128, input_dim=28*28, activation='relu'))\n",
    "model07.add(Dense(10,activation='softmax'))\n",
    "model07.compile(loss='mean_squared_error', metrics=['accuracy'])"
   ]
  },
  {
   "cell_type": "code",
   "execution_count": 45,
   "id": "a23c2db6",
   "metadata": {},
   "outputs": [
    {
     "name": "stdout",
     "output_type": "stream",
     "text": [
      "Epoch 1/10\n",
      "1500/1500 [==============================] - 8s 5ms/step - loss: 27.5856 - accuracy: 0.0931\n",
      "Epoch 2/10\n",
      "1500/1500 [==============================] - 7s 5ms/step - loss: 27.5856 - accuracy: 0.0908\n",
      "Epoch 3/10\n",
      "1500/1500 [==============================] - 7s 5ms/step - loss: 27.5856 - accuracy: 0.0907\n",
      "Epoch 4/10\n",
      "1500/1500 [==============================] - 7s 5ms/step - loss: 27.5856 - accuracy: 0.0901\n",
      "Epoch 5/10\n",
      "1500/1500 [==============================] - 7s 5ms/step - loss: 27.5856 - accuracy: 0.0900\n",
      "Epoch 6/10\n",
      "1500/1500 [==============================] - 7s 5ms/step - loss: 27.5856 - accuracy: 0.0904\n",
      "Epoch 7/10\n",
      "1500/1500 [==============================] - 7s 5ms/step - loss: 27.5856 - accuracy: 0.0907\n",
      "Epoch 8/10\n",
      "1500/1500 [==============================] - 7s 5ms/step - loss: 27.5856 - accuracy: 0.0907\n",
      "Epoch 9/10\n",
      "1500/1500 [==============================] - 7s 5ms/step - loss: 27.5856 - accuracy: 0.0906\n",
      "Epoch 10/10\n",
      "1500/1500 [==============================] - 7s 5ms/step - loss: 27.5856 - accuracy: 0.0904\n"
     ]
    },
    {
     "data": {
      "text/plain": [
       "<keras.src.callbacks.History at 0x1f7c381de90>"
      ]
     },
     "execution_count": 45,
     "metadata": {},
     "output_type": "execute_result"
    }
   ],
   "source": [
    "model07.fit(X_train,y_train,epochs=10)"
   ]
  },
  {
   "cell_type": "code",
   "execution_count": 46,
   "id": "37505026",
   "metadata": {},
   "outputs": [
    {
     "name": "stdout",
     "output_type": "stream",
     "text": [
      "313/313 [==============================] - 1s 3ms/step - loss: 27.6100 - accuracy: 0.0915\n"
     ]
    },
    {
     "data": {
      "text/plain": [
       "[27.609987258911133, 0.09149999916553497]"
      ]
     },
     "execution_count": 46,
     "metadata": {},
     "output_type": "execute_result"
    }
   ],
   "source": [
    "model07.evaluate(X_test,y_test)"
   ]
  },
  {
   "cell_type": "code",
   "execution_count": 47,
   "id": "E3Ufy1Vfvh5r",
   "metadata": {
    "id": "E3Ufy1Vfvh5r"
   },
   "outputs": [],
   "source": [
    "#256 nodes\n",
    "\n",
    "model08 = Sequential()\n",
    "model08.add(Dense(256, input_dim=28*28, activation='relu'))\n",
    "model08.add(Dense(256, input_dim=28*28, activation='relu'))\n",
    "model08.add(Dense(256, input_dim=28*28, activation='relu'))\n",
    "model08.add(Dense(256, input_dim=28*28, activation='relu'))\n",
    "model08.add(Dense(10,activation='softmax'))\n",
    "model08.compile(loss='mean_squared_error', metrics=['accuracy'])"
   ]
  },
  {
   "cell_type": "code",
   "execution_count": 48,
   "id": "63017668",
   "metadata": {},
   "outputs": [
    {
     "name": "stdout",
     "output_type": "stream",
     "text": [
      "Epoch 1/10\n",
      "1500/1500 [==============================] - 13s 8ms/step - loss: 27.5856 - accuracy: 0.0816\n",
      "Epoch 2/10\n",
      "1500/1500 [==============================] - 12s 8ms/step - loss: 27.5856 - accuracy: 0.0823\n",
      "Epoch 3/10\n",
      "1500/1500 [==============================] - 12s 8ms/step - loss: 27.5856 - accuracy: 0.0844\n",
      "Epoch 4/10\n",
      "1500/1500 [==============================] - 12s 8ms/step - loss: 27.5856 - accuracy: 0.0851\n",
      "Epoch 5/10\n",
      "1500/1500 [==============================] - 12s 8ms/step - loss: 27.5856 - accuracy: 0.0860\n",
      "Epoch 6/10\n",
      "1500/1500 [==============================] - 12s 8ms/step - loss: 27.5856 - accuracy: 0.0872\n",
      "Epoch 7/10\n",
      "1500/1500 [==============================] - 12s 8ms/step - loss: 27.5856 - accuracy: 0.0867\n",
      "Epoch 8/10\n",
      "1500/1500 [==============================] - 13s 9ms/step - loss: 27.5856 - accuracy: 0.0870\n",
      "Epoch 9/10\n",
      "1500/1500 [==============================] - 12s 8ms/step - loss: 27.5856 - accuracy: 0.0871\n",
      "Epoch 10/10\n",
      "1500/1500 [==============================] - 12s 8ms/step - loss: 27.5856 - accuracy: 0.0859\n"
     ]
    },
    {
     "data": {
      "text/plain": [
       "<keras.src.callbacks.History at 0x1f7c4296910>"
      ]
     },
     "execution_count": 48,
     "metadata": {},
     "output_type": "execute_result"
    }
   ],
   "source": [
    "model08.fit(X_train,y_train,epochs=10)"
   ]
  },
  {
   "cell_type": "code",
   "execution_count": 49,
   "id": "ecc8ecb2",
   "metadata": {},
   "outputs": [
    {
     "name": "stdout",
     "output_type": "stream",
     "text": [
      "313/313 [==============================] - 1s 4ms/step - loss: 27.6100 - accuracy: 0.0830\n"
     ]
    },
    {
     "data": {
      "text/plain": [
       "[27.609987258911133, 0.08299999684095383]"
      ]
     },
     "execution_count": 49,
     "metadata": {},
     "output_type": "execute_result"
    }
   ],
   "source": [
    "model08.evaluate(X_test,y_test)"
   ]
  },
  {
   "cell_type": "code",
   "execution_count": 50,
   "id": "4CYNb1-Cu0Cd",
   "metadata": {
    "id": "4CYNb1-Cu0Cd"
   },
   "outputs": [],
   "source": [
    "#512 nodes\n",
    "\n",
    "model09 = Sequential()\n",
    "model09.add(Dense(512, input_dim=28*28, activation='relu'))\n",
    "model09.add(Dense(512, input_dim=28*28, activation='relu'))\n",
    "model09.add(Dense(512, input_dim=28*28, activation='relu'))\n",
    "model09.add(Dense(512, input_dim=28*28, activation='relu'))\n",
    "model09.add(Dense(10,activation='softmax'))\n",
    "model09.compile(loss='mean_squared_error', metrics=['accuracy'])"
   ]
  },
  {
   "cell_type": "code",
   "execution_count": 51,
   "id": "68cf32f6",
   "metadata": {},
   "outputs": [
    {
     "name": "stdout",
     "output_type": "stream",
     "text": [
      "Epoch 1/10\n",
      "1500/1500 [==============================] - 45s 29ms/step - loss: 27.5856 - accuracy: 0.1138\n",
      "Epoch 2/10\n",
      "1500/1500 [==============================] - 44s 30ms/step - loss: 27.5856 - accuracy: 0.1093\n",
      "Epoch 3/10\n",
      "1500/1500 [==============================] - 44s 29ms/step - loss: 27.5856 - accuracy: 0.1095\n",
      "Epoch 4/10\n",
      "1500/1500 [==============================] - 62s 41ms/step - loss: 27.5856 - accuracy: 0.1094\n",
      "Epoch 5/10\n",
      "1500/1500 [==============================] - 43s 29ms/step - loss: 27.5856 - accuracy: 0.1082\n",
      "Epoch 6/10\n",
      "1500/1500 [==============================] - 43s 29ms/step - loss: 27.5856 - accuracy: 0.1089\n",
      "Epoch 7/10\n",
      "1500/1500 [==============================] - 43s 28ms/step - loss: 27.5856 - accuracy: 0.1084\n",
      "Epoch 8/10\n",
      "1500/1500 [==============================] - 44s 29ms/step - loss: 27.5856 - accuracy: 0.1097\n",
      "Epoch 9/10\n",
      "1500/1500 [==============================] - 43s 29ms/step - loss: 27.5856 - accuracy: 0.1091\n",
      "Epoch 10/10\n",
      "1500/1500 [==============================] - 43s 29ms/step - loss: 27.5856 - accuracy: 0.1094\n"
     ]
    },
    {
     "data": {
      "text/plain": [
       "<keras.src.callbacks.History at 0x1f7c48a1ed0>"
      ]
     },
     "execution_count": 51,
     "metadata": {},
     "output_type": "execute_result"
    }
   ],
   "source": [
    "model09.fit(X_train,y_train,epochs=10)"
   ]
  },
  {
   "cell_type": "code",
   "execution_count": 52,
   "id": "67dca904",
   "metadata": {},
   "outputs": [
    {
     "name": "stdout",
     "output_type": "stream",
     "text": [
      "313/313 [==============================] - 3s 9ms/step - loss: 27.6100 - accuracy: 0.1100\n"
     ]
    },
    {
     "data": {
      "text/plain": [
       "[27.609987258911133, 0.10999999940395355]"
      ]
     },
     "execution_count": 52,
     "metadata": {},
     "output_type": "execute_result"
    }
   ],
   "source": [
    "model09.evaluate(X_test,y_test)"
   ]
  }
 ],
 "metadata": {
  "colab": {
   "collapsed_sections": [],
   "name": "PDL_Lab_5_215229137.ipynb",
   "provenance": []
  },
  "kernelspec": {
   "display_name": "Python 3 (ipykernel)",
   "language": "python",
   "name": "python3"
  },
  "language_info": {
   "codemirror_mode": {
    "name": "ipython",
    "version": 3
   },
   "file_extension": ".py",
   "mimetype": "text/x-python",
   "name": "python",
   "nbconvert_exporter": "python",
   "pygments_lexer": "ipython3",
   "version": "3.11.3"
  }
 },
 "nbformat": 4,
 "nbformat_minor": 5
}
