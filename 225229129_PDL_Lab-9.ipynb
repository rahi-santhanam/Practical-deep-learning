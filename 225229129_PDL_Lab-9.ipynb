{
 "cells": [
  {
   "cell_type": "markdown",
   "id": "253332a0",
   "metadata": {},
   "source": [
    "#### \n",
    "NAME  : RAHINI DEVI\n",
    "\n",
    "ROLLNO: 225229129"
   ]
  },
  {
   "cell_type": "markdown",
   "id": "a1f7fe5f",
   "metadata": {},
   "source": [
    "## PDL_Lab - 9 (Image Classification using CNN for CIFAR-10 Data)"
   ]
  },
  {
   "cell_type": "markdown",
   "id": "65117e53",
   "metadata": {},
   "source": [
    "### Part - I : Baseline Model"
   ]
  },
  {
   "cell_type": "markdown",
   "id": "6536f1ab",
   "metadata": {},
   "source": [
    "#### 1. Import libraries"
   ]
  },
  {
   "cell_type": "code",
   "execution_count": 1,
   "id": "57186f92",
   "metadata": {},
   "outputs": [],
   "source": [
    "import keras"
   ]
  },
  {
   "cell_type": "code",
   "execution_count": 6,
   "id": "83efdc1f",
   "metadata": {},
   "outputs": [],
   "source": [
    "from tensorflow.keras import utils"
   ]
  },
  {
   "cell_type": "code",
   "execution_count": 9,
   "id": "9e97edbd",
   "metadata": {},
   "outputs": [],
   "source": [
    "from keras.datasets import cifar10\n",
    "from keras.preprocessing.image import ImageDataGenerator\n",
    "from keras.models import Sequential\n",
    "from keras.layers import Dense, Dropout, Activation, Flatten\n",
    "from keras.layers import Conv2D, MaxPooling2D\n",
    "from tensorflow.keras.optimizers import RMSprop\n",
    "from tensorflow.keras.optimizers import Adam\n",
    "from keras.backend import categorical_crossentropy"
   ]
  },
  {
   "cell_type": "code",
   "execution_count": 10,
   "id": "e8c85748",
   "metadata": {},
   "outputs": [],
   "source": [
    "from __future__ import print_function"
   ]
  },
  {
   "cell_type": "code",
   "execution_count": 11,
   "id": "62b26720",
   "metadata": {},
   "outputs": [],
   "source": [
    "import matplotlib.pyplot as plt\n",
    "%matplotlib inline"
   ]
  },
  {
   "cell_type": "markdown",
   "id": "cff5b90a",
   "metadata": {},
   "source": [
    "#### 2. Load your data and print the shape of training and test samples"
   ]
  },
  {
   "cell_type": "code",
   "execution_count": 12,
   "id": "17fd8404",
   "metadata": {},
   "outputs": [
    {
     "name": "stdout",
     "output_type": "stream",
     "text": [
      "Downloading data from https://www.cs.toronto.edu/~kriz/cifar-10-python.tar.gz\n",
      "170498071/170498071 [==============================] - 1881s 11us/step\n"
     ]
    }
   ],
   "source": [
    "(X_train, y_train), (X_test, y_test) = cifar10.load_data()"
   ]
  },
  {
   "cell_type": "code",
   "execution_count": 13,
   "id": "f4a53e64",
   "metadata": {},
   "outputs": [
    {
     "name": "stdout",
     "output_type": "stream",
     "text": [
      "X_train shape: (50000, 32, 32, 3)\n",
      "50000 train samples\n",
      "10000 test samples\n"
     ]
    }
   ],
   "source": [
    "print('X_train shape:', X_train.shape)\n",
    "print(X_train.shape[0], 'train samples')\n",
    "print(X_test.shape[0], 'test samples')"
   ]
  },
  {
   "cell_type": "markdown",
   "id": "42d782c6",
   "metadata": {},
   "source": [
    "#### 3. Print the shape of one image (is it 32 * 32 * 3 numpy array ?)"
   ]
  },
  {
   "cell_type": "code",
   "execution_count": 14,
   "id": "ee581066",
   "metadata": {},
   "outputs": [
    {
     "data": {
      "text/plain": [
       "(32, 32, 3)"
      ]
     },
     "execution_count": 14,
     "metadata": {},
     "output_type": "execute_result"
    }
   ],
   "source": [
    "X_train[444].shape"
   ]
  },
  {
   "cell_type": "markdown",
   "id": "313b804a",
   "metadata": {},
   "source": [
    "#### 4. Display one image using imshow() function"
   ]
  },
  {
   "cell_type": "code",
   "execution_count": 15,
   "id": "f2949b0e",
   "metadata": {},
   "outputs": [
    {
     "name": "stdout",
     "output_type": "stream",
     "text": [
      "[9]\n"
     ]
    },
    {
     "data": {
      "text/plain": [
       "<matplotlib.image.AxesImage at 0x15c8932ba50>"
      ]
     },
     "execution_count": 15,
     "metadata": {},
     "output_type": "execute_result"
    },
    {
     "data": {
      "image/png": "[encoded data removed]",
      "text/plain": [
       "<Figure size 640x480 with 1 Axes>"
      ]
     },
     "metadata": {},
     "output_type": "display_data"
    }
   ],
   "source": [
    "print(y_train[444])\n",
    "plt.imshow(X_train[444])"
   ]
  },
  {
   "cell_type": "markdown",
   "id": "26e718c2",
   "metadata": {},
   "source": [
    "#### 5. Convert y_train and y_test into categorical values"
   ]
  },
  {
   "cell_type": "code",
   "execution_count": 17,
   "id": "af7cc8b0",
   "metadata": {},
   "outputs": [],
   "source": [
    "from keras.utils import to_categorical"
   ]
  },
  {
   "cell_type": "code",
   "execution_count": 18,
   "id": "b4f2e75d",
   "metadata": {},
   "outputs": [],
   "source": [
    "num_classes = 10\n",
    "y_train = to_categorical(y_train, num_classes)\n",
    "y_test = to_categorical(y_test, num_classes)"
   ]
  },
  {
   "cell_type": "code",
   "execution_count": 19,
   "id": "2b161de4",
   "metadata": {},
   "outputs": [
    {
     "data": {
      "text/plain": [
       "array([0., 0., 0., 0., 0., 0., 0., 0., 0., 1.], dtype=float32)"
      ]
     },
     "execution_count": 19,
     "metadata": {},
     "output_type": "execute_result"
    }
   ],
   "source": [
    "y_train[444]"
   ]
  },
  {
   "cell_type": "markdown",
   "id": "b8e1655b",
   "metadata": {},
   "source": [
    "#### 6. Convert train data into float and scale"
   ]
  },
  {
   "cell_type": "code",
   "execution_count": 20,
   "id": "e71590ad",
   "metadata": {},
   "outputs": [],
   "source": [
    "X_train = X_train.astype('float32')\n",
    "X_test = X_test.astype('float32')\n",
    "X_train /= 255\n",
    "X_test /= 255"
   ]
  },
  {
   "cell_type": "markdown",
   "id": "8e1a9641",
   "metadata": {},
   "source": [
    "#### 7. Build your first CNN"
   ]
  },
  {
   "cell_type": "code",
   "execution_count": 21,
   "id": "2730a1d7",
   "metadata": {},
   "outputs": [],
   "source": [
    "model = Sequential()"
   ]
  },
  {
   "cell_type": "code",
   "execution_count": 22,
   "id": "779dfa27",
   "metadata": {},
   "outputs": [],
   "source": [
    "model.add(Conv2D(filters=32, kernel_size=(5,5), strides=(2,2), padding='same', activation='relu'))\n",
    "model.add(Conv2D(filters=32, kernel_size=(5,5), strides=(2,2), padding='same', activation='relu'))\n",
    "model.add(MaxPooling2D(pool_size=(2,2)))\n",
    "model.add(Dropout(0.25))\n",
    "model.add(Flatten())\n",
    "model.add(Dense(512, activation='relu'))\n",
    "model.add(Dropout(0.5))\n",
    "model.add(Dense(10, activation='softmax'))"
   ]
  },
  {
   "cell_type": "markdown",
   "id": "9ad00628",
   "metadata": {},
   "source": [
    "#### 8. Print summary and verify your configuration (Total params: 181, 162)"
   ]
  },
  {
   "cell_type": "code",
   "execution_count": 25,
   "id": "e2c5162c",
   "metadata": {},
   "outputs": [],
   "source": [
    "model.build(input_shape = (None, 32, 32, 3)) "
   ]
  },
  {
   "cell_type": "code",
   "execution_count": 26,
   "id": "a539e48a",
   "metadata": {},
   "outputs": [
    {
     "name": "stdout",
     "output_type": "stream",
     "text": [
      "Model: \"sequential\"\n",
      "_________________________________________________________________\n",
      " Layer (type)                Output Shape              Param #   \n",
      "=================================================================\n",
      " conv2d (Conv2D)             (None, 16, 16, 32)        2432      \n",
      "                                                                 \n",
      " conv2d_1 (Conv2D)           (None, 8, 8, 32)          25632     \n",
      "                                                                 \n",
      " max_pooling2d (MaxPooling2  (None, 4, 4, 32)          0         \n",
      " D)                                                              \n",
      "                                                                 \n",
      " dropout (Dropout)           (None, 4, 4, 32)          0         \n",
      "                                                                 \n",
      " flatten (Flatten)           (None, 512)               0         \n",
      "                                                                 \n",
      " dense (Dense)               (None, 512)               262656    \n",
      "                                                                 \n",
      " dropout_1 (Dropout)         (None, 512)               0         \n",
      "                                                                 \n",
      " dense_1 (Dense)             (None, 10)                5130      \n",
      "                                                                 \n",
      "=================================================================\n",
      "Total params: 295850 (1.13 MB)\n",
      "Trainable params: 295850 (1.13 MB)\n",
      "Non-trainable params: 0 (0.00 Byte)\n",
      "_________________________________________________________________\n"
     ]
    }
   ],
   "source": [
    "model.summary()"
   ]
  },
  {
   "cell_type": "markdown",
   "id": "1c7dce49",
   "metadata": {},
   "source": [
    "#### 9. Compile and fit and validate your model with the following parameters"
   ]
  },
  {
   "cell_type": "code",
   "execution_count": 30,
   "id": "b30fdba0",
   "metadata": {},
   "outputs": [],
   "source": [
    "import tensorflow as tf"
   ]
  },
  {
   "cell_type": "code",
   "execution_count": 32,
   "id": "82ea0c4d",
   "metadata": {},
   "outputs": [],
   "source": [
    "opt = tf.keras.optimizers.legacy.SGD()\n",
    "loss = 'categorical_crossentropy'\n",
    "met = ['accuracy']"
   ]
  },
  {
   "cell_type": "code",
   "execution_count": 33,
   "id": "4389dad5",
   "metadata": {},
   "outputs": [],
   "source": [
    "model.compile(optimizer=opt, loss=loss, metrics=met)"
   ]
  },
  {
   "cell_type": "code",
   "execution_count": 34,
   "id": "c244c3d7",
   "metadata": {},
   "outputs": [
    {
     "name": "stdout",
     "output_type": "stream",
     "text": [
      "Epoch 1/15\n",
      "1250/1250 [==============================] - 50s 39ms/step - loss: 2.1547 - accuracy: 0.1924 - val_loss: 1.9387 - val_accuracy: 0.3213\n",
      "Epoch 2/15\n",
      "1250/1250 [==============================] - 45s 36ms/step - loss: 1.8844 - accuracy: 0.3149 - val_loss: 1.7194 - val_accuracy: 0.3900\n",
      "Epoch 3/15\n",
      "1250/1250 [==============================] - 45s 36ms/step - loss: 1.7203 - accuracy: 0.3738 - val_loss: 1.6207 - val_accuracy: 0.4193\n",
      "Epoch 4/15\n",
      "1250/1250 [==============================] - 46s 37ms/step - loss: 1.6207 - accuracy: 0.4074 - val_loss: 1.5292 - val_accuracy: 0.4585\n",
      "Epoch 5/15\n",
      "1250/1250 [==============================] - 44s 35ms/step - loss: 1.5532 - accuracy: 0.4360 - val_loss: 1.4389 - val_accuracy: 0.4800\n",
      "Epoch 6/15\n",
      "1250/1250 [==============================] - 42s 33ms/step - loss: 1.5087 - accuracy: 0.4540 - val_loss: 1.4012 - val_accuracy: 0.4954\n",
      "Epoch 7/15\n",
      "1250/1250 [==============================] - 42s 33ms/step - loss: 1.4671 - accuracy: 0.4690 - val_loss: 1.4096 - val_accuracy: 0.4919\n",
      "Epoch 8/15\n",
      "1250/1250 [==============================] - 42s 33ms/step - loss: 1.4338 - accuracy: 0.4780 - val_loss: 1.3416 - val_accuracy: 0.5228\n",
      "Epoch 9/15\n",
      "1250/1250 [==============================] - 46s 37ms/step - loss: 1.4035 - accuracy: 0.4919 - val_loss: 1.3059 - val_accuracy: 0.5367\n",
      "Epoch 10/15\n",
      "1250/1250 [==============================] - 50s 40ms/step - loss: 1.3696 - accuracy: 0.5049 - val_loss: 1.2775 - val_accuracy: 0.5489\n",
      "Epoch 11/15\n",
      "1250/1250 [==============================] - 45s 36ms/step - loss: 1.3481 - accuracy: 0.5172 - val_loss: 1.2618 - val_accuracy: 0.5578\n",
      "Epoch 12/15\n",
      "1250/1250 [==============================] - 44s 35ms/step - loss: 1.3273 - accuracy: 0.5231 - val_loss: 1.2390 - val_accuracy: 0.5598\n",
      "Epoch 13/15\n",
      "1250/1250 [==============================] - 43s 35ms/step - loss: 1.3040 - accuracy: 0.5307 - val_loss: 1.2237 - val_accuracy: 0.5685\n",
      "Epoch 14/15\n",
      "1250/1250 [==============================] - 43s 35ms/step - loss: 1.2848 - accuracy: 0.5385 - val_loss: 1.2085 - val_accuracy: 0.5771\n",
      "Epoch 15/15\n",
      "1250/1250 [==============================] - 45s 36ms/step - loss: 1.2678 - accuracy: 0.5454 - val_loss: 1.1911 - val_accuracy: 0.5846\n"
     ]
    }
   ],
   "source": [
    "history = model.fit(X_train, y_train, shuffle=True, epochs=15, batch_size=32, validation_split=0.2)"
   ]
  },
  {
   "cell_type": "code",
   "execution_count": 35,
   "id": "4b442ebb",
   "metadata": {},
   "outputs": [
    {
     "name": "stdout",
     "output_type": "stream",
     "text": [
      "Test loss: 1.1783320903778076\n",
      "Test accuracy: 58.2099974155426\n"
     ]
    }
   ],
   "source": [
    "score = model.evaluate(X_test, y_test, verbose=0)\n",
    "print('Test loss:', score[0])\n",
    "print('Test accuracy:', score[1]*100)"
   ]
  },
  {
   "cell_type": "markdown",
   "id": "dab557a8",
   "metadata": {},
   "source": [
    "#### Part - II : Model Improvements"
   ]
  },
  {
   "cell_type": "code",
   "execution_count": 36,
   "id": "4209f084",
   "metadata": {},
   "outputs": [
    {
     "name": "stdout",
     "output_type": "stream",
     "text": [
      "Epoch 1/5\n",
      "1250/1250 [==============================] - 586s 465ms/step - loss: 1.6237 - accuracy: 0.4011 - val_loss: 1.2959 - val_accuracy: 0.5316\n",
      "Epoch 2/5\n",
      "1250/1250 [==============================] - 580s 464ms/step - loss: 1.2182 - accuracy: 0.5659 - val_loss: 1.1510 - val_accuracy: 0.5859\n",
      "Epoch 3/5\n",
      "1250/1250 [==============================] - 589s 471ms/step - loss: 1.0186 - accuracy: 0.6424 - val_loss: 0.9185 - val_accuracy: 0.6732\n",
      "Epoch 4/5\n",
      "1250/1250 [==============================] - 610s 488ms/step - loss: 0.9015 - accuracy: 0.6841 - val_loss: 0.8677 - val_accuracy: 0.6983\n",
      "Epoch 5/5\n",
      "1250/1250 [==============================] - 586s 469ms/step - loss: 0.8085 - accuracy: 0.7160 - val_loss: 0.8074 - val_accuracy: 0.7206\n",
      "Test loss: 0.8270379900932312\n",
      "Test accuracy: 71.5399980545044\n"
     ]
    }
   ],
   "source": [
    "model1 = Sequential()\n",
    "model1.add(Conv2D(filters=32, kernel_size=(5,5), strides=1, padding='same', activation='relu'))\n",
    "model1.add(Conv2D(filters=32, kernel_size=(5,5), strides=1, padding='same', activation='relu'))\n",
    "model1.add(MaxPooling2D(pool_size=(2,2)))\n",
    "model1.add(Conv2D(filters=64, kernel_size=(5,5), strides=1, padding='same', activation='relu'))\n",
    "model1.add(Conv2D(filters=64, kernel_size=(5,5), strides=1, padding='same', activation='relu'))\n",
    "model1.add(MaxPooling2D(pool_size=(2,2)))\n",
    "model1.add(Dropout(0.25))\n",
    "model1.add(Flatten())\n",
    "model1.add(Dense(512, activation='relu'))\n",
    "model1.add(Dropout(0.5))\n",
    "model1.add(Dense(10, activation='softmax'))\n",
    "model1.compile(optimizer='adam', loss=loss, metrics=met)\n",
    "history1 = model1.fit(X_train, y_train, shuffle=True, epochs=5, batch_size=32, validation_split=0.2)\n",
    "score1 = model1.evaluate(X_test, y_test, verbose=0)\n",
    "print('Test loss:', score1[0])\n",
    "print('Test accuracy:', score1[1]*100)"
   ]
  }
 ],
 "metadata": {
  "kernelspec": {
   "display_name": "Python 3 (ipykernel)",
   "language": "python",
   "name": "python3"
  },
  "language_info": {
   "codemirror_mode": {
    "name": "ipython",
    "version": 3
   },
   "file_extension": ".py",
   "mimetype": "text/x-python",
   "name": "python",
   "nbconvert_exporter": "python",
   "pygments_lexer": "ipython3",
   "version": "3.11.3"
  }
 },
 "nbformat": 4,
 "nbformat_minor": 5
}
