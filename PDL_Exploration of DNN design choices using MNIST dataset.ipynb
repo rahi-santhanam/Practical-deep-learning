{
 "cells": [
  {
   "cell_type": "markdown",
   "id": "c6ba2d98",
   "metadata": {},
   "source": [
    "#### \n",
    "NAME  : RAHINI DEVI S\n",
    "    \n",
    "ROLLNO: 225229129"
   ]
  },
  {
   "cell_type": "markdown",
   "id": "a2b4d3af",
   "metadata": {},
   "source": [
    "##      PDL_LABSHEET-7 (Exploration of DNN design choices using MNIST dataset)"
   ]
  },
  {
   "cell_type": "markdown",
   "id": "de813970",
   "metadata": {},
   "source": [
    "### Importing the necessary packages"
   ]
  },
  {
   "cell_type": "code",
   "execution_count": 1,
   "id": "7bfe2031",
   "metadata": {},
   "outputs": [],
   "source": [
    "import pandas as pd\n",
    "import numpy as np\n",
    "import matplotlib.pyplot as plt"
   ]
  },
  {
   "cell_type": "code",
   "execution_count": 2,
   "id": "6c062b3b",
   "metadata": {},
   "outputs": [],
   "source": [
    "import tensorflow as tf\n",
    "import keras"
   ]
  },
  {
   "cell_type": "code",
   "execution_count": 3,
   "id": "478bb2c6",
   "metadata": {},
   "outputs": [],
   "source": [
    "from keras.datasets import mnist"
   ]
  },
  {
   "cell_type": "code",
   "execution_count": 4,
   "id": "f6624705",
   "metadata": {},
   "outputs": [],
   "source": [
    "from keras.utils import to_categorical"
   ]
  },
  {
   "cell_type": "code",
   "execution_count": 5,
   "id": "d11931b9",
   "metadata": {},
   "outputs": [],
   "source": [
    "from tensorflow.keras.models import Sequential\n",
    "from tensorflow.keras.layers import Dense, Flatten, Activation, Dropout"
   ]
  },
  {
   "cell_type": "code",
   "execution_count": 6,
   "id": "53f204c8",
   "metadata": {},
   "outputs": [],
   "source": [
    "from keras import regularizers"
   ]
  },
  {
   "cell_type": "code",
   "execution_count": 7,
   "id": "e4368fd7",
   "metadata": {},
   "outputs": [],
   "source": [
    "from sklearn.model_selection import train_test_split"
   ]
  },
  {
   "cell_type": "markdown",
   "id": "ef18bbcb",
   "metadata": {},
   "source": [
    "#### Importing the dataset"
   ]
  },
  {
   "cell_type": "code",
   "execution_count": 8,
   "id": "d6729347",
   "metadata": {},
   "outputs": [
    {
     "name": "stdout",
     "output_type": "stream",
     "text": [
      "Downloading data from https://storage.googleapis.com/tensorflow/tf-keras-datasets/mnist.npz\n",
      "11490434/11490434 [==============================] - 3s 0us/step\n"
     ]
    }
   ],
   "source": [
    "data = mnist.load_data()\n",
    "(X_train, y_train), (X_test, y_test) = data"
   ]
  },
  {
   "cell_type": "code",
   "execution_count": 9,
   "id": "58265b20",
   "metadata": {},
   "outputs": [
    {
     "name": "stdout",
     "output_type": "stream",
     "text": [
      "Train: X=(60000, 28, 28), y=(60000,)\n",
      "Test: X=(10000, 28, 28), y=(10000,)\n"
     ]
    }
   ],
   "source": [
    "print('Train: X=%s, y=%s' % (X_train.shape, y_train.shape))\n",
    "print('Test: X=%s, y=%s' % (X_test.shape, y_test.shape))"
   ]
  },
  {
   "cell_type": "code",
   "execution_count": 10,
   "id": "118e42a1",
   "metadata": {
    "scrolled": true
   },
   "outputs": [
    {
     "data": {
      "image/png": "[encoded data removed]",
      "text/plain": [
       "<Figure size 640x480 with 10 Axes>"
      ]
     },
     "metadata": {},
     "output_type": "display_data"
    }
   ],
   "source": [
    "# Printing some training images\n",
    "\n",
    "for i in range(1, 11):\n",
    "    plt.subplot(2, 5, i)\n",
    "    plt.imshow(X_train[i], cmap=plt.get_cmap('gray'))\n",
    "\n",
    "plt.show()"
   ]
  },
  {
   "cell_type": "markdown",
   "id": "5bf9f90a",
   "metadata": {},
   "source": [
    "#### Flatten the data"
   ]
  },
  {
   "cell_type": "code",
   "execution_count": 12,
   "id": "7a9fda67",
   "metadata": {},
   "outputs": [],
   "source": [
    "X_train = X_train.reshape((X_train.shape[0], 28*28)).astype('float32')\n",
    "X_test = X_test.reshape((X_test.shape[0], 28*28)).astype('float32')"
   ]
  },
  {
   "cell_type": "markdown",
   "id": "4f96dc2d",
   "metadata": {},
   "source": [
    "#### Normalize the data"
   ]
  },
  {
   "cell_type": "code",
   "execution_count": 13,
   "id": "e46263ba",
   "metadata": {},
   "outputs": [],
   "source": [
    "X_train = X_train / 255\n",
    "X_test = X_test / 255"
   ]
  },
  {
   "cell_type": "markdown",
   "id": "13b8c5c7",
   "metadata": {},
   "source": [
    "#### EXPLORATION :"
   ]
  },
  {
   "cell_type": "code",
   "execution_count": 19,
   "id": "61e008cd",
   "metadata": {},
   "outputs": [],
   "source": [
    "def model(nodes, layers, activation_in, activation_out, loss, optimizer, metrics, epochs, X_train, y_train, X_test, y_test):\n",
    "    model = Sequential()\n",
    "    model.add(Dense(nodes, input_dim=28*28, activation=activation_in))\n",
    "    \n",
    "    for x in range(layers):\n",
    "        model.add(Dense(nodes, activation=activation_in))\n",
    "        model.add(Dense(10, activation=activation_out))\n",
    "        model.compile(loss=loss, optimizer=optimizer, metrics=metrics)\n",
    "        model.fit(X_train, to_categorical(y_train), epochs=epochs)\n",
    "        score = model.evaluate(X_test, to_categorical(y_test))\n",
    "        print(model.summary(), \"\\n\", \"Accuracy =\", score[1]*100)"
   ]
  },
  {
   "cell_type": "markdown",
   "id": "dfd80495",
   "metadata": {},
   "source": [
    "#### 1. Number of Nodes : \n",
    "Run neural network with single hidden layer, 32 nodes(with any activation function and any optimizer) for 10 epochs. Change number of nodes as 4, 32, 128, 512, 2056. What is the training and testing accuracies ? Print the number of parameters of the model and training time for each of these configrations."
   ]
  },
  {
   "cell_type": "code",
   "execution_count": 20,
   "id": "48573125",
   "metadata": {},
   "outputs": [],
   "source": [
    "model1 = model(4, 0, 'relu', 'softmax', 'categorical_crossentropy', 'Adam', 'accuracy', 10, X_train, y_train, X_test, y_test)"
   ]
  },
  {
   "cell_type": "markdown",
   "id": "ceccb3db",
   "metadata": {},
   "source": [
    "#### 2. Number of Layers :\n",
    "Run neural network with 3 hidden layer, 32 nodes each(with any activation function and any optimizer)\n",
    "for 10 epochs. Change number of layers as 4, 6, 8, 16. What is the training and testing accuracies ? \n",
    "Print the number of parameters of the model and training time for each of these configurations. Run\n",
    "the same models for 30 epochs. Any changes ?"
   ]
  },
  {
   "cell_type": "code",
   "execution_count": 21,
   "id": "3797e100",
   "metadata": {
    "scrolled": false
   },
   "outputs": [
    {
     "name": "stdout",
     "output_type": "stream",
     "text": [
      "Epoch 1/10\n",
      "1875/1875 [==============================] - 9s 4ms/step - loss: 1.1576 - accuracy: 0.6407\n",
      "Epoch 2/10\n",
      "1875/1875 [==============================] - 8s 4ms/step - loss: 0.5671 - accuracy: 0.8276\n",
      "Epoch 3/10\n",
      "1875/1875 [==============================] - 7s 4ms/step - loss: 0.4787 - accuracy: 0.8581\n",
      "Epoch 4/10\n",
      "1875/1875 [==============================] - 7s 4ms/step - loss: 0.4207 - accuracy: 0.8779\n",
      "Epoch 5/10\n",
      "1875/1875 [==============================] - 7s 4ms/step - loss: 0.3811 - accuracy: 0.8893\n",
      "Epoch 6/10\n",
      "1875/1875 [==============================] - 7s 4ms/step - loss: 0.3552 - accuracy: 0.8968\n",
      "Epoch 7/10\n",
      "1875/1875 [==============================] - 7s 4ms/step - loss: 0.3366 - accuracy: 0.9025\n",
      "Epoch 8/10\n",
      "1875/1875 [==============================] - 7s 4ms/step - loss: 0.3222 - accuracy: 0.9065\n",
      "Epoch 9/10\n",
      "1875/1875 [==============================] - 7s 4ms/step - loss: 0.3103 - accuracy: 0.9100\n",
      "Epoch 10/10\n",
      "1875/1875 [==============================] - 7s 4ms/step - loss: 0.2995 - accuracy: 0.9143\n",
      "313/313 [==============================] - 1s 3ms/step - loss: 0.2964 - accuracy: 0.9127\n",
      "Model: \"sequential_1\"\n",
      "_________________________________________________________________\n",
      " Layer (type)                Output Shape              Param #   \n",
      "=================================================================\n",
      " dense_1 (Dense)             (None, 32)                25120     \n",
      "                                                                 \n",
      " dense_2 (Dense)             (None, 32)                1056      \n",
      "                                                                 \n",
      " dense_3 (Dense)             (None, 10)                330       \n",
      "                                                                 \n",
      "=================================================================\n",
      "Total params: 26506 (103.54 KB)\n",
      "Trainable params: 26506 (103.54 KB)\n",
      "Non-trainable params: 0 (0.00 Byte)\n",
      "_________________________________________________________________\n",
      "None \n",
      " Accuracy = 91.26999974250793\n",
      "Epoch 1/10\n",
      "1875/1875 [==============================] - 9s 4ms/step - loss: 0.5776 - accuracy: 0.8601\n",
      "Epoch 2/10\n",
      "1875/1875 [==============================] - 7s 4ms/step - loss: 0.2905 - accuracy: 0.9209\n",
      "Epoch 3/10\n",
      "1875/1875 [==============================] - 7s 4ms/step - loss: 0.2739 - accuracy: 0.9247\n",
      "Epoch 4/10\n",
      "1875/1875 [==============================] - 9s 5ms/step - loss: 0.2589 - accuracy: 0.9274\n",
      "Epoch 5/10\n",
      "1875/1875 [==============================] - 8s 4ms/step - loss: 0.2466 - accuracy: 0.9307\n",
      "Epoch 6/10\n",
      "1875/1875 [==============================] - 8s 4ms/step - loss: 0.2342 - accuracy: 0.9331\n",
      "Epoch 7/10\n",
      "1875/1875 [==============================] - 8s 4ms/step - loss: 0.2224 - accuracy: 0.9364\n",
      "Epoch 8/10\n",
      "1875/1875 [==============================] - 8s 4ms/step - loss: 0.2129 - accuracy: 0.9388\n",
      "Epoch 9/10\n",
      "1875/1875 [==============================] - 7s 4ms/step - loss: 0.2033 - accuracy: 0.9415\n",
      "Epoch 10/10\n",
      "1875/1875 [==============================] - 7s 4ms/step - loss: 0.1959 - accuracy: 0.9443\n",
      "313/313 [==============================] - 1s 3ms/step - loss: 0.2049 - accuracy: 0.9403\n",
      "Model: \"sequential_1\"\n",
      "_________________________________________________________________\n",
      " Layer (type)                Output Shape              Param #   \n",
      "=================================================================\n",
      " dense_1 (Dense)             (None, 32)                25120     \n",
      "                                                                 \n",
      " dense_2 (Dense)             (None, 32)                1056      \n",
      "                                                                 \n",
      " dense_3 (Dense)             (None, 10)                330       \n",
      "                                                                 \n",
      " dense_4 (Dense)             (None, 32)                352       \n",
      "                                                                 \n",
      " dense_5 (Dense)             (None, 10)                330       \n",
      "                                                                 \n",
      "=================================================================\n",
      "Total params: 27188 (106.20 KB)\n",
      "Trainable params: 27188 (106.20 KB)\n",
      "Non-trainable params: 0 (0.00 Byte)\n",
      "_________________________________________________________________\n",
      "None \n",
      " Accuracy = 94.02999877929688\n",
      "Epoch 1/10\n",
      "1875/1875 [==============================] - 11s 4ms/step - loss: 0.4355 - accuracy: 0.9165\n",
      "Epoch 2/10\n",
      "1875/1875 [==============================] - 9s 5ms/step - loss: 0.2077 - accuracy: 0.9470\n",
      "Epoch 3/10\n",
      "1875/1875 [==============================] - 8s 4ms/step - loss: 0.1935 - accuracy: 0.9489\n",
      "Epoch 4/10\n",
      "1875/1875 [==============================] - 8s 4ms/step - loss: 0.1864 - accuracy: 0.9502\n",
      "Epoch 5/10\n",
      "1875/1875 [==============================] - 8s 4ms/step - loss: 0.1786 - accuracy: 0.9515\n",
      "Epoch 6/10\n",
      "1875/1875 [==============================] - 9s 5ms/step - loss: 0.1741 - accuracy: 0.9527\n",
      "Epoch 7/10\n",
      "1875/1875 [==============================] - 8s 4ms/step - loss: 0.1683 - accuracy: 0.9544\n",
      "Epoch 8/10\n",
      "1875/1875 [==============================] - 8s 4ms/step - loss: 0.1629 - accuracy: 0.9556\n",
      "Epoch 9/10\n",
      "1875/1875 [==============================] - 9s 5ms/step - loss: 0.1599 - accuracy: 0.9564\n",
      "Epoch 10/10\n",
      "1875/1875 [==============================] - 8s 4ms/step - loss: 0.1559 - accuracy: 0.9574\n",
      "313/313 [==============================] - 2s 5ms/step - loss: 0.1832 - accuracy: 0.9496\n",
      "Model: \"sequential_1\"\n",
      "_________________________________________________________________\n",
      " Layer (type)                Output Shape              Param #   \n",
      "=================================================================\n",
      " dense_1 (Dense)             (None, 32)                25120     \n",
      "                                                                 \n",
      " dense_2 (Dense)             (None, 32)                1056      \n",
      "                                                                 \n",
      " dense_3 (Dense)             (None, 10)                330       \n",
      "                                                                 \n",
      " dense_4 (Dense)             (None, 32)                352       \n",
      "                                                                 \n",
      " dense_5 (Dense)             (None, 10)                330       \n",
      "                                                                 \n",
      " dense_6 (Dense)             (None, 32)                352       \n",
      "                                                                 \n",
      " dense_7 (Dense)             (None, 10)                330       \n",
      "                                                                 \n",
      "=================================================================\n",
      "Total params: 27870 (108.87 KB)\n",
      "Trainable params: 27870 (108.87 KB)\n",
      "Non-trainable params: 0 (0.00 Byte)\n",
      "_________________________________________________________________\n",
      "None \n",
      " Accuracy = 94.95999813079834\n"
     ]
    }
   ],
   "source": [
    "model7 = model(32, 3, 'relu', 'softmax', 'categorical_crossentropy', 'Adam', 'accuracy', 10, X_train, y_train, X_test, y_test)"
   ]
  },
  {
   "cell_type": "markdown",
   "id": "a49913db",
   "metadata": {},
   "source": [
    "#### 3. Activation function :\n",
    "Run neural network with 3 hidden layer, 32 nodes each(with any optimizer) with sigmoid activation \n",
    "function for all layers, for 10 epochs. Change only the activation function as tanh, relu(for all 3 \n",
    "layers) etc. What is the training and testing accuracies ? Run the same models for 30 epochs. Any changes ?"
   ]
  },
  {
   "cell_type": "code",
   "execution_count": 22,
   "id": "430574c2",
   "metadata": {},
   "outputs": [
    {
     "name": "stdout",
     "output_type": "stream",
     "text": [
      "Epoch 1/10\n",
      "1875/1875 [==============================] - 11s 5ms/step - loss: 2.2759 - accuracy: 0.1711\n",
      "Epoch 2/10\n",
      "1875/1875 [==============================] - 8s 4ms/step - loss: 1.7391 - accuracy: 0.4577\n",
      "Epoch 3/10\n",
      "1875/1875 [==============================] - 8s 5ms/step - loss: 1.1012 - accuracy: 0.6631\n",
      "Epoch 4/10\n",
      "1875/1875 [==============================] - 8s 4ms/step - loss: 0.8329 - accuracy: 0.7430\n",
      "Epoch 5/10\n",
      "1875/1875 [==============================] - 8s 4ms/step - loss: 0.7067 - accuracy: 0.7793\n",
      "Epoch 6/10\n",
      "1875/1875 [==============================] - 7s 4ms/step - loss: 0.6397 - accuracy: 0.7994\n",
      "Epoch 7/10\n",
      "1875/1875 [==============================] - 8s 4ms/step - loss: 0.5945 - accuracy: 0.8152\n",
      "Epoch 8/10\n",
      "1875/1875 [==============================] - 8s 4ms/step - loss: 0.5586 - accuracy: 0.8268\n",
      "Epoch 9/10\n",
      "1875/1875 [==============================] - 7s 4ms/step - loss: 0.5273 - accuracy: 0.8400\n",
      "Epoch 10/10\n",
      "1875/1875 [==============================] - 8s 4ms/step - loss: 0.5012 - accuracy: 0.8492\n",
      "313/313 [==============================] - 2s 3ms/step - loss: 0.4746 - accuracy: 0.8595\n",
      "Model: \"sequential_2\"\n",
      "_________________________________________________________________\n",
      " Layer (type)                Output Shape              Param #   \n",
      "=================================================================\n",
      " dense_8 (Dense)             (None, 32)                25120     \n",
      "                                                                 \n",
      " dense_9 (Dense)             (None, 32)                1056      \n",
      "                                                                 \n",
      " dense_10 (Dense)            (None, 10)                330       \n",
      "                                                                 \n",
      "=================================================================\n",
      "Total params: 26506 (103.54 KB)\n",
      "Trainable params: 26506 (103.54 KB)\n",
      "Non-trainable params: 0 (0.00 Byte)\n",
      "_________________________________________________________________\n",
      "None \n",
      " Accuracy = 85.9499990940094\n",
      "Epoch 1/10\n",
      "1875/1875 [==============================] - 12s 4ms/step - loss: 1.1689 - accuracy: 0.7961\n",
      "Epoch 2/10\n",
      "1875/1875 [==============================] - 10s 5ms/step - loss: 0.4732 - accuracy: 0.8676\n",
      "Epoch 3/10\n",
      "1875/1875 [==============================] - 8s 4ms/step - loss: 0.4343 - accuracy: 0.8758\n",
      "Epoch 4/10\n",
      "1875/1875 [==============================] - 9s 5ms/step - loss: 0.4117 - accuracy: 0.8809\n",
      "Epoch 5/10\n",
      "1875/1875 [==============================] - 9s 5ms/step - loss: 0.3949 - accuracy: 0.8851\n",
      "Epoch 6/10\n",
      "1875/1875 [==============================] - 9s 5ms/step - loss: 0.3804 - accuracy: 0.8887\n",
      "Epoch 7/10\n",
      "1875/1875 [==============================] - 9s 5ms/step - loss: 0.3671 - accuracy: 0.8924\n",
      "Epoch 8/10\n",
      "1875/1875 [==============================] - 9s 5ms/step - loss: 0.3561 - accuracy: 0.8952\n",
      "Epoch 9/10\n",
      "1875/1875 [==============================] - 9s 5ms/step - loss: 0.3466 - accuracy: 0.8981\n",
      "Epoch 10/10\n",
      "1875/1875 [==============================] - 9s 5ms/step - loss: 0.3372 - accuracy: 0.9009\n",
      "313/313 [==============================] - 2s 3ms/step - loss: 0.3156 - accuracy: 0.9069\n",
      "Model: \"sequential_2\"\n",
      "_________________________________________________________________\n",
      " Layer (type)                Output Shape              Param #   \n",
      "=================================================================\n",
      " dense_8 (Dense)             (None, 32)                25120     \n",
      "                                                                 \n",
      " dense_9 (Dense)             (None, 32)                1056      \n",
      "                                                                 \n",
      " dense_10 (Dense)            (None, 10)                330       \n",
      "                                                                 \n",
      " dense_11 (Dense)            (None, 32)                352       \n",
      "                                                                 \n",
      " dense_12 (Dense)            (None, 10)                330       \n",
      "                                                                 \n",
      "=================================================================\n",
      "Total params: 27188 (106.20 KB)\n",
      "Trainable params: 27188 (106.20 KB)\n",
      "Non-trainable params: 0 (0.00 Byte)\n",
      "_________________________________________________________________\n",
      "None \n",
      " Accuracy = 90.68999886512756\n"
     ]
    }
   ],
   "source": [
    "model3 = model(32, 2, 'sigmoid','softmax','categorical_crossentropy','Adam', 'accuracy', 10, X_train, y_train, X_test, y_test)"
   ]
  },
  {
   "cell_type": "markdown",
   "id": "0987634f",
   "metadata": {},
   "source": [
    "#### 4. Activation function combinations :\n",
    "For the three layers use different combinations of activation functions such as layer 1 : sigmoid, layer 2 : relu, layer 3 :\n",
    "tanh. There can be lot of combinations like this. Which one is the best for 3 layer each with 32 node architecture ?"
   ]
  },
  {
   "cell_type": "code",
   "execution_count": 23,
   "id": "420d58e9",
   "metadata": {},
   "outputs": [],
   "source": [
    "def model_afc(activation1, activation2, activation3):\n",
    "    model = Sequential()\n",
    "    model.add(Dense(32, input_dim=28*28, activation=activation1))\n",
    "    model.add(Dense(32, activation=activation2))\n",
    "    model.add(Dense(32, activation=activation2))\n",
    "    model.add(Dense(10, activation='softmax'))\n",
    "    model.compile(loss='categorical_crossentropy', optimizer='Adam', metrics='accuracy')\n",
    "    model.fit(X_train, to_categorical(y_train), epochs=10)\n",
    "    score = model.evaluate(X_test, to_categorical(y_test))\n",
    "    print(model.summary(), \"\\n\", \"Accuracy =\", score[1]*100)"
   ]
  },
  {
   "cell_type": "code",
   "execution_count": 24,
   "id": "a4964c6f",
   "metadata": {},
   "outputs": [
    {
     "name": "stdout",
     "output_type": "stream",
     "text": [
      "Epoch 1/10\n",
      "1875/1875 [==============================] - 11s 4ms/step - loss: 1.8038 - accuracy: 0.3496\n",
      "Epoch 2/10\n",
      "1875/1875 [==============================] - 8s 4ms/step - loss: 0.8875 - accuracy: 0.6865\n",
      "Epoch 3/10\n",
      "1875/1875 [==============================] - 8s 4ms/step - loss: 0.7659 - accuracy: 0.7367\n",
      "Epoch 4/10\n",
      "1875/1875 [==============================] - 8s 4ms/step - loss: 0.7224 - accuracy: 0.7577\n",
      "Epoch 5/10\n",
      "1875/1875 [==============================] - 10s 5ms/step - loss: 0.6928 - accuracy: 0.7702\n",
      "Epoch 6/10\n",
      "1875/1875 [==============================] - 8s 4ms/step - loss: 0.6723 - accuracy: 0.7807\n",
      "Epoch 7/10\n",
      "1875/1875 [==============================] - 9s 5ms/step - loss: 0.6547 - accuracy: 0.7890\n",
      "Epoch 8/10\n",
      "1875/1875 [==============================] - 8s 4ms/step - loss: 0.6331 - accuracy: 0.7972\n",
      "Epoch 9/10\n",
      "1875/1875 [==============================] - 8s 4ms/step - loss: 0.6125 - accuracy: 0.8086\n",
      "Epoch 10/10\n",
      "1875/1875 [==============================] - 9s 5ms/step - loss: 0.5804 - accuracy: 0.8198\n",
      "313/313 [==============================] - 2s 3ms/step - loss: 0.5631 - accuracy: 0.8298\n",
      "Model: \"sequential_3\"\n",
      "_________________________________________________________________\n",
      " Layer (type)                Output Shape              Param #   \n",
      "=================================================================\n",
      " dense_13 (Dense)            (None, 32)                25120     \n",
      "                                                                 \n",
      " dense_14 (Dense)            (None, 32)                1056      \n",
      "                                                                 \n",
      " dense_15 (Dense)            (None, 32)                1056      \n",
      "                                                                 \n",
      " dense_16 (Dense)            (None, 10)                330       \n",
      "                                                                 \n",
      "=================================================================\n",
      "Total params: 27562 (107.66 KB)\n",
      "Trainable params: 27562 (107.66 KB)\n",
      "Non-trainable params: 0 (0.00 Byte)\n",
      "_________________________________________________________________\n",
      "None \n",
      " Accuracy = 82.9800009727478\n"
     ]
    }
   ],
   "source": [
    "model4 = model_afc('sigmoid','relu','tanh')"
   ]
  },
  {
   "cell_type": "markdown",
   "id": "b6c5226c",
   "metadata": {},
   "source": [
    "#### 5. Layer-node combinations\n",
    "Run different models mimicking the following structures. Which one gives best accuracy ? Print the number of parameters of the\n",
    "model and training time for each of these configurations."
   ]
  },
  {
   "cell_type": "code",
   "execution_count": 25,
   "id": "7984ef2f",
   "metadata": {},
   "outputs": [
    {
     "name": "stdout",
     "output_type": "stream",
     "text": [
      "Epoch 1/10\n",
      "1875/1875 [==============================] - 11s 5ms/step - loss: 1.1811 - accuracy: 0.6179\n",
      "Epoch 2/10\n",
      "1875/1875 [==============================] - 8s 4ms/step - loss: 0.6736 - accuracy: 0.7838\n",
      "Epoch 3/10\n",
      "1875/1875 [==============================] - 8s 4ms/step - loss: 0.5645 - accuracy: 0.8252\n",
      "Epoch 4/10\n",
      "1875/1875 [==============================] - 8s 4ms/step - loss: 0.4794 - accuracy: 0.8568\n",
      "Epoch 5/10\n",
      "1875/1875 [==============================] - 8s 4ms/step - loss: 0.4185 - accuracy: 0.8771\n",
      "Epoch 6/10\n",
      "1875/1875 [==============================] - 8s 4ms/step - loss: 0.3835 - accuracy: 0.8873\n",
      "Epoch 7/10\n",
      "1875/1875 [==============================] - 8s 4ms/step - loss: 0.3596 - accuracy: 0.8939\n",
      "Epoch 8/10\n",
      "1875/1875 [==============================] - 8s 4ms/step - loss: 0.3395 - accuracy: 0.9015\n",
      "Epoch 9/10\n",
      "1875/1875 [==============================] - 7s 4ms/step - loss: 0.3230 - accuracy: 0.9048\n",
      "Epoch 10/10\n",
      "1875/1875 [==============================] - 9s 5ms/step - loss: 0.3083 - accuracy: 0.9091\n",
      "313/313 [==============================] - 2s 4ms/step - loss: 0.3021 - accuracy: 0.9075\n",
      "Model: \"sequential_4\"\n",
      "_________________________________________________________________\n",
      " Layer (type)                Output Shape              Param #   \n",
      "=================================================================\n",
      " dense_17 (Dense)            (None, 32)                25120     \n",
      "                                                                 \n",
      " dense_18 (Dense)            (None, 32)                1056      \n",
      "                                                                 \n",
      " dense_19 (Dense)            (None, 10)                330       \n",
      "                                                                 \n",
      "=================================================================\n",
      "Total params: 26506 (103.54 KB)\n",
      "Trainable params: 26506 (103.54 KB)\n",
      "Non-trainable params: 0 (0.00 Byte)\n",
      "_________________________________________________________________\n",
      "None \n",
      " Accuracy = 90.75000286102295\n"
     ]
    }
   ],
   "source": [
    "model5 = model(32, 1, 'relu', 'softmax', 'categorical_crossentropy', 'Adam', 'accuracy', 10, X_train, y_train, X_test, y_test)"
   ]
  },
  {
   "cell_type": "markdown",
   "id": "967fee0d",
   "metadata": {},
   "source": [
    "#### 6. Optimizer :\n",
    "Run neural network with 3 hidden layer, 32 nodea each with SGD optimizer with relu activation function for all layers, for 10 \n",
    "epochs. Run the same model with optimizers such as Momentum, RMSProp, Adam etc. Which one gives good accuracy for 10 epochs ?"
   ]
  },
  {
   "cell_type": "code",
   "execution_count": 26,
   "id": "07809edd",
   "metadata": {},
   "outputs": [],
   "source": [
    "def model_opt(optimizer):\n",
    "    model = Sequential()\n",
    "    model.add(Dense(32, input_dim=28*28, activation='relu'))\n",
    "    model.add(Dense(32, activation='relu'))\n",
    "    model.add(Dense(32, activation='relu'))\n",
    "    model.add(Dense(10, activation='softmax'))\n",
    "    model.compile(loss='categorical_crossentropy', optimizer=optimizer, metrics='accuracy')\n",
    "    model.fit(X_train, to_categorical(y_train), epochs=10)\n",
    "    score = model.evaluate(X_test, to_categorical(y_test))\n",
    "    print(model.summary(), \"\\n\", \"Accuracy =\", score[1]*100)"
   ]
  },
  {
   "cell_type": "code",
   "execution_count": 27,
   "id": "19a85a04",
   "metadata": {},
   "outputs": [
    {
     "name": "stdout",
     "output_type": "stream",
     "text": [
      "Epoch 1/10\n",
      "1875/1875 [==============================] - 9s 4ms/step - loss: 2.3009 - accuracy: 0.1131\n",
      "Epoch 2/10\n",
      "1875/1875 [==============================] - 7s 4ms/step - loss: 2.3003 - accuracy: 0.1128\n",
      "Epoch 3/10\n",
      "1875/1875 [==============================] - 7s 4ms/step - loss: 2.3000 - accuracy: 0.1124\n",
      "Epoch 4/10\n",
      "1875/1875 [==============================] - 7s 4ms/step - loss: 2.2997 - accuracy: 0.1138\n",
      "Epoch 5/10\n",
      "1875/1875 [==============================] - 7s 4ms/step - loss: 2.2995 - accuracy: 0.1124\n",
      "Epoch 6/10\n",
      "1875/1875 [==============================] - 7s 4ms/step - loss: 2.2990 - accuracy: 0.1142\n",
      "Epoch 7/10\n",
      "1875/1875 [==============================] - 8s 4ms/step - loss: 2.2985 - accuracy: 0.1126\n",
      "Epoch 8/10\n",
      "1875/1875 [==============================] - 7s 4ms/step - loss: 2.2981 - accuracy: 0.1161\n",
      "Epoch 9/10\n",
      "1875/1875 [==============================] - 7s 4ms/step - loss: 2.2974 - accuracy: 0.1165\n",
      "Epoch 10/10\n",
      "1875/1875 [==============================] - 8s 4ms/step - loss: 2.2966 - accuracy: 0.1143\n",
      "313/313 [==============================] - 2s 3ms/step - loss: 2.2956 - accuracy: 0.1135\n",
      "Model: \"sequential_5\"\n",
      "_________________________________________________________________\n",
      " Layer (type)                Output Shape              Param #   \n",
      "=================================================================\n",
      " dense_20 (Dense)            (None, 32)                25120     \n",
      "                                                                 \n",
      " dense_21 (Dense)            (None, 32)                1056      \n",
      "                                                                 \n",
      " dense_22 (Dense)            (None, 32)                1056      \n",
      "                                                                 \n",
      " dense_23 (Dense)            (None, 10)                330       \n",
      "                                                                 \n",
      "=================================================================\n",
      "Total params: 27562 (107.66 KB)\n",
      "Trainable params: 27562 (107.66 KB)\n",
      "Non-trainable params: 0 (0.00 Byte)\n",
      "_________________________________________________________________\n",
      "None \n",
      " Accuracy = 11.349999904632568\n"
     ]
    }
   ],
   "source": [
    "model6 = model_opt('SGD')"
   ]
  },
  {
   "cell_type": "markdown",
   "id": "dc528a3f",
   "metadata": {},
   "source": [
    "#### 7. L1, L2 Reguralization :\n",
    "Run neural network with 3 hidden layers, 128 nodes each (with any optimizer) with relu activation for all layers. for 10 epochs.\n",
    "Add L1 reularization to each layer and see the change in the training and testing accuracies. Change in the Lambda parameters in\n",
    "L1 regularization with smaller and bigger numbers and see the change in accuracies. Instead of L1, now do it with L2. What is the\n",
    "effect ?"
   ]
  },
  {
   "cell_type": "code",
   "execution_count": 28,
   "id": "47def18b",
   "metadata": {},
   "outputs": [],
   "source": [
    "def model_reg(reg):\n",
    "    model = Sequential()\n",
    "    model.add(Dense(128, input_dim=28*28, activation='relu', kernel_regularizer=reg))\n",
    "    model.add(Dense(128, activation='relu', kernel_regularizer=reg))\n",
    "    model.add(Dense(128, activation='relu', kernel_regularizer=reg))\n",
    "    model.add(Dense(10, activation='softmax'))\n",
    "    model.compile(loss='categorical_crossentropy', optimizer='Adam', metrics='accuracy')\n",
    "    model.fit(X_train, to_categorical(y_train), epochs=10)\n",
    "    score = model.evaluate(X_test, to_categorical(y_test))\n",
    "    print(model.summary(), \"\\n\", \"Accuracy =\", score[1]*100)"
   ]
  },
  {
   "cell_type": "code",
   "execution_count": 29,
   "id": "9d101df6",
   "metadata": {},
   "outputs": [
    {
     "name": "stdout",
     "output_type": "stream",
     "text": [
      "Epoch 1/10\n",
      "1875/1875 [==============================] - 20s 8ms/step - loss: 3.7755 - accuracy: 0.1120\n",
      "Epoch 2/10\n",
      "1875/1875 [==============================] - 15s 8ms/step - loss: 2.4682 - accuracy: 0.1124\n",
      "Epoch 3/10\n",
      "1875/1875 [==============================] - 18s 9ms/step - loss: 2.4681 - accuracy: 0.1124\n",
      "Epoch 4/10\n",
      "1875/1875 [==============================] - 19s 10ms/step - loss: 2.4680 - accuracy: 0.1124\n",
      "Epoch 5/10\n",
      "1875/1875 [==============================] - 17s 9ms/step - loss: 2.4680 - accuracy: 0.1124\n",
      "Epoch 6/10\n",
      "1875/1875 [==============================] - 15s 8ms/step - loss: 2.4679 - accuracy: 0.1124\n",
      "Epoch 7/10\n",
      "1875/1875 [==============================] - 12s 6ms/step - loss: 2.4678 - accuracy: 0.1124\n",
      "Epoch 8/10\n",
      "1875/1875 [==============================] - 17s 9ms/step - loss: 2.4679 - accuracy: 0.1124\n",
      "Epoch 9/10\n",
      "1875/1875 [==============================] - 15s 8ms/step - loss: 2.4678 - accuracy: 0.1124\n",
      "Epoch 10/10\n",
      "1875/1875 [==============================] - 14s 8ms/step - loss: 2.4678 - accuracy: 0.1124\n",
      "313/313 [==============================] - 2s 4ms/step - loss: 2.4681 - accuracy: 0.1135\n",
      "Model: \"sequential_6\"\n",
      "_________________________________________________________________\n",
      " Layer (type)                Output Shape              Param #   \n",
      "=================================================================\n",
      " dense_24 (Dense)            (None, 128)               100480    \n",
      "                                                                 \n",
      " dense_25 (Dense)            (None, 128)               16512     \n",
      "                                                                 \n",
      " dense_26 (Dense)            (None, 128)               16512     \n",
      "                                                                 \n",
      " dense_27 (Dense)            (None, 10)                1290      \n",
      "                                                                 \n",
      "=================================================================\n",
      "Total params: 134794 (526.54 KB)\n",
      "Trainable params: 134794 (526.54 KB)\n",
      "Non-trainable params: 0 (0.00 Byte)\n",
      "_________________________________________________________________\n",
      "None \n",
      " Accuracy = 11.349999904632568\n"
     ]
    }
   ],
   "source": [
    "model7 = model_reg(regularizers.l1(0.01))"
   ]
  },
  {
   "cell_type": "code",
   "execution_count": 30,
   "id": "37518115",
   "metadata": {},
   "outputs": [
    {
     "name": "stdout",
     "output_type": "stream",
     "text": [
      "Epoch 1/10\n",
      "1875/1875 [==============================] - 19s 8ms/step - loss: 3.7797 - accuracy: 0.1117\n",
      "Epoch 2/10\n",
      "1875/1875 [==============================] - 16s 9ms/step - loss: 2.4680 - accuracy: 0.1124\n",
      "Epoch 3/10\n",
      "1875/1875 [==============================] - 19s 10ms/step - loss: 2.4680 - accuracy: 0.1124\n",
      "Epoch 4/10\n",
      "1875/1875 [==============================] - 15s 8ms/step - loss: 2.4680 - accuracy: 0.1124\n",
      "Epoch 5/10\n",
      "1875/1875 [==============================] - 15s 8ms/step - loss: 2.4679 - accuracy: 0.1124\n",
      "Epoch 6/10\n",
      "1875/1875 [==============================] - 16s 8ms/step - loss: 2.4679 - accuracy: 0.1124\n",
      "Epoch 7/10\n",
      "1875/1875 [==============================] - 13s 7ms/step - loss: 2.4679 - accuracy: 0.1124\n",
      "Epoch 8/10\n",
      "1875/1875 [==============================] - 14s 7ms/step - loss: 2.4678 - accuracy: 0.1124\n",
      "Epoch 9/10\n",
      "1875/1875 [==============================] - 15s 8ms/step - loss: 2.4679 - accuracy: 0.1124\n",
      "Epoch 10/10\n",
      "1875/1875 [==============================] - 14s 8ms/step - loss: 2.4678 - accuracy: 0.1124\n",
      "313/313 [==============================] - 2s 4ms/step - loss: 2.4681 - accuracy: 0.1135\n",
      "Model: \"sequential_7\"\n",
      "_________________________________________________________________\n",
      " Layer (type)                Output Shape              Param #   \n",
      "=================================================================\n",
      " dense_28 (Dense)            (None, 128)               100480    \n",
      "                                                                 \n",
      " dense_29 (Dense)            (None, 128)               16512     \n",
      "                                                                 \n",
      " dense_30 (Dense)            (None, 128)               16512     \n",
      "                                                                 \n",
      " dense_31 (Dense)            (None, 10)                1290      \n",
      "                                                                 \n",
      "=================================================================\n",
      "Total params: 134794 (526.54 KB)\n",
      "Trainable params: 134794 (526.54 KB)\n",
      "Non-trainable params: 0 (0.00 Byte)\n",
      "_________________________________________________________________\n",
      "None \n",
      " Accuracy = 11.349999904632568\n"
     ]
    }
   ],
   "source": [
    "model7 = model_reg(regularizers.l1(0.01))"
   ]
  },
  {
   "cell_type": "markdown",
   "id": "bad01cc4",
   "metadata": {},
   "source": [
    "#### 8. Dropout Regularization :\n",
    "Run neural network with 3 hidden layers, 128 nodes each (with any optimizer) with relu activation for all layers. for 10 epochs.\n",
    "Add dropout layer in between the hidden layers and see the change in the training and testing accuracies. Change in the \n",
    "dropout rate in layers with smaller and bigger numbers and see the change in accuracies.   "
   ]
  },
  {
   "cell_type": "code",
   "execution_count": 31,
   "id": "0c0c4f09",
   "metadata": {},
   "outputs": [],
   "source": [
    "def model_dropout(rate):\n",
    "    model = Sequential()\n",
    "    model.add(Dense(128, input_dim=28*28, activation='relu'))\n",
    "    model.add(Dropout(rate))\n",
    "    model.add(Dense(128, activation='relu'))\n",
    "    model.add(Dropout(rate))\n",
    "    model.add(Dense(128, activation='relu'))\n",
    "    model.add(Dropout(rate))\n",
    "    model.add(Dense(10, activation='softmax'))\n",
    "    model.compile(loss='categorical_crossentropy', optimizer='Adam', metrics='accuracy')\n",
    "    model.fit(X_train, to_categorical(y_train), epochs=10)\n",
    "    score = model.evaluate(X_test, to_categorical(y_test))\n",
    "    print(model.summary(), \"\\n\", \"Accuracy =\", score[1]*100)"
   ]
  },
  {
   "cell_type": "code",
   "execution_count": 32,
   "id": "5bdec93c",
   "metadata": {},
   "outputs": [
    {
     "name": "stdout",
     "output_type": "stream",
     "text": [
      "Epoch 1/10\n",
      "1875/1875 [==============================] - 19s 8ms/step - loss: 1.1405 - accuracy: 0.5922\n",
      "Epoch 2/10\n",
      "1875/1875 [==============================] - 15s 8ms/step - loss: 0.6163 - accuracy: 0.8155\n",
      "Epoch 3/10\n",
      "1875/1875 [==============================] - 15s 8ms/step - loss: 0.5154 - accuracy: 0.8520\n",
      "Epoch 4/10\n",
      "1875/1875 [==============================] - 15s 8ms/step - loss: 0.4619 - accuracy: 0.8691\n",
      "Epoch 5/10\n",
      "1875/1875 [==============================] - 15s 8ms/step - loss: 0.4276 - accuracy: 0.8797\n",
      "Epoch 6/10\n",
      "1875/1875 [==============================] - 15s 8ms/step - loss: 0.4029 - accuracy: 0.8863\n",
      "Epoch 7/10\n",
      "1875/1875 [==============================] - 14s 7ms/step - loss: 0.3858 - accuracy: 0.8914\n",
      "Epoch 8/10\n",
      "1875/1875 [==============================] - 11s 6ms/step - loss: 0.3747 - accuracy: 0.8951\n",
      "Epoch 9/10\n",
      "1875/1875 [==============================] - 11s 6ms/step - loss: 0.3618 - accuracy: 0.8984\n",
      "Epoch 10/10\n",
      "1875/1875 [==============================] - 11s 6ms/step - loss: 0.3560 - accuracy: 0.8992\n",
      "313/313 [==============================] - 1s 3ms/step - loss: 0.1998 - accuracy: 0.9422\n",
      "Model: \"sequential_8\"\n",
      "_________________________________________________________________\n",
      " Layer (type)                Output Shape              Param #   \n",
      "=================================================================\n",
      " dense_32 (Dense)            (None, 128)               100480    \n",
      "                                                                 \n",
      " dropout (Dropout)           (None, 128)               0         \n",
      "                                                                 \n",
      " dense_33 (Dense)            (None, 128)               16512     \n",
      "                                                                 \n",
      " dropout_1 (Dropout)         (None, 128)               0         \n",
      "                                                                 \n",
      " dense_34 (Dense)            (None, 128)               16512     \n",
      "                                                                 \n",
      " dropout_2 (Dropout)         (None, 128)               0         \n",
      "                                                                 \n",
      " dense_35 (Dense)            (None, 10)                1290      \n",
      "                                                                 \n",
      "=================================================================\n",
      "Total params: 134794 (526.54 KB)\n",
      "Trainable params: 134794 (526.54 KB)\n",
      "Non-trainable params: 0 (0.00 Byte)\n",
      "_________________________________________________________________\n",
      "None \n",
      " Accuracy = 94.22000050544739\n"
     ]
    }
   ],
   "source": [
    "model8 = model_dropout(0.5)"
   ]
  },
  {
   "cell_type": "markdown",
   "id": "6d43a775",
   "metadata": {},
   "source": [
    "#### 9. Input Size :\n",
    "Run neural networks with 3 hidden layer, 128 nodes each (with any optimizer) with relu activation function for all layers, for \n",
    "10 epochs. Instead of 28*28 now run different model with digit imagesin 56*56, 112*112 and 224*224 sizes. Print how the model\n",
    "size and accuracies model ?"
   ]
  },
  {
   "cell_type": "code",
   "execution_count": 33,
   "id": "0aec1b03",
   "metadata": {},
   "outputs": [],
   "source": [
    "def model_input_dim(input_dim):\n",
    "    model = Sequential()\n",
    "    model.add(Dense(128, input_dim=input_dim, activation='relu'))\n",
    "    model.add(Dense(128, activation='relu'))\n",
    "    model.add(Dense(128, activation='relu'))\n",
    "    model.add(Dense(10, activation='softmax'))\n",
    "    model.compile(loss='categorical_crossentropy', optimizer='Adam', metrics='accuracy')\n",
    "    model.fit(X_train, to_categorical(y_train), epochs=10)\n",
    "    score = model.evaluate(X_test, to_categorical(y_test))\n",
    "    print(model.summary(), \"\\n\", \"Accuracy =\", score[1]*100)"
   ]
  },
  {
   "cell_type": "markdown",
   "id": "1889f18b",
   "metadata": {},
   "source": [
    "#### 10. Dataset split :\n",
    "Instead of 60k images of training and 10k images for testing, run different models with different models with different training\n",
    "and testing sizes, and see the changes in the accuracies."
   ]
  },
  {
   "cell_type": "code",
   "execution_count": 34,
   "id": "9e2cf52a",
   "metadata": {},
   "outputs": [],
   "source": [
    "(X_train, y_train), (X_test, y_test) = data\n",
    "X1 = np.concatenate((X_train, X_test))\n",
    "y1 = np.concatenate((y_train, y_test))\n",
    "\n",
    "X_train1, X_test1, y_train1, y_test1 = train_test_split(X1, y1, train_size=0.7, random_state=42)"
   ]
  },
  {
   "cell_type": "code",
   "execution_count": 35,
   "id": "0c7c6abd",
   "metadata": {
    "scrolled": true
   },
   "outputs": [
    {
     "name": "stdout",
     "output_type": "stream",
     "text": [
      "Epoch 1/10\n"
     ]
    },
    {
     "ename": "ValueError",
     "evalue": "in user code:\n\n    File \"C:\\Users\\visit\\anaconda3\\Lib\\site-packages\\keras\\src\\engine\\training.py\", line 1338, in train_function  *\n        return step_function(self, iterator)\n    File \"C:\\Users\\visit\\anaconda3\\Lib\\site-packages\\keras\\src\\engine\\training.py\", line 1322, in step_function  **\n        outputs = model.distribute_strategy.run(run_step, args=(data,))\n    File \"C:\\Users\\visit\\anaconda3\\Lib\\site-packages\\keras\\src\\engine\\training.py\", line 1303, in run_step  **\n        outputs = model.train_step(data)\n    File \"C:\\Users\\visit\\anaconda3\\Lib\\site-packages\\keras\\src\\engine\\training.py\", line 1080, in train_step\n        y_pred = self(x, training=True)\n    File \"C:\\Users\\visit\\anaconda3\\Lib\\site-packages\\keras\\src\\utils\\traceback_utils.py\", line 70, in error_handler\n        raise e.with_traceback(filtered_tb) from None\n    File \"C:\\Users\\visit\\anaconda3\\Lib\\site-packages\\keras\\src\\engine\\input_spec.py\", line 298, in assert_input_compatibility\n        raise ValueError(\n\n    ValueError: Input 0 of layer \"sequential_9\" is incompatible with the layer: expected shape=(None, 784), found shape=(None, 28, 28)\n",
     "output_type": "error",
     "traceback": [
      "\u001b[1;31m---------------------------------------------------------------------------\u001b[0m",
      "\u001b[1;31mValueError\u001b[0m                                Traceback (most recent call last)",
      "Cell \u001b[1;32mIn[35], line 6\u001b[0m\n\u001b[0;32m      1\u001b[0m model9 \u001b[38;5;241m=\u001b[39m Sequential([Dense(\u001b[38;5;241m32\u001b[39m, input_dim\u001b[38;5;241m=\u001b[39m\u001b[38;5;241m28\u001b[39m\u001b[38;5;241m*\u001b[39m\u001b[38;5;241m28\u001b[39m, activation\u001b[38;5;241m=\u001b[39m\u001b[38;5;124m'\u001b[39m\u001b[38;5;124mrelu\u001b[39m\u001b[38;5;124m'\u001b[39m), \n\u001b[0;32m      2\u001b[0m                       Dense(\u001b[38;5;241m32\u001b[39m, activation\u001b[38;5;241m=\u001b[39m\u001b[38;5;124m'\u001b[39m\u001b[38;5;124mrelu\u001b[39m\u001b[38;5;124m'\u001b[39m), \n\u001b[0;32m      3\u001b[0m                       Dense(\u001b[38;5;241m32\u001b[39m, activation\u001b[38;5;241m=\u001b[39m\u001b[38;5;124m'\u001b[39m\u001b[38;5;124mrelu\u001b[39m\u001b[38;5;124m'\u001b[39m), \n\u001b[0;32m      4\u001b[0m                       Dense(\u001b[38;5;241m10\u001b[39m, activation\u001b[38;5;241m=\u001b[39m\u001b[38;5;124m'\u001b[39m\u001b[38;5;124msoftmax\u001b[39m\u001b[38;5;124m'\u001b[39m)]) \n\u001b[0;32m      5\u001b[0m model9\u001b[38;5;241m.\u001b[39mcompile(loss\u001b[38;5;241m=\u001b[39m\u001b[38;5;124m'\u001b[39m\u001b[38;5;124mmean_squared_error\u001b[39m\u001b[38;5;124m'\u001b[39m, optimizer\u001b[38;5;241m=\u001b[39m\u001b[38;5;124m'\u001b[39m\u001b[38;5;124mAdam\u001b[39m\u001b[38;5;124m'\u001b[39m, metrics\u001b[38;5;241m=\u001b[39m\u001b[38;5;124m'\u001b[39m\u001b[38;5;124maccuracy\u001b[39m\u001b[38;5;124m'\u001b[39m)\n\u001b[1;32m----> 6\u001b[0m model9\u001b[38;5;241m.\u001b[39mfit(X_train1, y_train1, epochs\u001b[38;5;241m=\u001b[39m\u001b[38;5;241m10\u001b[39m) \n\u001b[0;32m      7\u001b[0m score1 \u001b[38;5;241m=\u001b[39m model9\u001b[38;5;241m.\u001b[39mevaluate(X_test1, y_test1)\n\u001b[0;32m      8\u001b[0m \u001b[38;5;28mprint\u001b[39m(model9\u001b[38;5;241m.\u001b[39msummary(), \u001b[38;5;124m\"\u001b[39m\u001b[38;5;130;01m\\n\u001b[39;00m\u001b[38;5;124m\"\u001b[39m, \u001b[38;5;124m\"\u001b[39m\u001b[38;5;124mAccuracy =\u001b[39m\u001b[38;5;124m\"\u001b[39m, score1[\u001b[38;5;241m1\u001b[39m]\u001b[38;5;241m*\u001b[39m\u001b[38;5;241m100\u001b[39m)\n",
      "File \u001b[1;32m~\\anaconda3\\Lib\\site-packages\\keras\\src\\utils\\traceback_utils.py:70\u001b[0m, in \u001b[0;36mfilter_traceback.<locals>.error_handler\u001b[1;34m(*args, **kwargs)\u001b[0m\n\u001b[0;32m     67\u001b[0m     filtered_tb \u001b[38;5;241m=\u001b[39m _process_traceback_frames(e\u001b[38;5;241m.\u001b[39m__traceback__)\n\u001b[0;32m     68\u001b[0m     \u001b[38;5;66;03m# To get the full stack trace, call:\u001b[39;00m\n\u001b[0;32m     69\u001b[0m     \u001b[38;5;66;03m# `tf.debugging.disable_traceback_filtering()`\u001b[39;00m\n\u001b[1;32m---> 70\u001b[0m     \u001b[38;5;28;01mraise\u001b[39;00m e\u001b[38;5;241m.\u001b[39mwith_traceback(filtered_tb) \u001b[38;5;28;01mfrom\u001b[39;00m \u001b[38;5;28;01mNone\u001b[39;00m\n\u001b[0;32m     71\u001b[0m \u001b[38;5;28;01mfinally\u001b[39;00m:\n\u001b[0;32m     72\u001b[0m     \u001b[38;5;28;01mdel\u001b[39;00m filtered_tb\n",
      "File \u001b[1;32m~\\AppData\\Local\\Temp\\__autograph_generated_filej4rq4rs8.py:15\u001b[0m, in \u001b[0;36mouter_factory.<locals>.inner_factory.<locals>.tf__train_function\u001b[1;34m(iterator)\u001b[0m\n\u001b[0;32m     13\u001b[0m \u001b[38;5;28;01mtry\u001b[39;00m:\n\u001b[0;32m     14\u001b[0m     do_return \u001b[38;5;241m=\u001b[39m \u001b[38;5;28;01mTrue\u001b[39;00m\n\u001b[1;32m---> 15\u001b[0m     retval_ \u001b[38;5;241m=\u001b[39m ag__\u001b[38;5;241m.\u001b[39mconverted_call(ag__\u001b[38;5;241m.\u001b[39mld(step_function), (ag__\u001b[38;5;241m.\u001b[39mld(\u001b[38;5;28mself\u001b[39m), ag__\u001b[38;5;241m.\u001b[39mld(iterator)), \u001b[38;5;28;01mNone\u001b[39;00m, fscope)\n\u001b[0;32m     16\u001b[0m \u001b[38;5;28;01mexcept\u001b[39;00m:\n\u001b[0;32m     17\u001b[0m     do_return \u001b[38;5;241m=\u001b[39m \u001b[38;5;28;01mFalse\u001b[39;00m\n",
      "\u001b[1;31mValueError\u001b[0m: in user code:\n\n    File \"C:\\Users\\visit\\anaconda3\\Lib\\site-packages\\keras\\src\\engine\\training.py\", line 1338, in train_function  *\n        return step_function(self, iterator)\n    File \"C:\\Users\\visit\\anaconda3\\Lib\\site-packages\\keras\\src\\engine\\training.py\", line 1322, in step_function  **\n        outputs = model.distribute_strategy.run(run_step, args=(data,))\n    File \"C:\\Users\\visit\\anaconda3\\Lib\\site-packages\\keras\\src\\engine\\training.py\", line 1303, in run_step  **\n        outputs = model.train_step(data)\n    File \"C:\\Users\\visit\\anaconda3\\Lib\\site-packages\\keras\\src\\engine\\training.py\", line 1080, in train_step\n        y_pred = self(x, training=True)\n    File \"C:\\Users\\visit\\anaconda3\\Lib\\site-packages\\keras\\src\\utils\\traceback_utils.py\", line 70, in error_handler\n        raise e.with_traceback(filtered_tb) from None\n    File \"C:\\Users\\visit\\anaconda3\\Lib\\site-packages\\keras\\src\\engine\\input_spec.py\", line 298, in assert_input_compatibility\n        raise ValueError(\n\n    ValueError: Input 0 of layer \"sequential_9\" is incompatible with the layer: expected shape=(None, 784), found shape=(None, 28, 28)\n"
     ]
    }
   ],
   "source": [
    "model9 = Sequential([Dense(32, input_dim=28*28, activation='relu'), \n",
    "                      Dense(32, activation='relu'), \n",
    "                      Dense(32, activation='relu'), \n",
    "                      Dense(10, activation='softmax')]) \n",
    "model9.compile(loss='mean_squared_error', optimizer='Adam', metrics='accuracy')\n",
    "model9.fit(X_train1, y_train1, epochs=10) \n",
    "score1 = model9.evaluate(X_test1, y_test1)\n",
    "print(model9.summary(), \"\\n\", \"Accuracy =\", score1[1]*100)"
   ]
  }
 ],
 "metadata": {
  "kernelspec": {
   "display_name": "Python 3 (ipykernel)",
   "language": "python",
   "name": "python3"
  },
  "language_info": {
   "codemirror_mode": {
    "name": "ipython",
    "version": 3
   },
   "file_extension": ".py",
   "mimetype": "text/x-python",
   "name": "python",
   "nbconvert_exporter": "python",
   "pygments_lexer": "ipython3",
   "version": "3.11.3"
  }
 },
 "nbformat": 4,
 "nbformat_minor": 5
}
