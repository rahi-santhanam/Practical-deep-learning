{
 "cells": [
  {
   "cell_type": "markdown",
   "id": "62a7547e-7597-4b62-890a-d5650dc2dbf8",
   "metadata": {},
   "source": [
    "### \n",
    "NAMAE  : RAHINI DEVI S\n",
    "\n",
    "ROLLNO : 225229129\n",
    "\n",
    "Lab - 12 (Image corpus creation and Transfer Learning in CNN)"
   ]
  },
  {
   "cell_type": "markdown",
   "id": "02d2b662-505e-4090-8878-59e95e1db5d0",
   "metadata": {},
   "source": [
    "## Steps\n",
    "### 1. Import the necessary libraries"
   ]
  },
  {
   "cell_type": "code",
   "execution_count": 1,
   "id": "7049b551-a051-4779-8818-4352e5cc48aa",
   "metadata": {},
   "outputs": [],
   "source": [
    "import datetime\n",
    "import keras\n",
    "from keras.datasets import mnist\n",
    "from keras.models import Sequential\n",
    "from keras.layers import Dense, Dropout, Activation, Flatten\n",
    "from keras.layers import Conv2D, MaxPooling2D"
   ]
  },
  {
   "cell_type": "markdown",
   "id": "7b55acb2-40ed-4d33-862d-6748130d3fff",
   "metadata": {},
   "source": [
    "### 2. Initialize some parameters"
   ]
  },
  {
   "cell_type": "code",
   "execution_count": 2,
   "id": "9b7fbc11-dfb2-4102-bc50-f5fa7cd0d51a",
   "metadata": {},
   "outputs": [],
   "source": [
    "now = datetime.datetime.now #get current time\n",
    "\n",
    "batch_size = 128\n",
    "num_classes = 5\n",
    "epochs = 5\n",
    "\n",
    "img_rows, img_cols = 28, 28\n",
    "filters = 32\n",
    "pool_size = 2\n",
    "kernel_size =3"
   ]
  },
  {
   "cell_type": "markdown",
   "id": "10d2584d-5173-40c7-b354-f77ec58fcd66",
   "metadata": {},
   "source": [
    "### 3. Partition MNIST dataset"
   ]
  },
  {
   "cell_type": "code",
   "execution_count": 3,
   "id": "1e3ac275-398f-4746-952c-dfff6fdccb82",
   "metadata": {},
   "outputs": [],
   "source": [
    "# data, shuffled and split between train and test sets\n",
    "(x_train, y_train), (x_test, y_test) = mnist.load_data()\n",
    "\n",
    "# create 2 datasets: one with digits below 5 and one with 5 and above\n",
    "x_train_lt5 = x_train[y_train < 5]\n",
    "y_train_lt5 = y_train[y_train < 5]\n",
    "x_test_lt5 = x_test[y_test < 5]\n",
    "y_test_lt5 = y_test[y_test < 5]\n",
    "\n",
    "x_train_gte5 = x_train[y_train >= 5]\n",
    "y_train_gte5 = y_train[y_train >= 5] - 5\n",
    "x_test_gte5 = x_test[y_test >= 5]\n",
    "y_test_gte5 = y_test[y_test >= 5] - 5"
   ]
  },
  {
   "cell_type": "markdown",
   "id": "41b0bf89-2f14-4f6c-970d-337fe100567c",
   "metadata": {},
   "source": [
    "### 4. Define the 'feature' layers"
   ]
  },
  {
   "cell_type": "code",
   "execution_count": 4,
   "id": "c7caea5d-00a1-4462-9bf7-7ae955a2b9f0",
   "metadata": {},
   "outputs": [],
   "source": [
    "feature_layers =[ \n",
    "    Conv2D(filters, kernel_size = (3,3), activation = 'relu', padding='valid', input_shape = (img_rows,img_cols,1)),\n",
    "    Conv2D(filters, kernel_size = (3,3), activation = 'relu'),\n",
    "    MaxPooling2D(pool_size=2),\n",
    "    Dropout(0.25),\n",
    "    Flatten() \n",
    "]"
   ]
  },
  {
   "cell_type": "markdown",
   "id": "0200a549-e2a6-4af0-b11e-8d81cb4c6879",
   "metadata": {},
   "source": [
    "### 5. Define the 'classification' layers"
   ]
  },
  {
   "cell_type": "code",
   "execution_count": 5,
   "id": "c22a14ed-fff5-463a-a36c-e98a5cb437db",
   "metadata": {},
   "outputs": [],
   "source": [
    "classification_layers = [\n",
    "    Dense(128, activation = 'relu'),\n",
    "    Dropout(0.5),\n",
    "    Dense(num_classes, activation = 'softmax')\n",
    "]"
   ]
  },
  {
   "cell_type": "markdown",
   "id": "40cd72b0-de12-4f24-a27c-edbde1556224",
   "metadata": {},
   "source": [
    "### 6. Define a Sequential model"
   ]
  },
  {
   "cell_type": "code",
   "execution_count": 6,
   "id": "6288bcf9-297d-4433-98e4-afbd183f46bd",
   "metadata": {},
   "outputs": [
    {
     "name": "stdout",
     "output_type": "stream",
     "text": [
      "Model: \"sequential\"\n",
      "_________________________________________________________________\n",
      " Layer (type)                Output Shape              Param #   \n",
      "=================================================================\n",
      " conv2d (Conv2D)             (None, 26, 26, 32)        320       \n",
      "                                                                 \n",
      " conv2d_1 (Conv2D)           (None, 24, 24, 32)        9248      \n",
      "                                                                 \n",
      " max_pooling2d (MaxPooling2  (None, 12, 12, 32)        0         \n",
      " D)                                                              \n",
      "                                                                 \n",
      " dropout (Dropout)           (None, 12, 12, 32)        0         \n",
      "                                                                 \n",
      " flatten (Flatten)           (None, 4608)              0         \n",
      "                                                                 \n",
      " dense (Dense)               (None, 128)               589952    \n",
      "                                                                 \n",
      " dropout_1 (Dropout)         (None, 128)               0         \n",
      "                                                                 \n",
      " dense_1 (Dense)             (None, 5)                 645       \n",
      "                                                                 \n",
      "=================================================================\n",
      "Total params: 600165 (2.29 MB)\n",
      "Trainable params: 600165 (2.29 MB)\n",
      "Non-trainable params: 0 (0.00 Byte)\n",
      "_________________________________________________________________\n"
     ]
    }
   ],
   "source": [
    "model = Sequential(feature_layers + classification_layers)\n",
    "model.summary()"
   ]
  },
  {
   "cell_type": "markdown",
   "id": "c9368dff-bd78-4b83-8577-785f22045caf",
   "metadata": {},
   "source": [
    "### 7. Create a function train_model()"
   ]
  },
  {
   "cell_type": "code",
   "execution_count": 7,
   "id": "07d74427-75de-4cc1-b96b-3df4597a57c1",
   "metadata": {},
   "outputs": [],
   "source": [
    "import numpy as np\n",
    "import pandas as pd"
   ]
  },
  {
   "cell_type": "code",
   "execution_count": 8,
   "id": "4137c48e-4e2d-49a6-9952-9f4702bbec93",
   "metadata": {},
   "outputs": [],
   "source": [
    "def train_model(model,train,test,num_classes):\n",
    "    train[0] = train[0].reshape(train[0].shape[0],img_rows,img_cols,1)\n",
    "    test[0] = test[0].reshape(test[0].shape[0],img_rows,img_cols,1)\n",
    "    train[0] = train[0].astype('float32')\n",
    "    test[0] = test[0].astype('float32')\n",
    "    train[0] /= 255\n",
    "    test[0] /= 255\n",
    "    print(train[0].shape)\n",
    "    print(test[0].shape)\n",
    "    s = pd.Series(train[1])\n",
    "    train[1] = pd.get_dummies(s)\n",
    "    train[1] = train[1].values\n",
    "    s = pd.Series(test[1])\n",
    "    test[1] = pd.get_dummies(s)\n",
    "    test[1] = test[1].values\n",
    "    model.compile(optimizer='adadelta',loss='categorical_crossentropy',metrics=['accuracy'])\n",
    "    train_start_time=now()\n",
    "    model.fit(train[0],train[1],epochs=epochs,verbose=2)\n",
    "    print('\\n')\n",
    "    print('Training time: ', (now() - train_start_time))\n",
    "    score=model.evaluate(test[0],test[1],verbose=0)\n",
    "    print('test loss ',score[0])\n",
    "    print('test accuracy ',score[1])"
   ]
  },
  {
   "cell_type": "markdown",
   "id": "421f9e50-30a5-449a-a6d2-85cbeb39ba48",
   "metadata": {},
   "source": [
    "### 8. Training on digits 5 to 9"
   ]
  },
  {
   "cell_type": "code",
   "execution_count": 9,
   "id": "064cfef4-474f-4e02-884e-fe3a8acf189d",
   "metadata": {},
   "outputs": [
    {
     "name": "stdout",
     "output_type": "stream",
     "text": [
      "(29404, 28, 28, 1)\n",
      "(4861, 28, 28, 1)\n",
      "Epoch 1/5\n",
      "919/919 - 68s - loss: 1.5716 - accuracy: 0.3048 - 68s/epoch - 74ms/step\n",
      "Epoch 2/5\n",
      "919/919 - 70s - loss: 1.4846 - accuracy: 0.4810 - 70s/epoch - 76ms/step\n",
      "Epoch 3/5\n",
      "919/919 - 69s - loss: 1.3744 - accuracy: 0.6030 - 69s/epoch - 75ms/step\n",
      "Epoch 4/5\n",
      "919/919 - 72s - loss: 1.2413 - accuracy: 0.6716 - 72s/epoch - 79ms/step\n",
      "Epoch 5/5\n",
      "919/919 - 68s - loss: 1.0938 - accuracy: 0.7182 - 68s/epoch - 74ms/step\n",
      "\n",
      "\n",
      "Training time:  0:05:47.449069\n",
      "test loss  0.9451504945755005\n",
      "test accuracy  0.8656654953956604\n"
     ]
    }
   ],
   "source": [
    "train_model(model,\n",
    "            [x_train_gte5, y_train_gte5],\n",
    "            [x_test_gte5, y_test_gte5], num_classes)"
   ]
  },
  {
   "cell_type": "markdown",
   "id": "fa2055b3-8fde-46ac-a241-c26cbd5aa391",
   "metadata": {},
   "source": [
    "### 9. Freeze Feature Layers"
   ]
  },
  {
   "cell_type": "code",
   "execution_count": 10,
   "id": "4e3eaa2b-65ec-49af-bb17-25b07d0f0262",
   "metadata": {},
   "outputs": [],
   "source": [
    "for l in feature_layers:\n",
    "  l.trainable = False"
   ]
  },
  {
   "cell_type": "markdown",
   "id": "8c1afa4d-88d8-406a-806e-4c182633920f",
   "metadata": {},
   "source": [
    "### 10. Print Summary"
   ]
  },
  {
   "cell_type": "code",
   "execution_count": 11,
   "id": "e2f7154b-9c8a-465a-994c-b8dd9475dd5d",
   "metadata": {},
   "outputs": [
    {
     "name": "stdout",
     "output_type": "stream",
     "text": [
      "Model: \"sequential\"\n",
      "_________________________________________________________________\n",
      " Layer (type)                Output Shape              Param #   \n",
      "=================================================================\n",
      " conv2d (Conv2D)             (None, 26, 26, 32)        320       \n",
      "                                                                 \n",
      " conv2d_1 (Conv2D)           (None, 24, 24, 32)        9248      \n",
      "                                                                 \n",
      " max_pooling2d (MaxPooling2  (None, 12, 12, 32)        0         \n",
      " D)                                                              \n",
      "                                                                 \n",
      " dropout (Dropout)           (None, 12, 12, 32)        0         \n",
      "                                                                 \n",
      " flatten (Flatten)           (None, 4608)              0         \n",
      "                                                                 \n",
      " dense (Dense)               (None, 128)               589952    \n",
      "                                                                 \n",
      " dropout_1 (Dropout)         (None, 128)               0         \n",
      "                                                                 \n",
      " dense_1 (Dense)             (None, 5)                 645       \n",
      "                                                                 \n",
      "=================================================================\n",
      "Total params: 600165 (2.29 MB)\n",
      "Trainable params: 590597 (2.25 MB)\n",
      "Non-trainable params: 9568 (37.38 KB)\n",
      "_________________________________________________________________\n"
     ]
    }
   ],
   "source": [
    "model.summary()"
   ]
  },
  {
   "cell_type": "markdown",
   "id": "440ab540-d516-4b49-aed1-fda2a36f211f",
   "metadata": {},
   "source": [
    "### 11. Training for digits 0 to 4 based on digits 5 to 9"
   ]
  },
  {
   "cell_type": "code",
   "execution_count": 12,
   "id": "5eb57bcc-d666-478a-bf53-7acf7aec3247",
   "metadata": {},
   "outputs": [
    {
     "name": "stdout",
     "output_type": "stream",
     "text": [
      "(30596, 28, 28, 1)\n",
      "(5139, 28, 28, 1)\n",
      "Epoch 1/5\n",
      "957/957 - 37s - loss: 1.4501 - accuracy: 0.4228 - 37s/epoch - 38ms/step\n",
      "Epoch 2/5\n",
      "957/957 - 35s - loss: 1.2316 - accuracy: 0.5691 - 35s/epoch - 37ms/step\n",
      "Epoch 3/5\n",
      "957/957 - 36s - loss: 1.0550 - accuracy: 0.6980 - 36s/epoch - 38ms/step\n",
      "Epoch 4/5\n",
      "957/957 - 35s - loss: 0.9052 - accuracy: 0.7776 - 35s/epoch - 36ms/step\n",
      "Epoch 5/5\n",
      "957/957 - 34s - loss: 0.7931 - accuracy: 0.8157 - 34s/epoch - 36ms/step\n",
      "\n",
      "\n",
      "Training time:  0:02:57.382437\n",
      "test loss  0.6528003215789795\n",
      "test accuracy  0.8929752707481384\n"
     ]
    }
   ],
   "source": [
    "train_model(model,\n",
    "            [x_train_lt5, y_train_lt5],\n",
    "            [x_test_lt5, y_test_lt5], num_classes)"
   ]
  },
  {
   "cell_type": "markdown",
   "id": "ed71148d-3139-4a62-add3-4aa510cf9482",
   "metadata": {},
   "source": [
    "### 12. Reversing the training process"
   ]
  },
  {
   "cell_type": "code",
   "execution_count": 13,
   "id": "e156482f-029b-4d60-9cea-0e94be3ab17c",
   "metadata": {},
   "outputs": [
    {
     "name": "stdout",
     "output_type": "stream",
     "text": [
      "Model: \"sequential_1\"\n",
      "_________________________________________________________________\n",
      " Layer (type)                Output Shape              Param #   \n",
      "=================================================================\n",
      " conv2d (Conv2D)             (None, 26, 26, 32)        320       \n",
      "                                                                 \n",
      " conv2d_1 (Conv2D)           (None, 24, 24, 32)        9248      \n",
      "                                                                 \n",
      " max_pooling2d (MaxPooling2  (None, 12, 12, 32)        0         \n",
      " D)                                                              \n",
      "                                                                 \n",
      " dropout (Dropout)           (None, 12, 12, 32)        0         \n",
      "                                                                 \n",
      " flatten (Flatten)           (None, 4608)              0         \n",
      "                                                                 \n",
      " dense (Dense)               (None, 128)               589952    \n",
      "                                                                 \n",
      " dropout_1 (Dropout)         (None, 128)               0         \n",
      "                                                                 \n",
      " dense_1 (Dense)             (None, 5)                 645       \n",
      "                                                                 \n",
      "=================================================================\n",
      "Total params: 600165 (2.29 MB)\n",
      "Trainable params: 590597 (2.25 MB)\n",
      "Non-trainable params: 9568 (37.38 KB)\n",
      "_________________________________________________________________\n"
     ]
    }
   ],
   "source": [
    "Reverse_model = Sequential(feature_layers + classification_layers)\n",
    "Reverse_model.summary()"
   ]
  },
  {
   "cell_type": "code",
   "execution_count": 14,
   "id": "34eafacb-e72f-4f3d-95c9-854f57270030",
   "metadata": {},
   "outputs": [
    {
     "name": "stdout",
     "output_type": "stream",
     "text": [
      "(29404, 28, 28, 1)\n",
      "(4861, 28, 28, 1)\n",
      "Epoch 1/5\n",
      "919/919 - 36s - loss: 1.0890 - accuracy: 0.6080 - 36s/epoch - 39ms/step\n",
      "Epoch 2/5\n",
      "919/919 - 35s - loss: 0.9664 - accuracy: 0.6837 - 35s/epoch - 38ms/step\n",
      "Epoch 3/5\n",
      "919/919 - 32s - loss: 0.8772 - accuracy: 0.7346 - 32s/epoch - 35ms/step\n",
      "Epoch 4/5\n",
      "919/919 - 32s - loss: 0.8104 - accuracy: 0.7637 - 32s/epoch - 35ms/step\n",
      "Epoch 5/5\n",
      "919/919 - 32s - loss: 0.7533 - accuracy: 0.7878 - 32s/epoch - 35ms/step\n",
      "\n",
      "\n",
      "Training time:  0:02:47.854202\n",
      "test loss  0.6407154202461243\n",
      "test accuracy  0.8494136929512024\n"
     ]
    }
   ],
   "source": [
    "train_model(Reverse_model,\n",
    "            [x_train_gte5, y_train_gte5],\n",
    "            [x_test_gte5, y_test_gte5], num_classes)"
   ]
  },
  {
   "cell_type": "code",
   "execution_count": 15,
   "id": "575694dd-6747-4e28-a2ff-c72126c7427e",
   "metadata": {},
   "outputs": [
    {
     "name": "stdout",
     "output_type": "stream",
     "text": [
      "(30596, 28, 28, 1)\n",
      "(5139, 28, 28, 1)\n",
      "Epoch 1/5\n",
      "957/957 - 37s - loss: 0.8805 - accuracy: 0.7221 - 37s/epoch - 38ms/step\n",
      "Epoch 2/5\n",
      "957/957 - 31s - loss: 0.7515 - accuracy: 0.7800 - 31s/epoch - 32ms/step\n",
      "Epoch 3/5\n",
      "957/957 - 32s - loss: 0.6662 - accuracy: 0.8213 - 32s/epoch - 34ms/step\n",
      "Epoch 4/5\n",
      "957/957 - 31s - loss: 0.5980 - accuracy: 0.8430 - 31s/epoch - 33ms/step\n",
      "Epoch 5/5\n",
      "957/957 - 34s - loss: 0.5468 - accuracy: 0.8606 - 34s/epoch - 36ms/step\n",
      "\n",
      "\n",
      "Training time:  0:02:45.380834\n",
      "test loss  0.4377923011779785\n",
      "test accuracy  0.9028993844985962\n"
     ]
    }
   ],
   "source": [
    "train_model(Reverse_model,\n",
    "            [x_train_lt5, y_train_lt5],\n",
    "            [x_test_lt5, y_test_lt5], num_classes)"
   ]
  }
 ],
 "metadata": {
  "kernelspec": {
   "display_name": "Python 3 (ipykernel)",
   "language": "python",
   "name": "python3"
  },
  "language_info": {
   "codemirror_mode": {
    "name": "ipython",
    "version": 3
   },
   "file_extension": ".py",
   "mimetype": "text/x-python",
   "name": "python",
   "nbconvert_exporter": "python",
   "pygments_lexer": "ipython3",
   "version": "3.11.3"
  }
 },
 "nbformat": 4,
 "nbformat_minor": 5
}
