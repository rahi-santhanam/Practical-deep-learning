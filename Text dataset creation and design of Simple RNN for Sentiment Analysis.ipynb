{
 "cells": [
  {
   "cell_type": "markdown",
   "id": "434a24f9",
   "metadata": {},
   "source": [
    "#### \n",
    "NAME  : RAHINI DEVI S\n",
    "\n",
    "ROLLNO: 225229129\n",
    "\n",
    "PDL Lab - 15: Text dataset creation and design of Simple RNN for Sentiment Analysis"
   ]
  },
  {
   "cell_type": "markdown",
   "id": "5eb5d414",
   "metadata": {},
   "source": [
    "### 1. Import libraries"
   ]
  },
  {
   "cell_type": "code",
   "execution_count": 1,
   "id": "48a74ddc",
   "metadata": {},
   "outputs": [
    {
     "name": "stderr",
     "output_type": "stream",
     "text": [
      "C:\\Users\\sweth\\Downloads\\nlp\\lib\\site-packages\\scipy\\__init__.py:155: UserWarning: A NumPy version >=1.18.5 and <1.25.0 is required for this version of SciPy (detected version 1.25.2\n",
      "  warnings.warn(f\"A NumPy version >={np_minversion} and <{np_maxversion}\"\n"
     ]
    }
   ],
   "source": [
    "import csv\n",
    "import tensorflow as tf\n",
    "import numpy as np\n",
    "import pandas as pd\n",
    "import matplotlib.pyplot as plt\n",
    "from tensorflow.keras.preprocessing.text import Tokenizer\n",
    "from tensorflow.keras.preprocessing.sequence import pad_sequences"
   ]
  },
  {
   "cell_type": "code",
   "execution_count": 2,
   "id": "9ddc9792",
   "metadata": {},
   "outputs": [],
   "source": [
    "from keras.models import Sequential\n",
    "from keras.layers import Dense, Embedding,SimpleRNN"
   ]
  },
  {
   "cell_type": "code",
   "execution_count": 3,
   "id": "4f441cb7",
   "metadata": {},
   "outputs": [
    {
     "name": "stderr",
     "output_type": "stream",
     "text": [
      "[nltk_data] Downloading package stopwords to\n",
      "[nltk_data]     C:\\Users\\sweth\\AppData\\Roaming\\nltk_data...\n",
      "[nltk_data]   Package stopwords is already up-to-date!\n"
     ]
    },
    {
     "data": {
      "text/plain": [
       "True"
      ]
     },
     "execution_count": 3,
     "metadata": {},
     "output_type": "execute_result"
    }
   ],
   "source": [
    "import nltk\n",
    "nltk.download('stopwords')"
   ]
  },
  {
   "cell_type": "code",
   "execution_count": 4,
   "id": "04847240",
   "metadata": {},
   "outputs": [],
   "source": [
    "from nltk.corpus import stopwords\n",
    "STOPWORDS = set(stopwords.words('english'))"
   ]
  },
  {
   "cell_type": "markdown",
   "id": "fb7501fa",
   "metadata": {},
   "source": [
    "### 2. Creation of data"
   ]
  },
  {
   "cell_type": "code",
   "execution_count": 6,
   "id": "4d298657",
   "metadata": {},
   "outputs": [],
   "source": [
    "df = pd.read_csv(\"data.csv\",encoding=\"ISO-8859-1\")"
   ]
  },
  {
   "cell_type": "code",
   "execution_count": 7,
   "id": "700a7f3d",
   "metadata": {},
   "outputs": [
    {
     "data": {
      "text/html": [
       "<div>\n",
       "<style scoped>\n",
       "    .dataframe tbody tr th:only-of-type {\n",
       "        vertical-align: middle;\n",
       "    }\n",
       "\n",
       "    .dataframe tbody tr th {\n",
       "        vertical-align: top;\n",
       "    }\n",
       "\n",
       "    .dataframe thead th {\n",
       "        text-align: right;\n",
       "    }\n",
       "</style>\n",
       "<table border=\"1\" class=\"dataframe\">\n",
       "  <thead>\n",
       "    <tr style=\"text-align: right;\">\n",
       "      <th></th>\n",
       "      <th>Labels</th>\n",
       "      <th>Quotes</th>\n",
       "    </tr>\n",
       "  </thead>\n",
       "  <tbody>\n",
       "    <tr>\n",
       "      <th>0</th>\n",
       "      <td>0</td>\n",
       "      <td>Look deep into nature, and then you will under...</td>\n",
       "    </tr>\n",
       "    <tr>\n",
       "      <th>1</th>\n",
       "      <td>0</td>\n",
       "      <td>Colors are the smiles of nature</td>\n",
       "    </tr>\n",
       "    <tr>\n",
       "      <th>2</th>\n",
       "      <td>0</td>\n",
       "      <td>I believe in God, only I spell it Nature</td>\n",
       "    </tr>\n",
       "    <tr>\n",
       "      <th>3</th>\n",
       "      <td>0</td>\n",
       "      <td>Nature does not hurry, yet everything is accom...</td>\n",
       "    </tr>\n",
       "    <tr>\n",
       "      <th>4</th>\n",
       "      <td>0</td>\n",
       "      <td>If you truly love nature, you will find beauty...</td>\n",
       "    </tr>\n",
       "  </tbody>\n",
       "</table>\n",
       "</div>"
      ],
      "text/plain": [
       "   Labels                                             Quotes\n",
       "0       0  Look deep into nature, and then you will under...\n",
       "1       0                    Colors are the smiles of nature\n",
       "2       0           I believe in God, only I spell it Nature\n",
       "3       0  Nature does not hurry, yet everything is accom...\n",
       "4       0  If you truly love nature, you will find beauty..."
      ]
     },
     "execution_count": 7,
     "metadata": {},
     "output_type": "execute_result"
    }
   ],
   "source": [
    "df.head()"
   ]
  },
  {
   "cell_type": "markdown",
   "id": "7cb1ec9d",
   "metadata": {},
   "source": [
    "### 3. Opening your CSV file"
   ]
  },
  {
   "cell_type": "code",
   "execution_count": 8,
   "id": "9631dacc",
   "metadata": {},
   "outputs": [],
   "source": [
    "import csv"
   ]
  },
  {
   "cell_type": "code",
   "execution_count": 9,
   "id": "f1f720db",
   "metadata": {},
   "outputs": [
    {
     "data": {
      "text/plain": [
       "_io.TextIOWrapper"
      ]
     },
     "execution_count": 9,
     "metadata": {},
     "output_type": "execute_result"
    }
   ],
   "source": [
    "file = open('data.csv')\n",
    "type(file)"
   ]
  },
  {
   "cell_type": "code",
   "execution_count": 10,
   "id": "7389669a",
   "metadata": {},
   "outputs": [],
   "source": [
    "csvreader = csv.reader(file)"
   ]
  },
  {
   "cell_type": "code",
   "execution_count": 11,
   "id": "06a2b0dd",
   "metadata": {},
   "outputs": [
    {
     "data": {
      "text/plain": [
       "['Labels', 'Quotes']"
      ]
     },
     "execution_count": 11,
     "metadata": {},
     "output_type": "execute_result"
    }
   ],
   "source": [
    "header = []\n",
    "header = next(csvreader)\n",
    "header"
   ]
  },
  {
   "cell_type": "code",
   "execution_count": 24,
   "id": "ef97fd5a",
   "metadata": {},
   "outputs": [
    {
     "data": {
      "text/plain": [
       "['1',\n",
       " 'Technology brings convenience but often disconnects us from the natural world']"
      ]
     },
     "execution_count": 24,
     "metadata": {},
     "output_type": "execute_result"
    }
   ],
   "source": [
    "with open('data.csv', 'r') as file:\n",
    "    csvreader = csv.reader(file)\n",
    "    rows = []\n",
    "    for row in csvreader:\n",
    "        rows.append(row)\n",
    "row"
   ]
  },
  {
   "cell_type": "code",
   "execution_count": 25,
   "id": "49965527",
   "metadata": {},
   "outputs": [],
   "source": [
    "file.close()"
   ]
  },
  {
   "cell_type": "code",
   "execution_count": 26,
   "id": "4166610e",
   "metadata": {},
   "outputs": [
    {
     "name": "stdout",
     "output_type": "stream",
     "text": [
      "<class 'pandas.core.frame.DataFrame'>\n",
      "RangeIndex: 12 entries, 0 to 11\n",
      "Data columns (total 2 columns):\n",
      " #   Column  Non-Null Count  Dtype \n",
      "---  ------  --------------  ----- \n",
      " 0   Labels  12 non-null     int64 \n",
      " 1   Quotes  12 non-null     object\n",
      "dtypes: int64(1), object(1)\n",
      "memory usage: 320.0+ bytes\n"
     ]
    }
   ],
   "source": [
    "df.info()"
   ]
  },
  {
   "cell_type": "markdown",
   "id": "f20e7ac3",
   "metadata": {},
   "source": [
    "### 4. Pre-processing the text"
   ]
  },
  {
   "cell_type": "code",
   "execution_count": 27,
   "id": "9927b0d4",
   "metadata": {},
   "outputs": [],
   "source": [
    "y = df['Labels']\n",
    "X = df['Quotes']"
   ]
  },
  {
   "cell_type": "markdown",
   "id": "cb26d36c",
   "metadata": {},
   "source": [
    "### 5. Dataset Preparation"
   ]
  },
  {
   "cell_type": "code",
   "execution_count": 28,
   "id": "904f7b1c",
   "metadata": {},
   "outputs": [],
   "source": [
    "from sklearn.model_selection import train_test_split\n",
    "X_train, X_val, y_train, y_val = train_test_split(X, y, test_size=0.3)"
   ]
  },
  {
   "cell_type": "code",
   "execution_count": 29,
   "id": "be3c2748",
   "metadata": {},
   "outputs": [
    {
     "name": "stdout",
     "output_type": "stream",
     "text": [
      "(8,)\n",
      "(4,)\n",
      "(8,)\n",
      "(4,)\n"
     ]
    }
   ],
   "source": [
    "print(X_train.shape)\n",
    "print(X_val.shape)\n",
    "print(y_train.shape)\n",
    "print(y_val.shape)"
   ]
  },
  {
   "cell_type": "code",
   "execution_count": 30,
   "id": "ad944a3a",
   "metadata": {},
   "outputs": [
    {
     "data": {
      "text/plain": [
       "{'<oov>': 1,\n",
       " 'the': 2,\n",
       " 'is': 3,\n",
       " 'of': 4,\n",
       " 'nature': 5,\n",
       " 'you': 6,\n",
       " 'but': 7,\n",
       " 'into': 8,\n",
       " 'a': 9,\n",
       " 'will': 10}"
      ]
     },
     "execution_count": 30,
     "metadata": {},
     "output_type": "execute_result"
    }
   ],
   "source": [
    "# 4th step to be continue\n",
    "train_token = Tokenizer(num_words=100,oov_token='<oov>')\n",
    "train_token.fit_on_texts(X_train)\n",
    "word_index = train_token.word_index\n",
    "train_sequence = train_token.texts_to_sequences(X_train)\n",
    "dict(list(word_index.items())[0:10])"
   ]
  },
  {
   "cell_type": "code",
   "execution_count": 31,
   "id": "4f0dd856",
   "metadata": {},
   "outputs": [
    {
     "data": {
      "text/plain": [
       "63"
      ]
     },
     "execution_count": 31,
     "metadata": {},
     "output_type": "execute_result"
    }
   ],
   "source": [
    "vocab = len(train_token.word_index) + 1\n",
    "vocab"
   ]
  },
  {
   "cell_type": "code",
   "execution_count": 32,
   "id": "49ac855f",
   "metadata": {},
   "outputs": [
    {
     "data": {
      "text/plain": [
       "[28, 29, 8, 5, 30, 31, 6, 10, 32, 33, 34]"
      ]
     },
     "execution_count": 32,
     "metadata": {},
     "output_type": "execute_result"
    }
   ],
   "source": [
    "train_sequence[3]"
   ]
  },
  {
   "cell_type": "code",
   "execution_count": 33,
   "id": "d7b34a9d",
   "metadata": {},
   "outputs": [
    {
     "data": {
      "text/plain": [
       "array([41,  3, 11, 42, 12, 43,  2, 44,  7, 12, 45, 46, 47,  2, 48,  0,  0,\n",
       "        0,  0,  0,  0,  0,  0,  0,  0,  0,  0,  0,  0,  0,  0,  0,  0,  0,\n",
       "        0,  0,  0,  0,  0,  0,  0,  0,  0,  0,  0,  0,  0,  0,  0,  0,  0,\n",
       "        0,  0,  0,  0,  0,  0,  0,  0,  0,  0,  0,  0,  0,  0,  0,  0,  0,\n",
       "        0,  0,  0,  0,  0,  0,  0,  0,  0,  0,  0,  0,  0,  0,  0,  0,  0,\n",
       "        0,  0,  0,  0,  0,  0,  0,  0,  0,  0,  0,  0,  0,  0,  0])"
      ]
     },
     "execution_count": 33,
     "metadata": {},
     "output_type": "execute_result"
    }
   ],
   "source": [
    "train_padded = pad_sequences(train_sequence,maxlen=100,padding='post')\n",
    "train_padded[5]"
   ]
  },
  {
   "cell_type": "code",
   "execution_count": 34,
   "id": "4d148686",
   "metadata": {},
   "outputs": [
    {
     "data": {
      "text/plain": [
       "(8, 100)"
      ]
     },
     "execution_count": 34,
     "metadata": {},
     "output_type": "execute_result"
    }
   ],
   "source": [
    "train_padded.shape"
   ]
  },
  {
   "cell_type": "code",
   "execution_count": 35,
   "id": "c5ca4cae",
   "metadata": {},
   "outputs": [],
   "source": [
    "val_token = Tokenizer(num_words=500,oov_token='<oov>')\n",
    "val_token.fit_on_texts(X_val)\n",
    "val_index = val_token.word_index\n",
    "val_sequence = val_token.texts_to_sequences(X_val)"
   ]
  },
  {
   "cell_type": "code",
   "execution_count": 37,
   "id": "06a9a23d",
   "metadata": {},
   "outputs": [
    {
     "name": "stdout",
     "output_type": "stream",
     "text": [
      "The list doesn't have enough elements.\n"
     ]
    }
   ],
   "source": [
    "if len(val_sequence) > 4:\n",
    "    # Access the element at index 4\n",
    "    value = val_sequence[4]\n",
    "else:\n",
    "    # Handle the case where the list doesn't have enough elements\n",
    "    print(\"The list doesn't have enough elements.\")\n"
   ]
  },
  {
   "cell_type": "code",
   "execution_count": 38,
   "id": "f5861247",
   "metadata": {},
   "outputs": [],
   "source": [
    "val_padded = pad_sequences(val_sequence,maxlen=100,padding='post')"
   ]
  },
  {
   "cell_type": "markdown",
   "id": "f9c4a42b",
   "metadata": {},
   "source": [
    "### 6. Model Creation"
   ]
  },
  {
   "cell_type": "code",
   "execution_count": 40,
   "id": "a762ae48",
   "metadata": {},
   "outputs": [],
   "source": [
    "model = Sequential()\n",
    "# Embedding layer\n",
    "model.add(Embedding(300,70,input_length=100))\n",
    "model.add(SimpleRNN(70,activation='relu'))\n",
    "model.add(Dense('1',activation='sigmoid'))"
   ]
  },
  {
   "cell_type": "code",
   "execution_count": 41,
   "id": "ab2adc79",
   "metadata": {},
   "outputs": [],
   "source": [
    "model.compile(optimizer='adam',loss='binary_crossentropy',metrics=['accuracy'])"
   ]
  },
  {
   "cell_type": "code",
   "execution_count": 42,
   "id": "842fb857",
   "metadata": {},
   "outputs": [
    {
     "name": "stdout",
     "output_type": "stream",
     "text": [
      "Model: \"sequential\"\n",
      "_________________________________________________________________\n",
      " Layer (type)                Output Shape              Param #   \n",
      "=================================================================\n",
      " embedding (Embedding)       (None, 100, 70)           21000     \n",
      "                                                                 \n",
      " simple_rnn (SimpleRNN)      (None, 70)                9870      \n",
      "                                                                 \n",
      " dense (Dense)               (None, 1)                 71        \n",
      "                                                                 \n",
      "=================================================================\n",
      "Total params: 30941 (120.86 KB)\n",
      "Trainable params: 30941 (120.86 KB)\n",
      "Non-trainable params: 0 (0.00 Byte)\n",
      "_________________________________________________________________\n"
     ]
    }
   ],
   "source": [
    "model.summary()"
   ]
  },
  {
   "cell_type": "code",
   "execution_count": 43,
   "id": "7e4df7d5",
   "metadata": {},
   "outputs": [
    {
     "name": "stdout",
     "output_type": "stream",
     "text": [
      "Epoch 1/10\n",
      "1/1 - 3s - loss: 0.6932 - accuracy: 0.5000 - 3s/epoch - 3s/step\n",
      "Epoch 2/10\n",
      "1/1 - 0s - loss: 0.6932 - accuracy: 0.5000 - 33ms/epoch - 33ms/step\n",
      "Epoch 3/10\n",
      "1/1 - 0s - loss: 0.6932 - accuracy: 0.5000 - 25ms/epoch - 25ms/step\n",
      "Epoch 4/10\n",
      "1/1 - 0s - loss: 0.6932 - accuracy: 0.5000 - 25ms/epoch - 25ms/step\n",
      "Epoch 5/10\n",
      "1/1 - 0s - loss: 0.6932 - accuracy: 0.5000 - 35ms/epoch - 35ms/step\n",
      "Epoch 6/10\n",
      "1/1 - 0s - loss: 0.6932 - accuracy: 0.5000 - 31ms/epoch - 31ms/step\n",
      "Epoch 7/10\n",
      "1/1 - 0s - loss: 0.6932 - accuracy: 0.5000 - 45ms/epoch - 45ms/step\n",
      "Epoch 8/10\n",
      "1/1 - 0s - loss: 0.6931 - accuracy: 0.5000 - 32ms/epoch - 32ms/step\n",
      "Epoch 9/10\n",
      "1/1 - 0s - loss: 0.6932 - accuracy: 0.5000 - 30ms/epoch - 30ms/step\n",
      "Epoch 10/10\n",
      "1/1 - 0s - loss: 0.6932 - accuracy: 0.5000 - 27ms/epoch - 27ms/step\n"
     ]
    }
   ],
   "source": [
    "history=model.fit(train_padded,y_train,epochs=10,verbose=2,batch_size=15)"
   ]
  },
  {
   "cell_type": "code",
   "execution_count": 44,
   "id": "57a369ad",
   "metadata": {},
   "outputs": [
    {
     "name": "stdout",
     "output_type": "stream",
     "text": [
      "1/1 [==============================] - 0s 447ms/step - loss: 0.6931 - accuracy: 0.5000\n"
     ]
    },
    {
     "data": {
      "text/plain": [
       "[0.693149745464325, 0.5]"
      ]
     },
     "execution_count": 44,
     "metadata": {},
     "output_type": "execute_result"
    }
   ],
   "source": [
    "model.evaluate(val_padded,y_val)"
   ]
  },
  {
   "cell_type": "code",
   "execution_count": 45,
   "id": "54d3012b",
   "metadata": {},
   "outputs": [
    {
     "data": {
      "image/png": "[encoded data removed]",
      "text/plain": [
       "<Figure size 640x480 with 1 Axes>"
      ]
     },
     "metadata": {},
     "output_type": "display_data"
    }
   ],
   "source": [
    "plt.plot(history.history['accuracy'])\n",
    "plt.title('Model Accuracy')\n",
    "plt.ylabel('accuracy')\n",
    "plt.xlabel('epoch')\n",
    "plt.show()"
   ]
  },
  {
   "cell_type": "code",
   "execution_count": 46,
   "id": "9a03b28f",
   "metadata": {},
   "outputs": [
    {
     "data": {
      "image/png": "[encoded data removed]",
      "text/plain": [
       "<Figure size 640x480 with 1 Axes>"
      ]
     },
     "metadata": {},
     "output_type": "display_data"
    }
   ],
   "source": [
    "plt.plot(history.history['loss'])\n",
    "plt.title('Model Loss')\n",
    "plt.ylabel('loss')\n",
    "plt.xlabel('epoch')\n",
    "plt.show()"
   ]
  },
  {
   "cell_type": "code",
   "execution_count": 47,
   "id": "6f52c453",
   "metadata": {},
   "outputs": [],
   "source": [
    "text = df[\"Quotes\"]"
   ]
  },
  {
   "cell_type": "code",
   "execution_count": 48,
   "id": "834f868f",
   "metadata": {},
   "outputs": [],
   "source": [
    "#sent = [w.lower() for w in text.split() if not w in STOPWORDS]\n",
    "trail_token = Tokenizer()\n",
    "trail_token.fit_on_texts(text)\n",
    "#word_index = trail_token.word_index\n",
    "trail_seq = trail_token.texts_to_sequences(text)\n",
    "#dict(list(word_index.items())[0:10])\n",
    "trail_pad = pad_sequences(trail_seq,maxlen=100,padding='post')"
   ]
  },
  {
   "cell_type": "code",
   "execution_count": 49,
   "id": "1eb25ab1",
   "metadata": {},
   "outputs": [
    {
     "data": {
      "text/plain": [
       "array([[20, 21, 10, ...,  0,  0,  0],\n",
       "       [26, 27,  1, ...,  0,  0,  0],\n",
       "       [13, 29, 30, ...,  0,  0,  0],\n",
       "       ...,\n",
       "       [ 1, 66, 18, ...,  0,  0,  0],\n",
       "       [ 2,  4, 71, ...,  0,  0,  0],\n",
       "       [77, 78, 79, ...,  0,  0,  0]])"
      ]
     },
     "execution_count": 49,
     "metadata": {},
     "output_type": "execute_result"
    }
   ],
   "source": [
    "trail_pad"
   ]
  },
  {
   "cell_type": "markdown",
   "id": "e32d2f86",
   "metadata": {},
   "source": [
    "### Step-7:"
   ]
  },
  {
   "cell_type": "code",
   "execution_count": 50,
   "id": "c128289a",
   "metadata": {},
   "outputs": [
    {
     "name": "stdout",
     "output_type": "stream",
     "text": [
      "1/1 [==============================] - 0s 314ms/step\n",
      "[[0.49886647]\n",
      " [0.49886647]\n",
      " [0.49886647]\n",
      " [0.49886647]\n",
      " [0.49886647]\n",
      " [0.49886647]\n",
      " [0.49886647]\n",
      " [0.49886647]\n",
      " [0.49886647]\n",
      " [0.49886647]\n",
      " [0.49886647]\n",
      " [0.49886647]] negative\n"
     ]
    },
    {
     "name": "stderr",
     "output_type": "stream",
     "text": [
      "C:\\Users\\sweth\\AppData\\Local\\Temp\\ipykernel_11424\\1535703611.py:3: DeprecationWarning: In future, it will be an error for 'np.bool_' scalars to be interpreted as an index\n",
      "  print(res,label[np.argmax(trail_pad)>50])\n"
     ]
    }
   ],
   "source": [
    "res = model.predict(trail_pad)\n",
    "label = ['positive','negative']\n",
    "print(res,label[np.argmax(trail_pad)>50])"
   ]
  },
  {
   "cell_type": "markdown",
   "id": "fb7b9c02",
   "metadata": {},
   "source": [
    "### Step-8:\n",
    "\n",
    "### Model 2"
   ]
  },
  {
   "cell_type": "code",
   "execution_count": 51,
   "id": "57fd222a",
   "metadata": {},
   "outputs": [],
   "source": [
    "model1 = Sequential()\n",
    "# Embedding layer\n",
    "model1.add(Embedding(5000,64,input_length=100))\n",
    "model1.add(SimpleRNN(32,activation='tanh'))\n",
    "model1.add(Embedding(5000,32,input_length=100))\n",
    "model1.add(SimpleRNN(32,activation='tanh' ))\n",
    "model1.add(Dense('1',activation='sigmoid'))"
   ]
  },
  {
   "cell_type": "code",
   "execution_count": 52,
   "id": "634eb224",
   "metadata": {},
   "outputs": [
    {
     "name": "stdout",
     "output_type": "stream",
     "text": [
      "Model: \"sequential_1\"\n",
      "_________________________________________________________________\n",
      " Layer (type)                Output Shape              Param #   \n",
      "=================================================================\n",
      " embedding_1 (Embedding)     (None, 100, 64)           320000    \n",
      "                                                                 \n",
      " simple_rnn_1 (SimpleRNN)    (None, 32)                3104      \n",
      "                                                                 \n",
      " embedding_2 (Embedding)     (None, 32, 32)            160000    \n",
      "                                                                 \n",
      " simple_rnn_2 (SimpleRNN)    (None, 32)                2080      \n",
      "                                                                 \n",
      " dense_1 (Dense)             (None, 1)                 33        \n",
      "                                                                 \n",
      "=================================================================\n",
      "Total params: 485217 (1.85 MB)\n",
      "Trainable params: 485217 (1.85 MB)\n",
      "Non-trainable params: 0 (0.00 Byte)\n",
      "_________________________________________________________________\n"
     ]
    }
   ],
   "source": [
    "model1.summary()"
   ]
  },
  {
   "cell_type": "code",
   "execution_count": 53,
   "id": "b5996840",
   "metadata": {},
   "outputs": [],
   "source": [
    "model1.compile(optimizer='adam',loss='binary_crossentropy',metrics=['accuracy'])"
   ]
  },
  {
   "cell_type": "code",
   "execution_count": 54,
   "id": "4d3ab2ff",
   "metadata": {},
   "outputs": [
    {
     "name": "stdout",
     "output_type": "stream",
     "text": [
      "Epoch 1/10\n",
      "WARNING:tensorflow:Gradients do not exist for variables ['embedding_1/embeddings:0', 'simple_rnn_1/simple_rnn_cell/kernel:0', 'simple_rnn_1/simple_rnn_cell/recurrent_kernel:0', 'simple_rnn_1/simple_rnn_cell/bias:0'] when minimizing the loss. If you're using `model.compile()`, did you forget to provide a `loss` argument?\n",
      "WARNING:tensorflow:Gradients do not exist for variables ['embedding_1/embeddings:0', 'simple_rnn_1/simple_rnn_cell/kernel:0', 'simple_rnn_1/simple_rnn_cell/recurrent_kernel:0', 'simple_rnn_1/simple_rnn_cell/bias:0'] when minimizing the loss. If you're using `model.compile()`, did you forget to provide a `loss` argument?\n",
      "WARNING:tensorflow:Gradients do not exist for variables ['embedding_1/embeddings:0', 'simple_rnn_1/simple_rnn_cell/kernel:0', 'simple_rnn_1/simple_rnn_cell/recurrent_kernel:0', 'simple_rnn_1/simple_rnn_cell/bias:0'] when minimizing the loss. If you're using `model.compile()`, did you forget to provide a `loss` argument?\n",
      "WARNING:tensorflow:Gradients do not exist for variables ['embedding_1/embeddings:0', 'simple_rnn_1/simple_rnn_cell/kernel:0', 'simple_rnn_1/simple_rnn_cell/recurrent_kernel:0', 'simple_rnn_1/simple_rnn_cell/bias:0'] when minimizing the loss. If you're using `model.compile()`, did you forget to provide a `loss` argument?\n",
      "1/1 - 3s - loss: 0.6933 - accuracy: 0.5000 - 3s/epoch - 3s/step\n",
      "Epoch 2/10\n",
      "1/1 - 0s - loss: 0.6933 - accuracy: 0.5000 - 26ms/epoch - 26ms/step\n",
      "Epoch 3/10\n",
      "1/1 - 0s - loss: 0.6932 - accuracy: 0.5000 - 17ms/epoch - 17ms/step\n",
      "Epoch 4/10\n",
      "1/1 - 0s - loss: 0.6931 - accuracy: 0.5000 - 27ms/epoch - 27ms/step\n",
      "Epoch 5/10\n",
      "1/1 - 0s - loss: 0.6932 - accuracy: 0.5000 - 17ms/epoch - 17ms/step\n",
      "Epoch 6/10\n",
      "1/1 - 0s - loss: 0.6932 - accuracy: 0.5000 - 15ms/epoch - 15ms/step\n",
      "Epoch 7/10\n",
      "1/1 - 0s - loss: 0.6932 - accuracy: 0.5000 - 16ms/epoch - 16ms/step\n",
      "Epoch 8/10\n",
      "1/1 - 0s - loss: 0.6931 - accuracy: 0.5000 - 22ms/epoch - 22ms/step\n",
      "Epoch 9/10\n",
      "1/1 - 0s - loss: 0.6932 - accuracy: 0.5000 - 22ms/epoch - 22ms/step\n",
      "Epoch 10/10\n",
      "1/1 - 0s - loss: 0.6932 - accuracy: 0.5000 - 28ms/epoch - 28ms/step\n"
     ]
    }
   ],
   "source": [
    "history1=model1.fit(train_padded,y_train,epochs=10,verbose=2,batch_size=15)"
   ]
  },
  {
   "cell_type": "code",
   "execution_count": 55,
   "id": "ca712e03",
   "metadata": {},
   "outputs": [
    {
     "name": "stdout",
     "output_type": "stream",
     "text": [
      "1/1 [==============================] - 1s 524ms/step - loss: 0.6932 - accuracy: 0.5000\n"
     ]
    },
    {
     "data": {
      "text/plain": [
       "[0.6931710243225098, 0.5]"
      ]
     },
     "execution_count": 55,
     "metadata": {},
     "output_type": "execute_result"
    }
   ],
   "source": [
    "model1.evaluate(val_padded,y_val)"
   ]
  },
  {
   "cell_type": "code",
   "execution_count": 56,
   "id": "cb4d1198",
   "metadata": {},
   "outputs": [
    {
     "data": {
      "image/png": "[encoded data removed]",
      "text/plain": [
       "<Figure size 640x480 with 1 Axes>"
      ]
     },
     "metadata": {},
     "output_type": "display_data"
    }
   ],
   "source": [
    "plt.plot(history1.history['accuracy'])\n",
    "plt.title('Model Accuracy')\n",
    "plt.ylabel('accuracy')\n",
    "plt.xlabel('epoch')\n",
    "plt.show()"
   ]
  },
  {
   "cell_type": "code",
   "execution_count": 57,
   "id": "af3e2284",
   "metadata": {},
   "outputs": [
    {
     "data": {
      "image/png": "[encoded data removed]",
      "text/plain": [
       "<Figure size 640x480 with 1 Axes>"
      ]
     },
     "metadata": {},
     "output_type": "display_data"
    }
   ],
   "source": [
    "plt.plot(history1.history['loss'])\n",
    "plt.title('Model Loss')\n",
    "plt.ylabel('loss')\n",
    "plt.xlabel('epoch')\n",
    "plt.show()"
   ]
  },
  {
   "cell_type": "code",
   "execution_count": 58,
   "id": "f6d690c9",
   "metadata": {},
   "outputs": [
    {
     "name": "stdout",
     "output_type": "stream",
     "text": [
      "1/1 [==============================] - 0s 414ms/step\n",
      "[[0.49654844]\n",
      " [0.49654844]\n",
      " [0.49654844]\n",
      " [0.49654844]\n",
      " [0.49654844]\n",
      " [0.49654844]\n",
      " [0.49654844]\n",
      " [0.49654844]\n",
      " [0.49654844]\n",
      " [0.49654844]\n",
      " [0.49654844]\n",
      " [0.49654844]] negative\n"
     ]
    },
    {
     "name": "stderr",
     "output_type": "stream",
     "text": [
      "C:\\Users\\sweth\\AppData\\Local\\Temp\\ipykernel_11424\\2701450631.py:3: DeprecationWarning: In future, it will be an error for 'np.bool_' scalars to be interpreted as an index\n",
      "  print(res,label[np.argmax(trail_pad)>50])\n"
     ]
    }
   ],
   "source": [
    "res = model1.predict(trail_pad)\n",
    "label = ['positive','negative']\n",
    "print(res,label[np.argmax(trail_pad)>50])"
   ]
  },
  {
   "cell_type": "markdown",
   "id": "bad4fa69",
   "metadata": {},
   "source": [
    "### Model 3"
   ]
  },
  {
   "cell_type": "code",
   "execution_count": 59,
   "id": "5b23fc63",
   "metadata": {},
   "outputs": [],
   "source": [
    "model2 = Sequential()\n",
    "# Embedding layer\n",
    "model2.add(Embedding(4000,128,input_length=100))\n",
    "model2.add(SimpleRNN(64,activation='tanh'))\n",
    "model2.add(Embedding(4000,128,input_length=100))\n",
    "model2.add(SimpleRNN(64,activation='relu' ))\n",
    "model2.add(Embedding(4000,128,input_length=100))\n",
    "model2.add(SimpleRNN(64,activation='tanh' ))\n",
    "model2.add(Dense('1',activation='sigmoid'))"
   ]
  },
  {
   "cell_type": "code",
   "execution_count": 60,
   "id": "58b2e7b9",
   "metadata": {},
   "outputs": [
    {
     "name": "stdout",
     "output_type": "stream",
     "text": [
      "Model: \"sequential_2\"\n",
      "_________________________________________________________________\n",
      " Layer (type)                Output Shape              Param #   \n",
      "=================================================================\n",
      " embedding_3 (Embedding)     (None, 100, 128)          512000    \n",
      "                                                                 \n",
      " simple_rnn_3 (SimpleRNN)    (None, 64)                12352     \n",
      "                                                                 \n",
      " embedding_4 (Embedding)     (None, 64, 128)           512000    \n",
      "                                                                 \n",
      " simple_rnn_4 (SimpleRNN)    (None, 64)                12352     \n",
      "                                                                 \n",
      " embedding_5 (Embedding)     (None, 64, 128)           512000    \n",
      "                                                                 \n",
      " simple_rnn_5 (SimpleRNN)    (None, 64)                12352     \n",
      "                                                                 \n",
      " dense_2 (Dense)             (None, 1)                 65        \n",
      "                                                                 \n",
      "=================================================================\n",
      "Total params: 1573121 (6.00 MB)\n",
      "Trainable params: 1573121 (6.00 MB)\n",
      "Non-trainable params: 0 (0.00 Byte)\n",
      "_________________________________________________________________\n"
     ]
    }
   ],
   "source": [
    "model2.summary()"
   ]
  },
  {
   "cell_type": "code",
   "execution_count": 61,
   "id": "a104d745",
   "metadata": {},
   "outputs": [],
   "source": [
    "model2.compile(optimizer='adam',loss='binary_crossentropy',metrics=['accuracy'])"
   ]
  },
  {
   "cell_type": "code",
   "execution_count": 62,
   "id": "712b645f",
   "metadata": {},
   "outputs": [
    {
     "name": "stdout",
     "output_type": "stream",
     "text": [
      "Epoch 1/10\n",
      "WARNING:tensorflow:Gradients do not exist for variables ['embedding_3/embeddings:0', 'simple_rnn_3/simple_rnn_cell/kernel:0', 'simple_rnn_3/simple_rnn_cell/recurrent_kernel:0', 'simple_rnn_3/simple_rnn_cell/bias:0', 'embedding_4/embeddings:0', 'simple_rnn_4/simple_rnn_cell/kernel:0', 'simple_rnn_4/simple_rnn_cell/recurrent_kernel:0', 'simple_rnn_4/simple_rnn_cell/bias:0'] when minimizing the loss. If you're using `model.compile()`, did you forget to provide a `loss` argument?\n",
      "WARNING:tensorflow:Gradients do not exist for variables ['embedding_3/embeddings:0', 'simple_rnn_3/simple_rnn_cell/kernel:0', 'simple_rnn_3/simple_rnn_cell/recurrent_kernel:0', 'simple_rnn_3/simple_rnn_cell/bias:0', 'embedding_4/embeddings:0', 'simple_rnn_4/simple_rnn_cell/kernel:0', 'simple_rnn_4/simple_rnn_cell/recurrent_kernel:0', 'simple_rnn_4/simple_rnn_cell/bias:0'] when minimizing the loss. If you're using `model.compile()`, did you forget to provide a `loss` argument?\n",
      "WARNING:tensorflow:Gradients do not exist for variables ['embedding_3/embeddings:0', 'simple_rnn_3/simple_rnn_cell/kernel:0', 'simple_rnn_3/simple_rnn_cell/recurrent_kernel:0', 'simple_rnn_3/simple_rnn_cell/bias:0', 'embedding_4/embeddings:0', 'simple_rnn_4/simple_rnn_cell/kernel:0', 'simple_rnn_4/simple_rnn_cell/recurrent_kernel:0', 'simple_rnn_4/simple_rnn_cell/bias:0'] when minimizing the loss. If you're using `model.compile()`, did you forget to provide a `loss` argument?\n",
      "WARNING:tensorflow:Gradients do not exist for variables ['embedding_3/embeddings:0', 'simple_rnn_3/simple_rnn_cell/kernel:0', 'simple_rnn_3/simple_rnn_cell/recurrent_kernel:0', 'simple_rnn_3/simple_rnn_cell/bias:0', 'embedding_4/embeddings:0', 'simple_rnn_4/simple_rnn_cell/kernel:0', 'simple_rnn_4/simple_rnn_cell/recurrent_kernel:0', 'simple_rnn_4/simple_rnn_cell/bias:0'] when minimizing the loss. If you're using `model.compile()`, did you forget to provide a `loss` argument?\n",
      "1/1 - 3s - loss: 0.6957 - accuracy: 0.5000 - 3s/epoch - 3s/step\n",
      "Epoch 2/10\n",
      "1/1 - 0s - loss: 0.6996 - accuracy: 0.5000 - 42ms/epoch - 42ms/step\n",
      "Epoch 3/10\n",
      "1/1 - 0s - loss: 0.6949 - accuracy: 0.5000 - 31ms/epoch - 31ms/step\n",
      "Epoch 4/10\n",
      "1/1 - 0s - loss: 0.6932 - accuracy: 0.5000 - 50ms/epoch - 50ms/step\n",
      "Epoch 5/10\n",
      "1/1 - 0s - loss: 0.6944 - accuracy: 0.5000 - 37ms/epoch - 37ms/step\n",
      "Epoch 6/10\n",
      "1/1 - 0s - loss: 0.6947 - accuracy: 0.5000 - 37ms/epoch - 37ms/step\n",
      "Epoch 7/10\n",
      "1/1 - 0s - loss: 0.6938 - accuracy: 0.5000 - 47ms/epoch - 47ms/step\n",
      "Epoch 8/10\n",
      "1/1 - 0s - loss: 0.6932 - accuracy: 0.5000 - 45ms/epoch - 45ms/step\n",
      "Epoch 9/10\n",
      "1/1 - 0s - loss: 0.6935 - accuracy: 0.5000 - 52ms/epoch - 52ms/step\n",
      "Epoch 10/10\n",
      "1/1 - 0s - loss: 0.6940 - accuracy: 0.5000 - 49ms/epoch - 49ms/step\n"
     ]
    }
   ],
   "source": [
    "history2=model2.fit(train_padded,y_train,epochs=10,verbose=2,batch_size=15)"
   ]
  },
  {
   "cell_type": "code",
   "execution_count": 63,
   "id": "e46f60f1",
   "metadata": {},
   "outputs": [
    {
     "name": "stdout",
     "output_type": "stream",
     "text": [
      "1/1 [==============================] - 1s 815ms/step - loss: 0.6939 - accuracy: 0.5000\n"
     ]
    },
    {
     "data": {
      "text/plain": [
       "[0.6939154267311096, 0.5]"
      ]
     },
     "execution_count": 63,
     "metadata": {},
     "output_type": "execute_result"
    }
   ],
   "source": [
    "model2.evaluate(val_padded,y_val)"
   ]
  },
  {
   "cell_type": "code",
   "execution_count": 64,
   "id": "881ddce7",
   "metadata": {},
   "outputs": [
    {
     "data": {
      "image/png": "[encoded data removed]",
      "text/plain": [
       "<Figure size 640x480 with 1 Axes>"
      ]
     },
     "metadata": {},
     "output_type": "display_data"
    }
   ],
   "source": [
    "plt.plot(history2.history['accuracy'])\n",
    "plt.title('Model Accuracy')\n",
    "plt.ylabel('accuracy')\n",
    "plt.xlabel('epoch')\n",
    "plt.show()"
   ]
  },
  {
   "cell_type": "code",
   "execution_count": 65,
   "id": "2aeb0e29",
   "metadata": {},
   "outputs": [
    {
     "data": {
      "image/png": "[encoded data removed]",
      "text/plain": [
       "<Figure size 640x480 with 1 Axes>"
      ]
     },
     "metadata": {},
     "output_type": "display_data"
    }
   ],
   "source": [
    "plt.plot(history2.history['loss'])\n",
    "plt.title('Model Loss')\n",
    "plt.ylabel('loss')\n",
    "plt.xlabel('epoch')\n",
    "plt.show()"
   ]
  },
  {
   "cell_type": "code",
   "execution_count": 66,
   "id": "e0fb2f93",
   "metadata": {},
   "outputs": [
    {
     "name": "stdout",
     "output_type": "stream",
     "text": [
      "1/1 [==============================] - 1s 764ms/step\n",
      "[[0.4804086]\n",
      " [0.4804086]\n",
      " [0.4804086]\n",
      " [0.4804086]\n",
      " [0.4804086]\n",
      " [0.4804086]\n",
      " [0.4804086]\n",
      " [0.4804086]\n",
      " [0.4804086]\n",
      " [0.4804086]\n",
      " [0.4804086]\n",
      " [0.4804086]] negative\n"
     ]
    },
    {
     "name": "stderr",
     "output_type": "stream",
     "text": [
      "C:\\Users\\sweth\\AppData\\Local\\Temp\\ipykernel_11424\\479605851.py:3: DeprecationWarning: In future, it will be an error for 'np.bool_' scalars to be interpreted as an index\n",
      "  print(res,label[np.argmax(trail_pad)>50])\n"
     ]
    }
   ],
   "source": [
    "res = model2.predict(trail_pad)\n",
    "label = ['positive','negative']\n",
    "print(res,label[np.argmax(trail_pad)>50])"
   ]
  }
 ],
 "metadata": {
  "kernelspec": {
   "display_name": "Python 3 (ipykernel)",
   "language": "python",
   "name": "python3"
  },
  "language_info": {
   "codemirror_mode": {
    "name": "ipython",
    "version": 3
   },
   "file_extension": ".py",
   "mimetype": "text/x-python",
   "name": "python",
   "nbconvert_exporter": "python",
   "pygments_lexer": "ipython3",
   "version": "3.11.3"
  }
 },
 "nbformat": 4,
 "nbformat_minor": 5
}
